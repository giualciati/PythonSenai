{
  "nbformat": 4,
  "nbformat_minor": 0,
  "metadata": {
    "colab": {
      "provenance": [],
      "toc_visible": true,
      "authorship_tag": "ABX9TyOAWQ3oqMX8qu/PkLEIu+FR",
      "include_colab_link": true
    },
    "kernelspec": {
      "name": "python3",
      "display_name": "Python 3"
    },
    "language_info": {
      "name": "python"
    }
  },
  "cells": [
    {
      "cell_type": "markdown",
      "metadata": {
        "id": "view-in-github",
        "colab_type": "text"
      },
      "source": [
        "<a href=\"https://colab.research.google.com/github/giualciati/PythonSenai/blob/main/12Funcoes.ipynb\" target=\"_parent\"><img src=\"https://colab.research.google.com/assets/colab-badge.svg\" alt=\"Open In Colab\"/></a>"
      ]
    },
    {
      "cell_type": "markdown",
      "source": [
        "# Teoria\n"
      ],
      "metadata": {
        "id": "TnZxzBYnmeoq"
      }
    },
    {
      "cell_type": "code",
      "execution_count": 1,
      "metadata": {
        "colab": {
          "base_uri": "https://localhost:8080/"
        },
        "id": "rHbae-Y3mcWR",
        "outputId": "7f61987d-96e8-4355-d6be-33f4f936f9bb"
      },
      "outputs": [
        {
          "output_type": "stream",
          "name": "stdout",
          "text": [
            "10\n"
          ]
        }
      ],
      "source": [
        "# ESCOPO DE VARIÁVEIS\n",
        "\n",
        "\n",
        "# VARIÁVEL LOCAL (Função sem argumento e sem retorno)\n",
        "\n",
        "\n",
        "def funcaoLocal():\n",
        "    variavelLocal = 10\n",
        "    print(variavelLocal)\n",
        "\n",
        "\n",
        "funcaoLocal()\n",
        "# print(variavelLocal) # Gera erro\n"
      ]
    },
    {
      "cell_type": "code",
      "source": [
        "# VARIÁVEL GLOBAL (Função sem argumento e sem retorno)\n",
        "\n",
        "\n",
        "variavelGlobal = 5\n",
        "numero = 500\n",
        "\n",
        "\n",
        "def funcaoGlobal():\n",
        "    global variavelGlobal, numero\n",
        "    variavelGlobal += 1\n",
        "    print(variavelGlobal, numero)\n",
        "\n",
        "\n",
        "print(variavelGlobal)\n",
        "funcaoGlobal()\n",
        "print(variavelGlobal)\n",
        "funcaoGlobal()\n",
        "print(variavelGlobal)"
      ],
      "metadata": {
        "colab": {
          "base_uri": "https://localhost:8080/"
        },
        "id": "tmKJNIn0ozSB",
        "outputId": "eaf6a286-0b3c-42c6-fa20-ed6c31134354"
      },
      "execution_count": 5,
      "outputs": [
        {
          "output_type": "stream",
          "name": "stdout",
          "text": [
            "5\n",
            "6 500\n",
            "6\n",
            "7 500\n",
            "7\n"
          ]
        }
      ]
    },
    {
      "cell_type": "code",
      "source": [
        "# FUNÇÃO SEM ARGUMENTO/PARÂMETRO\n",
        "\n",
        "\n",
        "def saudacao():\n",
        "    print(\"Olá, mundo!\")\n",
        "\n",
        "saudacao()"
      ],
      "metadata": {
        "colab": {
          "base_uri": "https://localhost:8080/"
        },
        "id": "kWtx30z4oz2j",
        "outputId": "61befcbf-46db-42cb-ba43-31e79ed73473"
      },
      "execution_count": 6,
      "outputs": [
        {
          "output_type": "stream",
          "name": "stdout",
          "text": [
            "Olá, mundo!\n"
          ]
        }
      ]
    },
    {
      "cell_type": "code",
      "source": [
        "# FUNÇÃO COM PARÂMETRO\n",
        "\n",
        "\n",
        "def soma(x, y):\n",
        "    resultado = x+y\n",
        "    print(resultado)\n",
        "\n",
        "\n",
        "soma(4, 9)\n",
        "# print(soma(20, 10)-soma(5, 2)) # GERA ERRO!!!!!\n"
      ],
      "metadata": {
        "colab": {
          "base_uri": "https://localhost:8080/"
        },
        "id": "R7y51tklrikv",
        "outputId": "6fe1b6e9-58e4-472b-f670-458666be2ba0"
      },
      "execution_count": 7,
      "outputs": [
        {
          "output_type": "stream",
          "name": "stdout",
          "text": [
            "13\n"
          ]
        }
      ]
    },
    {
      "cell_type": "code",
      "source": [
        "# FUNÇÃO COM PARÂMETRO E RETORNO\n",
        "\n",
        "\n",
        "def soma(x, y):\n",
        "    resultado = x+y\n",
        "    return resultado\n",
        "\n",
        "\n",
        "print(soma(4, 3)-soma(1, 1))"
      ],
      "metadata": {
        "colab": {
          "base_uri": "https://localhost:8080/"
        },
        "id": "BjWWP-dPruHv",
        "outputId": "cd8b6f58-ceb4-4c6a-8b4e-72252729e329"
      },
      "execution_count": 9,
      "outputs": [
        {
          "output_type": "stream",
          "name": "stdout",
          "text": [
            "5\n"
          ]
        }
      ]
    },
    {
      "cell_type": "code",
      "source": [
        "# FUNÇÃO COM PARÂMETRO, RETORNO E VALOR PADRÃO\n",
        "\n",
        "\n",
        "def divisao(x=10, y=2):\n",
        "    resultado = x/y\n",
        "    return resultado\n",
        "\n",
        "\n",
        "print(soma(7, 10) - divisao(8, 7))"
      ],
      "metadata": {
        "colab": {
          "base_uri": "https://localhost:8080/"
        },
        "id": "2UZs3I4tuD5u",
        "outputId": "586f4217-2c11-40d8-dfe8-9d8d42b0af22"
      },
      "execution_count": 10,
      "outputs": [
        {
          "output_type": "stream",
          "name": "stdout",
          "text": [
            "15.857142857142858\n"
          ]
        }
      ]
    },
    {
      "cell_type": "code",
      "source": [
        "# EMPACOTAMENTO DE DADOS\n",
        "\n",
        "\n",
        "def mult(*numeros):\n",
        "    # print(type(numeros))\n",
        "    calculo=1\n",
        "    for i in numeros:\n",
        "        calculo*=i\n",
        "    return calculo\n",
        "\n",
        "\n",
        "print(mult(2, 5, 100))"
      ],
      "metadata": {
        "colab": {
          "base_uri": "https://localhost:8080/"
        },
        "id": "uECa5tzvvg4_",
        "outputId": "d2389a7d-1e34-43e4-a347-db061df9dc90"
      },
      "execution_count": 11,
      "outputs": [
        {
          "output_type": "stream",
          "name": "stdout",
          "text": [
            "1000\n"
          ]
        }
      ]
    },
    {
      "cell_type": "code",
      "source": [
        "# DESAFIO 01\n",
        "\"\"\"\n",
        "Crie uma função que calcule a soma de diversos números.\n",
        "\"\"\"\n",
        "\n",
        "def soma(*numeros):\n",
        "  calculo = 0\n",
        "  for i in numeros:\n",
        "    calculo += i\n",
        "  return calculo\n",
        "\n",
        "print(soma(2, 5, 6))"
      ],
      "metadata": {
        "colab": {
          "base_uri": "https://localhost:8080/"
        },
        "id": "4QlAMHLNxQMN",
        "outputId": "a2079489-ccb6-4aab-8d1d-2c8db693f2c0"
      },
      "execution_count": 18,
      "outputs": [
        {
          "output_type": "stream",
          "name": "stdout",
          "text": [
            "13\n"
          ]
        }
      ]
    },
    {
      "cell_type": "code",
      "source": [
        "# DESAFIO 02\n",
        "\"\"\"\n",
        "Faça um programa que receba um número inteiro de 1 a 10.\n",
        "Crie uma função que apresente o resultado da tabuada desse número.\n",
        "\"\"\"\n",
        "num = int(input(\"Digite um número inteiro: \"))\n",
        "\n",
        "def tabuada(num):\n",
        "  for i in range(1, 11):\n",
        "    print(f\"{i} x {num} = {i*num}\")\n",
        "\n",
        "tabuada(num)"
      ],
      "metadata": {
        "colab": {
          "base_uri": "https://localhost:8080/"
        },
        "id": "BTsYPKLOydR8",
        "outputId": "5a332a7a-87cb-4930-9623-92c57dba282c"
      },
      "execution_count": 47,
      "outputs": [
        {
          "output_type": "stream",
          "name": "stdout",
          "text": [
            "Digite um número inteiro: 8\n",
            "1 x 8 = 8\n",
            "2 x 8 = 16\n",
            "3 x 8 = 24\n",
            "4 x 8 = 32\n",
            "5 x 8 = 40\n",
            "6 x 8 = 48\n",
            "7 x 8 = 56\n",
            "8 x 8 = 64\n",
            "9 x 8 = 72\n",
            "10 x 8 = 80\n"
          ]
        }
      ]
    },
    {
      "cell_type": "code",
      "source": [
        "# DESAFIO 03 (simplificado)\n",
        "\"\"\"\n",
        "Crie uma função que retorne a saudação de acordo com o nome da pessoa e hora do dia.\n",
        "Ex.: Boa noite, Leandro!\n",
        "\n",
        "\n",
        "Configuração:\n",
        "06 e 12 = Bom dia\n",
        "12 e 18 = Boa tarde\n",
        "18 e 00 = Boa noite\n",
        "00 e 05 = Boa madrugada\n",
        "\"\"\"\n",
        "from datetime import datetime\n",
        "from zoneinfo import ZoneInfo\n",
        "\n",
        "def saudacao():\n",
        "  nome = input(\"Digite seu nome: \")\n",
        "  agora = datetime.now(ZoneInfo(\"America/Sao_Paulo\")).hour\n",
        "  if agora >= 6 and agora < 12:\n",
        "    print(f\"Bom dia, {nome}\")\n",
        "  elif agora >= 12 and agora < 18:\n",
        "    print(f\"Boa tarde, {nome}\")\n",
        "  elif agora >= 18 and agora < 24:\n",
        "    print(f\"Boa noite, {nome}\")\n",
        "  else:\n",
        "    print(f\"Boa madrugada, {nome}\")\n",
        "\n",
        "saudacao()"
      ],
      "metadata": {
        "colab": {
          "base_uri": "https://localhost:8080/"
        },
        "id": "LS1EYdDr91lG",
        "outputId": "ba0999e4-243c-4a0e-ab54-c54dc1bd04e4"
      },
      "execution_count": 48,
      "outputs": [
        {
          "output_type": "stream",
          "name": "stdout",
          "text": [
            "Digite seu nome: Giulia\n",
            "Boa tarde, Giulia\n"
          ]
        }
      ]
    }
  ]
}