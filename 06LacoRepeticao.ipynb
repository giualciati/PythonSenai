{
  "nbformat": 4,
  "nbformat_minor": 0,
  "metadata": {
    "colab": {
      "provenance": [],
      "toc_visible": true,
      "authorship_tag": "ABX9TyMBAlWBvffI+hFQif1Fkk5N",
      "include_colab_link": true
    },
    "kernelspec": {
      "name": "python3",
      "display_name": "Python 3"
    },
    "language_info": {
      "name": "python"
    }
  },
  "cells": [
    {
      "cell_type": "markdown",
      "metadata": {
        "id": "view-in-github",
        "colab_type": "text"
      },
      "source": [
        "<a href=\"https://colab.research.google.com/github/giualciati/PythonSenai/blob/main/06LacoRepeticao.ipynb\" target=\"_parent\"><img src=\"https://colab.research.google.com/assets/colab-badge.svg\" alt=\"Open In Colab\"/></a>"
      ]
    },
    {
      "cell_type": "markdown",
      "source": [
        "# Teoria"
      ],
      "metadata": {
        "id": "tmhYysGgyHQF"
      }
    },
    {
      "cell_type": "code",
      "execution_count": null,
      "metadata": {
        "colab": {
          "base_uri": "https://localhost:8080/"
        },
        "id": "6vCOOnm1yCVo",
        "outputId": "76e2ac57-eff7-4d6b-be3a-c5d350d5d465"
      },
      "outputs": [
        {
          "output_type": "stream",
          "name": "stdout",
          "text": [
            "1\n",
            "2\n",
            "3\n",
            "4\n",
            "5\n"
          ]
        }
      ],
      "source": [
        "for i in range(1, 6):\n",
        "  print(i, end=' ')"
      ]
    },
    {
      "cell_type": "code",
      "source": [
        "for i in range(1, 10, 2):\n",
        "  print(i, end=' ')"
      ],
      "metadata": {
        "colab": {
          "base_uri": "https://localhost:8080/"
        },
        "id": "Gxm82nH10Ruk",
        "outputId": "4daf8e7f-3837-478e-f4d4-f5e28bad8783"
      },
      "execution_count": null,
      "outputs": [
        {
          "output_type": "stream",
          "name": "stdout",
          "text": [
            "1 3 5 7 9 "
          ]
        }
      ]
    },
    {
      "cell_type": "code",
      "source": [
        "# EXEMPLO 03\n",
        "inicio, fim, salto = 5, 0, -1\n",
        "\n",
        "\n",
        "for i in range(inicio, fim, salto):\n",
        "    print(i, end=' ')"
      ],
      "metadata": {
        "colab": {
          "base_uri": "https://localhost:8080/"
        },
        "id": "htE-NAhp0_j7",
        "outputId": "7a1bbe51-c652-493e-a423-25253536b6e0"
      },
      "execution_count": null,
      "outputs": [
        {
          "output_type": "stream",
          "name": "stdout",
          "text": [
            "5 4 3 2 1 "
          ]
        }
      ]
    },
    {
      "cell_type": "code",
      "source": [
        "for i in range(5):\n",
        "    print(f\"{i+1} | SENAI\")"
      ],
      "metadata": {
        "colab": {
          "base_uri": "https://localhost:8080/"
        },
        "id": "Q-qyi-Y02EnK",
        "outputId": "ebb591fe-67fb-4abe-cddd-3b01c639f3bb"
      },
      "execution_count": null,
      "outputs": [
        {
          "output_type": "stream",
          "name": "stdout",
          "text": [
            "1 | SENAI\n",
            "2 | SENAI\n",
            "3 | SENAI\n",
            "4 | SENAI\n",
            "5 | SENAI\n"
          ]
        }
      ]
    },
    {
      "cell_type": "code",
      "source": [
        "texto = 'Python'\n",
        "\n",
        "\n",
        "for letra in texto:\n",
        "    # pass\n",
        "    print('\\033[31m', letra.upper(), end='   ')"
      ],
      "metadata": {
        "colab": {
          "base_uri": "https://localhost:8080/"
        },
        "id": "bsDMY7TF2rWb",
        "outputId": "c5881a77-46fc-4ed8-8c30-3f655f145bbd"
      },
      "execution_count": null,
      "outputs": [
        {
          "output_type": "stream",
          "name": "stdout",
          "text": [
            "\u001b[31m P   \u001b[31m Y   \u001b[31m T   \u001b[31m H   \u001b[31m O   \u001b[31m N   "
          ]
        }
      ]
    },
    {
      "cell_type": "code",
      "source": [
        "frase = ['PYTHON', 'É', 'FANTÁSTICO']\n",
        "\n",
        "\n",
        "for palavra in frase:\n",
        "    print(palavra)"
      ],
      "metadata": {
        "colab": {
          "base_uri": "https://localhost:8080/"
        },
        "id": "3287lA4s3sA6",
        "outputId": "402a06fb-5752-4887-ad68-9b299bf7bc4e"
      },
      "execution_count": null,
      "outputs": [
        {
          "output_type": "stream",
          "name": "stdout",
          "text": [
            "PYTHON\n",
            "É\n",
            "FANTÁSTICO\n"
          ]
        }
      ]
    },
    {
      "cell_type": "code",
      "source": [
        "\"\"\" continue pula a iteração \"\"\"\n",
        "\n",
        "\n",
        "lista = [1, 10, 20, 30, 40, 50]\n",
        "\n",
        "\n",
        "for numero in lista:\n",
        "    if numero == 30:\n",
        "        continue\n",
        "    print(numero, end=' ')"
      ],
      "metadata": {
        "colab": {
          "base_uri": "https://localhost:8080/"
        },
        "id": "Z0r21Duv4NYp",
        "outputId": "24ca3279-59ac-4e75-a89a-d762d34c07e2"
      },
      "execution_count": null,
      "outputs": [
        {
          "output_type": "stream",
          "name": "stdout",
          "text": [
            "1 10 20 40 50 "
          ]
        }
      ]
    },
    {
      "cell_type": "code",
      "source": [
        "\"\"\" break finaliza o laço \"\"\"\n",
        "\n",
        "\n",
        "for i in range(50):\n",
        "    if i >= 10:\n",
        "        break\n",
        "    print(i+1, end=' ')\n"
      ],
      "metadata": {
        "id": "ObpJwycF5XYh"
      },
      "execution_count": null,
      "outputs": []
    },
    {
      "cell_type": "code",
      "source": [
        "frase = ['PYTHON', 'É', 'FANTÁSTICO!']\n",
        "\n",
        "\n",
        "for i in range(len(frase)):\n",
        "    print(frase[i])\n"
      ],
      "metadata": {
        "colab": {
          "base_uri": "https://localhost:8080/"
        },
        "id": "gkHM0rZ-54oK",
        "outputId": "b2e00045-a6d9-406f-8a04-9f9b64d38a18"
      },
      "execution_count": null,
      "outputs": [
        {
          "output_type": "stream",
          "name": "stdout",
          "text": [
            "PYTHON\n",
            "É\n",
            "FANTÁSTICO!\n"
          ]
        }
      ]
    },
    {
      "cell_type": "code",
      "source": [
        "frase = ['PYTHON', 'É', 'FANTÁSTICO!']\n",
        "\n",
        "\n",
        "for i, palavra in enumerate(frase):\n",
        "    print(i, palavra)"
      ],
      "metadata": {
        "colab": {
          "base_uri": "https://localhost:8080/"
        },
        "id": "iMPIUd8W6uu4",
        "outputId": "613242d9-2a08-4149-d3d2-fe81955a12c9"
      },
      "execution_count": null,
      "outputs": [
        {
          "output_type": "stream",
          "name": "stdout",
          "text": [
            "0 PYTHON\n",
            "1 É\n",
            "2 FANTÁSTICO!\n"
          ]
        }
      ]
    },
    {
      "cell_type": "code",
      "source": [
        "for i in range(1, 11):\n",
        "    for j in range(1, 11):\n",
        "        print(f\"{i*j}\".rjust(3), end=' ')\n",
        "    print()"
      ],
      "metadata": {
        "colab": {
          "base_uri": "https://localhost:8080/"
        },
        "id": "K29Lvi2x7Gs5",
        "outputId": "182ace2b-2571-42e8-e687-5eab896f9bcd"
      },
      "execution_count": null,
      "outputs": [
        {
          "output_type": "stream",
          "name": "stdout",
          "text": [
            "  1   2   3   4   5   6   7   8   9  10 \n",
            "  2   4   6   8  10  12  14  16  18  20 \n",
            "  3   6   9  12  15  18  21  24  27  30 \n",
            "  4   8  12  16  20  24  28  32  36  40 \n",
            "  5  10  15  20  25  30  35  40  45  50 \n",
            "  6  12  18  24  30  36  42  48  54  60 \n",
            "  7  14  21  28  35  42  49  56  63  70 \n",
            "  8  16  24  32  40  48  56  64  72  80 \n",
            "  9  18  27  36  45  54  63  72  81  90 \n",
            " 10  20  30  40  50  60  70  80  90 100 \n"
          ]
        }
      ]
    },
    {
      "cell_type": "code",
      "source": [
        "for i in range(0, 11):\n",
        "    for j in range(0, 11):\n",
        "        print(f\"{i+j}\".rjust(3), end=' ')\n",
        "    print()"
      ],
      "metadata": {
        "colab": {
          "base_uri": "https://localhost:8080/"
        },
        "id": "2UpQ9Npo7Qvo",
        "outputId": "2a9b3063-3115-4140-940f-90e0db3875e9"
      },
      "execution_count": null,
      "outputs": [
        {
          "output_type": "stream",
          "name": "stdout",
          "text": [
            "  0   1   2   3   4   5   6   7   8   9  10 \n",
            "  1   2   3   4   5   6   7   8   9  10  11 \n",
            "  2   3   4   5   6   7   8   9  10  11  12 \n",
            "  3   4   5   6   7   8   9  10  11  12  13 \n",
            "  4   5   6   7   8   9  10  11  12  13  14 \n",
            "  5   6   7   8   9  10  11  12  13  14  15 \n",
            "  6   7   8   9  10  11  12  13  14  15  16 \n",
            "  7   8   9  10  11  12  13  14  15  16  17 \n",
            "  8   9  10  11  12  13  14  15  16  17  18 \n",
            "  9  10  11  12  13  14  15  16  17  18  19 \n",
            " 10  11  12  13  14  15  16  17  18  19  20 \n"
          ]
        }
      ]
    },
    {
      "cell_type": "markdown",
      "source": [
        "# Desafios"
      ],
      "metadata": {
        "id": "SCRryu8o81jR"
      }
    },
    {
      "cell_type": "code",
      "source": [
        "# DESAFIO 01\n",
        "\"\"\"\n",
        "Crie um programa que mostre na tela todos os números pares que estão\n",
        "no intervalo entre 1 e 50.\n",
        "\"\"\"\n",
        "for i in range(1, 51):\n",
        "  if i % 2 == 0:\n",
        "   print(i, end=' ')"
      ],
      "metadata": {
        "colab": {
          "base_uri": "https://localhost:8080/"
        },
        "id": "TPOoYNsq81Ho",
        "outputId": "547b10ec-5ad4-4c07-9d1f-3b3d230a3c33"
      },
      "execution_count": null,
      "outputs": [
        {
          "output_type": "stream",
          "name": "stdout",
          "text": [
            "2 4 6 8 10 12 14 16 18 20 22 24 26 28 30 32 34 36 38 40 42 44 46 48 "
          ]
        }
      ]
    },
    {
      "cell_type": "code",
      "source": [
        "# DESAFIO 02\n",
        "\"\"\"\n",
        "Faça um programa que calcule a soma entre todos os números ímpares\n",
        "que são múltiplos de três e que se encontram no intervalo de 1 até 500.\n",
        "\"\"\"\n",
        "soma = 0\n",
        "for i in range(1, 501):\n",
        "  if i % 3 == 0 and i % 2 != 0:\n",
        "   print(i, end=' ')\n",
        "   soma += i\n",
        "\n",
        "print(f\"\\nE sua soma total é de {soma:,}\")\n"
      ],
      "metadata": {
        "colab": {
          "base_uri": "https://localhost:8080/"
        },
        "id": "vE5lZgv1-cAI",
        "outputId": "ace9bc6d-755b-4938-e5ca-a7764b902898"
      },
      "execution_count": 2,
      "outputs": [
        {
          "output_type": "stream",
          "name": "stdout",
          "text": [
            "3 9 15 21 27 33 39 45 51 57 63 69 75 81 87 93 99 105 111 117 123 129 135 141 147 153 159 165 171 177 183 189 195 201 207 213 219 225 231 237 243 249 255 261 267 273 279 285 291 297 303 309 315 321 327 333 339 345 351 357 363 369 375 381 387 393 399 405 411 417 423 429 435 441 447 453 459 465 471 477 483 489 495 \n",
            "E sua soma total é de 20,667\n"
          ]
        }
      ]
    },
    {
      "cell_type": "code",
      "source": [
        "# DESAFIO 03\n",
        "\"\"\"\n",
        "Mostre a tabuada de um número que o usuário escolher.\n",
        "\"\"\"\n",
        "\n",
        "num = int(input(\"Digite um número inteiro para descobrir sua tabuada: \"))\n",
        "\n",
        "for i in range(1, 11):\n",
        "  print(f\"{num*i}\".rjust(3), end=' ')"
      ],
      "metadata": {
        "colab": {
          "base_uri": "https://localhost:8080/"
        },
        "id": "wUFDlFHJAFhr",
        "outputId": "65e7d548-49ad-4846-ff62-3d3ea73d5a8f"
      },
      "execution_count": 32,
      "outputs": [
        {
          "output_type": "stream",
          "name": "stdout",
          "text": [
            "Digite um número inteiro para descobrir sua tabuada: 3\n",
            "  3   6   9  12  15  18  21  24  27  30 "
          ]
        }
      ]
    },
    {
      "cell_type": "code",
      "source": [
        "# DESAFIO 04\n",
        "\"\"\"\n",
        "Faça um programa que mostre na tela uma contagem regressiva para\n",
        "o estouro de fogos de artifício, indo de 10 até 0, com uma pausa\n",
        "de 1 segundo entre eles.\n",
        "Utilizar a Biblioteca time | time.sleep(segundos)\n",
        "\"\"\"\n",
        "\n",
        "import time\n",
        "\n",
        "for i in range(10, 0, -1):\n",
        "    time.sleep(1)\n",
        "    print(i, end='... ')\n",
        "\n",
        "print(\"🎆🎆🎆🎆\")\n",
        "\n",
        "\n"
      ],
      "metadata": {
        "id": "v7X11_e7AIOv",
        "colab": {
          "base_uri": "https://localhost:8080/"
        },
        "outputId": "9f2cf633-638b-4f64-a178-cf1806fa57ad"
      },
      "execution_count": 10,
      "outputs": [
        {
          "output_type": "stream",
          "name": "stdout",
          "text": [
            "10... 9... 8... 7... 6... 5... 4... 3... 2... 1... 🎆🎆🎆🎆\n"
          ]
        }
      ]
    },
    {
      "cell_type": "code",
      "source": [
        "# DESAFIO 05\n",
        "\"\"\"\n",
        "Desenvolva um programa que leia seis números inteiros e mostre a soma apenas\n",
        "daqueles que forem pares. Se o valor digitado for ímpar desconsidere-o.\n",
        "\"\"\"\n",
        "soma = 0\n",
        "\n",
        "for i in range(6):\n",
        "  num = int(input(\"Digite um número inteiro: \"))\n",
        "  if num % 2 == 0:\n",
        "    soma += num\n",
        "\n",
        "print(\"A soma dos números pares é de: \", soma)\n",
        "\n",
        ""
      ],
      "metadata": {
        "colab": {
          "base_uri": "https://localhost:8080/"
        },
        "id": "7xko2Xh2d0Wi",
        "outputId": "a0709b70-9b0e-44ad-f50c-54f0f881f52a"
      },
      "execution_count": 23,
      "outputs": [
        {
          "output_type": "stream",
          "name": "stdout",
          "text": [
            "Digite um número inteiro: 2\n",
            "Digite um número inteiro: 3\n",
            "Digite um número inteiro: 9\n",
            "Digite um número inteiro: 1\n",
            "Digite um número inteiro: 5\n",
            "Digite um número inteiro: 7\n",
            "A soma dos números pares é de:  2\n"
          ]
        }
      ]
    },
    {
      "cell_type": "code",
      "source": [
        "# DESAFIO 06\n",
        "\"\"\"\n",
        "Desenvolva um programa que leia o primeiro termo e a razão de uma PA.\n",
        "No final, mostre os 10 primeiros termos dessa progressão.\n",
        "\"\"\"\n",
        "a1 = float(input(\"Digite o primeio termo da progressão: \"))\n",
        "r = float(input(\"Digite a razão: \"))\n",
        "\n",
        "for i in range(1, 11):\n",
        "  print(a1 , end=' ')\n",
        "  a1 += r\n",
        "\n"
      ],
      "metadata": {
        "colab": {
          "base_uri": "https://localhost:8080/"
        },
        "id": "cMHeSjEwd3Zq",
        "outputId": "9052c64f-ccb0-49a8-f44b-812b1192bb24"
      },
      "execution_count": 6,
      "outputs": [
        {
          "output_type": "stream",
          "name": "stdout",
          "text": [
            "Digite o primeio termo da progressão: 2\n",
            "Digite a razão: 2\n",
            "2.0 4.0 6.0 8.0 10.0 12.0 14.0 16.0 18.0 20.0 "
          ]
        }
      ]
    },
    {
      "cell_type": "code",
      "source": [
        "# DESAFIO 07\n",
        "\"\"\"\n",
        "Faça um programa que leia o peso de cinco pessoas.\n",
        "No final, mostre qual foi o maior e o menor peso lidos.\n",
        "\"\"\"\n",
        "\n",
        "maior = float('-inf')\n",
        "menor = float('inf')\n",
        "\n",
        "for i in range(5):\n",
        "  pessoa = float(input(\"Digite o peso: \"))\n",
        "  if pessoa > maior:\n",
        "    maior = pessoa\n",
        "  if pessoa < menor:\n",
        "    menor = pessoa\n",
        "print(f\"O maior peso é {maior} e o menor peso é {menor}\")\n",
        ""
      ],
      "metadata": {
        "colab": {
          "base_uri": "https://localhost:8080/"
        },
        "id": "5Uopc9ONd7Hi",
        "outputId": "86df357b-50d8-4764-9dcf-910fc04675e5"
      },
      "execution_count": 28,
      "outputs": [
        {
          "output_type": "stream",
          "name": "stdout",
          "text": [
            "Digite o peso: 100\n",
            "Digite o peso: 400\n",
            "Digite o peso: 700\n",
            "Digite o peso: 500\n",
            "Digite o peso: 900\n",
            "O maior peso é 900.0 e o menor peso é 100.0\n"
          ]
        }
      ]
    },
    {
      "cell_type": "code",
      "source": [
        "# DESAFIO 08\n",
        "\"\"\"\n",
        "Crie um programa que leia o ano de nascimento de sete pessoas. No final,\n",
        "mostre quantas pessoas ainda não atingiram a maioridade e quantas já são maiores.\n",
        "\"\"\"\n",
        "menor = 0\n",
        "maior = 0\n",
        "for i in range(7):\n",
        "  idade = int(input(\"Digite a idade: \"))\n",
        "  if idade < 18:\n",
        "    menor += 1\n",
        "  else:\n",
        "    maior += 1\n",
        "print(f\"{menor} pessoas ainda não atingiram a maioridade e {maior} pessoas são maiores.\")"
      ],
      "metadata": {
        "colab": {
          "base_uri": "https://localhost:8080/"
        },
        "id": "GjYDm246jwGw",
        "outputId": "f4cee270-7438-4d8d-872a-edd16b1d5e6e"
      },
      "execution_count": 8,
      "outputs": [
        {
          "output_type": "stream",
          "name": "stdout",
          "text": [
            "Digite a idade: 2\n",
            "Digite a idade: 4\n",
            "Digite a idade: 60\n",
            "Digite a idade: 17\n",
            "Digite a idade: 88\n",
            "Digite a idade: 26\n",
            "Digite a idade: 50\n",
            "3 pessoas ainda não atingiram a maioridade e 4 pessoas são maiores.\n"
          ]
        }
      ]
    },
    {
      "cell_type": "code",
      "source": [
        "# DESAFIO 09\n",
        "\"\"\"\n",
        "Desenvolva um programa que leia o nome, idade e sexo de 4 pessoas.\n",
        "No final  do programa mostre:\n",
        "    A média de idade do grupo\n",
        "    Qual é o nome do homem mais velho\n",
        "    Quantas mulheres têm menos de 20 anos\n",
        "\"\"\"\n",
        "soma = 0\n",
        "maior = 0\n",
        "menor = 0\n",
        "nome_maior = ''\n",
        "\n",
        "for i in range(1, 5):\n",
        "  nome = input(f\"Digite o {i}º nome: \")\n",
        "  idade = int(input(f\"Digite a {i}ª idade: \"))\n",
        "  sexo = input(f\"Digite o {i}º sexo: (M/F)\").lower()\n",
        "  if sexo == 'm' and idade > maior:\n",
        "    maior = idade\n",
        "    nome_maior = nome\n",
        "  if sexo == 'f' and idade < 20:\n",
        "    menor += 1\n",
        "  soma += idade\n",
        "print(f\"O homem mais velho do grupo é o {nome_maior}, há {menor} mulher(es) menor(es) de 20 anos e a média das idades é {soma/4}\")\n",
        "\n",
        "\n"
      ],
      "metadata": {
        "colab": {
          "base_uri": "https://localhost:8080/",
          "height": 356
        },
        "id": "qSRrwplOrvmV",
        "outputId": "099f0a07-7d93-42db-f1d9-e4b1f4880ab3"
      },
      "execution_count": 16,
      "outputs": [
        {
          "output_type": "error",
          "ename": "KeyboardInterrupt",
          "evalue": "Interrupted by user",
          "traceback": [
            "\u001b[0;31m---------------------------------------------------------------------------\u001b[0m",
            "\u001b[0;31mKeyboardInterrupt\u001b[0m                         Traceback (most recent call last)",
            "\u001b[0;32m/tmp/ipython-input-16-452927973.py\u001b[0m in \u001b[0;36m<cell line: 0>\u001b[0;34m()\u001b[0m\n\u001b[1;32m     13\u001b[0m \u001b[0;34m\u001b[0m\u001b[0m\n\u001b[1;32m     14\u001b[0m \u001b[0;32mfor\u001b[0m \u001b[0mi\u001b[0m \u001b[0;32min\u001b[0m \u001b[0mrange\u001b[0m\u001b[0;34m(\u001b[0m\u001b[0;36m1\u001b[0m\u001b[0;34m,\u001b[0m \u001b[0;36m5\u001b[0m\u001b[0;34m)\u001b[0m\u001b[0;34m:\u001b[0m\u001b[0;34m\u001b[0m\u001b[0;34m\u001b[0m\u001b[0m\n\u001b[0;32m---> 15\u001b[0;31m   \u001b[0mnome\u001b[0m \u001b[0;34m=\u001b[0m \u001b[0minput\u001b[0m\u001b[0;34m(\u001b[0m\u001b[0;34mf\"Digite o {i}º nome: \"\u001b[0m\u001b[0;34m)\u001b[0m\u001b[0;34m\u001b[0m\u001b[0;34m\u001b[0m\u001b[0m\n\u001b[0m\u001b[1;32m     16\u001b[0m   \u001b[0midade\u001b[0m \u001b[0;34m=\u001b[0m \u001b[0mint\u001b[0m\u001b[0;34m(\u001b[0m\u001b[0minput\u001b[0m\u001b[0;34m(\u001b[0m\u001b[0;34mf\"Digite a {i}ª idade: \"\u001b[0m\u001b[0;34m)\u001b[0m\u001b[0;34m)\u001b[0m\u001b[0;34m\u001b[0m\u001b[0;34m\u001b[0m\u001b[0m\n\u001b[1;32m     17\u001b[0m   \u001b[0msexo\u001b[0m \u001b[0;34m=\u001b[0m \u001b[0minput\u001b[0m\u001b[0;34m(\u001b[0m\u001b[0;34mf\"Digite o {i}º sexo: (M/F)\"\u001b[0m\u001b[0;34m)\u001b[0m\u001b[0;34m.\u001b[0m\u001b[0mlower\u001b[0m\u001b[0;34m(\u001b[0m\u001b[0;34m)\u001b[0m\u001b[0;34m\u001b[0m\u001b[0;34m\u001b[0m\u001b[0m\n",
            "\u001b[0;32m/usr/local/lib/python3.11/dist-packages/ipykernel/kernelbase.py\u001b[0m in \u001b[0;36mraw_input\u001b[0;34m(self, prompt)\u001b[0m\n\u001b[1;32m   1175\u001b[0m                 \u001b[0;34m\"raw_input was called, but this frontend does not support input requests.\"\u001b[0m\u001b[0;34m\u001b[0m\u001b[0;34m\u001b[0m\u001b[0m\n\u001b[1;32m   1176\u001b[0m             )\n\u001b[0;32m-> 1177\u001b[0;31m         return self._input_request(\n\u001b[0m\u001b[1;32m   1178\u001b[0m             \u001b[0mstr\u001b[0m\u001b[0;34m(\u001b[0m\u001b[0mprompt\u001b[0m\u001b[0;34m)\u001b[0m\u001b[0;34m,\u001b[0m\u001b[0;34m\u001b[0m\u001b[0;34m\u001b[0m\u001b[0m\n\u001b[1;32m   1179\u001b[0m             \u001b[0mself\u001b[0m\u001b[0;34m.\u001b[0m\u001b[0m_parent_ident\u001b[0m\u001b[0;34m[\u001b[0m\u001b[0;34m\"shell\"\u001b[0m\u001b[0;34m]\u001b[0m\u001b[0;34m,\u001b[0m\u001b[0;34m\u001b[0m\u001b[0;34m\u001b[0m\u001b[0m\n",
            "\u001b[0;32m/usr/local/lib/python3.11/dist-packages/ipykernel/kernelbase.py\u001b[0m in \u001b[0;36m_input_request\u001b[0;34m(self, prompt, ident, parent, password)\u001b[0m\n\u001b[1;32m   1217\u001b[0m             \u001b[0;32mexcept\u001b[0m \u001b[0mKeyboardInterrupt\u001b[0m\u001b[0;34m:\u001b[0m\u001b[0;34m\u001b[0m\u001b[0;34m\u001b[0m\u001b[0m\n\u001b[1;32m   1218\u001b[0m                 \u001b[0;31m# re-raise KeyboardInterrupt, to truncate traceback\u001b[0m\u001b[0;34m\u001b[0m\u001b[0;34m\u001b[0m\u001b[0m\n\u001b[0;32m-> 1219\u001b[0;31m                 \u001b[0;32mraise\u001b[0m \u001b[0mKeyboardInterrupt\u001b[0m\u001b[0;34m(\u001b[0m\u001b[0;34m\"Interrupted by user\"\u001b[0m\u001b[0;34m)\u001b[0m \u001b[0;32mfrom\u001b[0m \u001b[0;32mNone\u001b[0m\u001b[0;34m\u001b[0m\u001b[0;34m\u001b[0m\u001b[0m\n\u001b[0m\u001b[1;32m   1220\u001b[0m             \u001b[0;32mexcept\u001b[0m \u001b[0mException\u001b[0m\u001b[0;34m:\u001b[0m\u001b[0;34m\u001b[0m\u001b[0;34m\u001b[0m\u001b[0m\n\u001b[1;32m   1221\u001b[0m                 \u001b[0mself\u001b[0m\u001b[0;34m.\u001b[0m\u001b[0mlog\u001b[0m\u001b[0;34m.\u001b[0m\u001b[0mwarning\u001b[0m\u001b[0;34m(\u001b[0m\u001b[0;34m\"Invalid Message:\"\u001b[0m\u001b[0;34m,\u001b[0m \u001b[0mexc_info\u001b[0m\u001b[0;34m=\u001b[0m\u001b[0;32mTrue\u001b[0m\u001b[0;34m)\u001b[0m\u001b[0;34m\u001b[0m\u001b[0;34m\u001b[0m\u001b[0m\n",
            "\u001b[0;31mKeyboardInterrupt\u001b[0m: Interrupted by user"
          ]
        }
      ]
    },
    {
      "cell_type": "code",
      "source": [
        "# DESAFIO 10\n",
        "\"\"\"\n",
        "Faça um programa que leia um número inteiro e diga se ele é ou não um número primo.\n",
        ">1 só é divisível por ele mesmo\n",
        "\"\"\"\n",
        "\n",
        "num = int(input(\"Digite um número inteiro: \"))\n",
        "divisor = 0\n",
        "\n",
        "for i in range(1, 100):\n",
        "  if num % i == 0:\n",
        "    divisor += 1\n",
        "\n",
        "\n",
        "if divisor == 2:\n",
        "    print(\"É um número primo\")\n",
        "else:\n",
        "    print(\"Não é um número primo\")"
      ],
      "metadata": {
        "colab": {
          "base_uri": "https://localhost:8080/"
        },
        "id": "CMJwajPCrzFd",
        "outputId": "74cd9932-f46a-4dfe-8dd0-25098e9fc09a"
      },
      "execution_count": 28,
      "outputs": [
        {
          "output_type": "stream",
          "name": "stdout",
          "text": [
            "Digite um número inteiro: 10\n",
            "Não é um número primo\n"
          ]
        }
      ]
    }
  ]
}