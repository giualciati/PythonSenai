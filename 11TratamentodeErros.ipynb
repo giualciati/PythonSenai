{
  "nbformat": 4,
  "nbformat_minor": 0,
  "metadata": {
    "colab": {
      "provenance": [],
      "toc_visible": true,
      "authorship_tag": "ABX9TyNMdn8ntP0ILcaEJPdvx11G",
      "include_colab_link": true
    },
    "kernelspec": {
      "name": "python3",
      "display_name": "Python 3"
    },
    "language_info": {
      "name": "python"
    }
  },
  "cells": [
    {
      "cell_type": "markdown",
      "metadata": {
        "id": "view-in-github",
        "colab_type": "text"
      },
      "source": [
        "<a href=\"https://colab.research.google.com/github/giualciati/PythonSenai/blob/main/11TratamentodeErros.ipynb\" target=\"_parent\"><img src=\"https://colab.research.google.com/assets/colab-badge.svg\" alt=\"Open In Colab\"/></a>"
      ]
    },
    {
      "cell_type": "code",
      "execution_count": null,
      "metadata": {
        "id": "lQTy3ls2i5zD"
      },
      "outputs": [],
      "source": [
        "# EXEMPLO 01\n",
        "\n",
        "\n",
        "try:\n",
        "    numerador   = int(input(\"Digite o numerador: \"))\n",
        "    denominador = int(input(\"Digite o denominador: \"))\n",
        "    razao = numerador/denominador\n",
        "except Exception as erro:\n",
        "    print(f\"Erro encontrado: {erro}\")\n",
        "    print(f\"Erro encontrado: {erro.__class__}\")\n",
        "else:\n",
        "    print(razao)"
      ]
    },
    {
      "cell_type": "code",
      "source": [
        "# EXEMPLO 02\n",
        "\n",
        "\n",
        "try:\n",
        "    # Código que pode gerar erro\n",
        "    numero = int(input(\"Digite um número: \"))\n",
        "    resultado = 10 / numero\n",
        "except(ValueError, TypeError):\n",
        "    # Trata erros mencionados acima\n",
        "    print(\"Digite um número válido\")\n",
        "except(ZeroDivisionError):\n",
        "    # Trata erro mencionado acima\n",
        "    print(\"Não é possível dividir por zero\")\n",
        "else:\n",
        "    # Executa se não houver erro\n",
        "    print(f\"\\nResultado: {resultado}\")\n",
        "finally:\n",
        "    # Sempre executa\n",
        "    print(\"\\nEncerrando o programa...\")"
      ],
      "metadata": {
        "id": "cdi8UCmZjMwj"
      },
      "execution_count": null,
      "outputs": []
    },
    {
      "cell_type": "code",
      "source": [
        "# EXEMPLO 03\n",
        "\n",
        "\n",
        "try:\n",
        "    nota1 = float(input(\"Digite a 1ª nota: \"))\n",
        "    nota2 = float(input(\"Digite a 2ª nota: \"))\n",
        "    media = (nota1+nota2)/2\n",
        "except:\n",
        "    print(\"Deu ruim\")\n",
        "else:\n",
        "    if media < 5:\n",
        "        print(f\"\\nMédia: {media:,.1f}\")\n",
        "        print(\"Resultado: REPROVADO\")\n",
        "    elif media < 7:\n",
        "        print(f\"\\nMédia: {media:,.1f}\")\n",
        "        print(\"Resultado: RECUPERAÇÃO\")\n",
        "    else:\n",
        "        print(f\"\\nMédia: {media:,.1f}\")\n",
        "        print(\"Resultado: APROVADO\")"
      ],
      "metadata": {
        "id": "znwxEpHmjO7S"
      },
      "execution_count": null,
      "outputs": []
    },
    {
      "cell_type": "code",
      "source": [
        "# EXEMPLO 04\n",
        "\n",
        "\n",
        "import time\n",
        "from google.colab import output\n",
        "\n",
        "\n",
        "while True:\n",
        "    try:\n",
        "        output.clear()\n",
        "        nota1 = float(input(\"Digite a 1ª nota: \"))\n",
        "        nota2 = float(input(\"Digite a 2ª nota: \"))\n",
        "        media = (nota1+nota2)/2\n",
        "    except:\n",
        "        print(\"Deu ruim\")\n",
        "        time.sleep(3)\n",
        "        print()\n",
        "        continue\n",
        "    else:\n",
        "        if media < 5:\n",
        "            print(f\"\\nMédia: {media:,.1f}\")\n",
        "            print(\"Resultado: REPROVADO\")\n",
        "        elif media < 7:\n",
        "            print(f\"\\nMédia: {media:,.1f}\")\n",
        "            print(\"Resultado: RECUPERAÇÃO\")\n",
        "        else:\n",
        "            print(f\"\\nMédia: {media:,.1f}\")\n",
        "            print(\"Resultado: APROVADO\")\n",
        "        break"
      ],
      "metadata": {
        "id": "LUqfMTO9jTRS"
      },
      "execution_count": null,
      "outputs": []
    },
    {
      "cell_type": "code",
      "source": [],
      "metadata": {
        "id": "A6zwflS_jg1S"
      },
      "execution_count": null,
      "outputs": []
    }
  ]
}