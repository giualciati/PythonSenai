{
  "nbformat": 4,
  "nbformat_minor": 0,
  "metadata": {
    "colab": {
      "provenance": [],
      "toc_visible": true,
      "authorship_tag": "ABX9TyP/tkOlXnIgcEgQrTRiA25I",
      "include_colab_link": true
    },
    "kernelspec": {
      "name": "python3",
      "display_name": "Python 3"
    },
    "language_info": {
      "name": "python"
    }
  },
  "cells": [
    {
      "cell_type": "markdown",
      "metadata": {
        "id": "view-in-github",
        "colab_type": "text"
      },
      "source": [
        "<a href=\"https://colab.research.google.com/github/giualciati/PythonSenai/blob/main/07lacoRepeticao.ipynb\" target=\"_parent\"><img src=\"https://colab.research.google.com/assets/colab-badge.svg\" alt=\"Open In Colab\"/></a>"
      ]
    },
    {
      "cell_type": "markdown",
      "source": [
        "# Teoria\n"
      ],
      "metadata": {
        "id": "XNfC9-_FJIfh"
      }
    },
    {
      "cell_type": "code",
      "execution_count": null,
      "metadata": {
        "id": "3XoGq2E9JDXE"
      },
      "outputs": [],
      "source": [
        "i = 1\n",
        "while i <= 10:\n",
        "  print(i, end = ' ')\n",
        "  i += 1"
      ]
    },
    {
      "cell_type": "code",
      "source": [
        "i = 10\n",
        "while i >= 1:\n",
        "    print(i, end=' ')\n",
        "    i -= 1"
      ],
      "metadata": {
        "id": "-o2s9EzaKIBF"
      },
      "execution_count": null,
      "outputs": []
    },
    {
      "cell_type": "code",
      "source": [
        "i=0\n",
        "while i < 5:\n",
        "    i+=1\n",
        "    if i == 3:\n",
        "        print(\"Pulando a iteração 3\")\n",
        "        continue\n",
        "    print(i)\n",
        "else:\n",
        "    print(\"Fim do loop.\")"
      ],
      "metadata": {
        "id": "k0DqwrNPKLo9"
      },
      "execution_count": null,
      "outputs": []
    },
    {
      "cell_type": "code",
      "source": [
        "while True:\n",
        "    r = input(\"Digite (S) para sair ou (C) para continuar\\n\")\n",
        "    if r.upper() == 'S':\n",
        "        print(\"Saindo do loop...\")\n",
        "        break\n",
        "    print(\"\\nContinuando...\\n\")"
      ],
      "metadata": {
        "id": "pC7-8qZuKN0V"
      },
      "execution_count": null,
      "outputs": []
    },
    {
      "cell_type": "code",
      "source": [
        "while True:\n",
        "    r = input(\"Digite (S) para sair ou (C) para continuar\\n\").upper()\n",
        "    if r != 'S' and r != 'C':\n",
        "        print(\"\\nDeixa de besteira, só vale S e C! 👶\")\n",
        "        continue\n",
        "    if r == 'S':\n",
        "        print(\"Saindo do loop...\")\n",
        "        break\n",
        "    print(\"\\nContinuando...\\n\")"
      ],
      "metadata": {
        "id": "TmJFiWTGKP4t"
      },
      "execution_count": null,
      "outputs": []
    },
    {
      "cell_type": "code",
      "source": [
        "from google.colab import output\n",
        "import time\n",
        "\n",
        "\n",
        "while True:\n",
        "    time.sleep(3)\n",
        "    output.clear()\n",
        "    r = input(\"Digite (S) para sair ou (C) para continuar\\n\").upper()\n",
        "    if r != 'S' and r != 'C':\n",
        "        print(\"\\nDeixa de besteira, só vale S e C! 👶\")\n",
        "        continue\n",
        "    if r == 'S':\n",
        "        output.clear()\n",
        "        print(\"Saindo do loop...\")\n",
        "        break\n",
        "    print(\"\\nContinuando...\\n\")"
      ],
      "metadata": {
        "id": "bYvrDc08KRgN"
      },
      "execution_count": null,
      "outputs": []
    },
    {
      "cell_type": "markdown",
      "source": [
        "# Desafios\n"
      ],
      "metadata": {
        "id": "g5K8RYUFe2nH"
      }
    },
    {
      "cell_type": "code",
      "source": [
        "# DESAFIO 01\n",
        "\"\"\"\n",
        "Faça um programa que leia o sexo de uma pessoa, mas só aceite os\n",
        "valores ‘M’ ou ‘F’. Caso esteja errado, peça a digitação novamente até\n",
        "ter um valor correto.\n",
        "\"\"\"\n",
        "while True:\n",
        "    sexo = input(\"Digite o sexo (M/F): \").lower()\n",
        "    if sexo == 'f' or sexo == 'm':\n",
        "        print(\"Cadastro realizado com sucesso!\")\n",
        "        break\n",
        "    print(\"\\n\\033[31mSexo inválido...\\033[0m\")"
      ],
      "metadata": {
        "id": "G5hfpIG0e7uF"
      },
      "execution_count": null,
      "outputs": []
    },
    {
      "cell_type": "code",
      "source": [
        "# DESAFIO 01 v2\n",
        "\n",
        "\n",
        "from google.colab import output\n",
        "msg = False\n",
        "\n",
        "\n",
        "while True:\n",
        "    print(f\"\\033[1;4;31m{sexo}\\033[0m não é válido, digite novamente:\\n\\n\" if msg else \"\", end='')\n",
        "    sexo = input(\"Digite o sexo: (M/F): \").upper()\n",
        "    if sexo != 'M' and sexo != 'F':\n",
        "        msg = True\n",
        "        output.clear()\n",
        "        continue\n",
        "    output.clear()\n",
        "    print(f\"Sexo \\033[1;4;32m{sexo}\\033[0m cadastrado com sucesso!\")\n",
        "    break"
      ],
      "metadata": {
        "id": "99q3lrA2e8j8"
      },
      "execution_count": null,
      "outputs": []
    },
    {
      "cell_type": "code",
      "source": [
        "# DESAFIO 02\n",
        "\"\"\"\n",
        "Faça um programa onde o computador vai “pensar” em um número entre 1 a 10.\n",
        "O jogador vai tentar adivinhar até acertar, mostrando no final quantos\n",
        "palpites foram necessários para vencer.\n",
        "\"\"\"\n",
        "import random\n",
        "pc = random.randint(1, 10)\n",
        "palpites = 1\n",
        "\n",
        "\n",
        "while True:\n",
        "    pl = int(input(\"Digite um nº entre 1 e 10: \"))\n",
        "    if pc == pl:\n",
        "        print(f\"\\nVocê acertou com {palpites} palpites. 😁\")\n",
        "        break\n",
        "    print(\"\\033[31mVocê errou...\\033[0m 😥\")\n",
        "    palpites += 1"
      ],
      "metadata": {
        "id": "AzVZViOyfAtd"
      },
      "execution_count": null,
      "outputs": []
    },
    {
      "cell_type": "code",
      "source": [
        "# DESAFIO 03\n",
        "\"\"\"\n",
        "Crie um programa que leia dois valores e mostre um menu na tela:\n",
        "[1] Somar\n",
        "[2] Multiplicar\n",
        "[3] Maior\n",
        "[4] Novos Números\n",
        "[5] Sair do programa\n",
        "\n",
        "\n",
        "Seu programa deverá realizar a operação solicitada em cada caso.\n",
        "\"\"\"\n",
        "from google.colab import output\n",
        "while True:\n",
        "    valor1 = int(input(\"Digite o 1º valor: \"))\n",
        "    valor2 = int(input(\"Digite o 2º valor: \"))\n",
        "    menu = input(\"\"\"\n",
        "[1] Somar\n",
        "[2] Multiplicar\n",
        "[3] Maior\n",
        "[4] Novos Números\n",
        "[5] Sair do programa\n",
        "\n",
        "\n",
        "    \"\"\")\n",
        "\n",
        "\n",
        "    match menu:\n",
        "        case '1':\n",
        "            output.clear()\n",
        "            print(f\"Soma: {valor1} + {valor2} = {valor1+valor2}\")\n",
        "        case '2':\n",
        "            output.clear()\n",
        "            print(f\"Multiplicação: {valor1} x {valor2} = {valor1*valor2}\")\n",
        "        case '3':\n",
        "            output.clear()\n",
        "            print(f\"Maior entre {valor1} e {valor2}: {max(valor1, valor2)}\")\n",
        "        case '4':\n",
        "            output.clear()\n",
        "            print(f\"Escolha seus novos números: \")\n",
        "            continue\n",
        "        case '5':\n",
        "            output.clear()\n",
        "            print(f\"Você saiu do programa.\")\n",
        "            break\n",
        "        case _:\n",
        "            output.clear()\n",
        "            print(\"Opção inválida...\")"
      ],
      "metadata": {
        "id": "8XrZXCC3fDjd"
      },
      "execution_count": null,
      "outputs": []
    },
    {
      "cell_type": "code",
      "source": [
        "# DESAFIO 04\n",
        "\"\"\"\n",
        "Crie um programa que leia vários números inteiros pelo teclado. O\n",
        "programa só vai parar quando o usuário digitar o valor 999, que é a\n",
        "condição de parada. No final, mostre quantos números foram\n",
        "digitados e qual foi a soma entre eles (desconsiderando o 999).\n",
        "\"\"\"\n",
        "cont = 0\n",
        "soma = 0\n",
        "\n",
        "\n",
        "while True:\n",
        "    n = int(input(\"Digite um nº ou 999 para sair: \"))\n",
        "    if n == 999:\n",
        "        break\n",
        "    soma += n\n",
        "    cont += 1\n",
        "\n",
        "\n",
        "print(f\"\\nVocê digitou {cont} números e a soma entre eles foi: {soma}.\")"
      ],
      "metadata": {
        "id": "UqjA3h0TfGD9"
      },
      "execution_count": null,
      "outputs": []
    },
    {
      "cell_type": "code",
      "source": [
        "# DESAFIO 05\n",
        "\"\"\"\n",
        "Crie um programa que leia vários números inteiros pelo teclado. No\n",
        "final da execução, mostre a média entre todos os valores e qual foi o\n",
        "maior e o menor valores lidos. O programa deve perguntar ao usuário\n",
        "se ele quer ou não continuar a digitar valores\n",
        "*Novos métodos para maior e menor (max/min) exemplo:\n",
        "print(max(20, 4, 89, 2))\n",
        "print(min(20, 4, 89, 2))\n",
        "\"\"\"\n",
        "cont = 0\n",
        "soma = 0\n",
        "maior = float('-inf')\n",
        "menor = float('inf')\n",
        "\n",
        "\n",
        "while True:\n",
        "    n = int(input(\"Digite um número: \"))\n",
        "    soma += n\n",
        "    cont += 1\n",
        "    maior = max(maior, n)\n",
        "    menor = min(menor, n)\n",
        "    r = input(\"\\nDeseja continuar? (S/N): \").upper()\n",
        "    if r == 'N':\n",
        "        break\n",
        "\n",
        "\n",
        "print(f\"\\nMédia: {soma/cont:,.1f}\")\n",
        "print(f\"Maior: {maior}\")\n",
        "print(f\"Menor: {menor}\")\n"
      ],
      "metadata": {
        "id": "-h8jOpKrfI0V"
      },
      "execution_count": null,
      "outputs": []
    },
    {
      "cell_type": "code",
      "source": [
        "# DESAFIO 06\n",
        "\"\"\"\n",
        "Escreva um programa que leia um número n inteiro qualquer e mostre\n",
        "na tela os n primeiros elementos de uma sequência de Fibonacci.\n",
        "Exemplo:\n",
        "\n",
        "\n",
        "0 –> 1 –> 1 –> 2 –> 3 –> 5 –> 8\n",
        "\"\"\"\n",
        "anterior = 0\n",
        "atual = 1\n",
        "fibo = 0\n",
        "i = 0\n",
        "num = int(input(\"Digite uma quantidade para sequência Fibonacci: \"))\n",
        "while i < num:\n",
        "    print(fibo, end=' ')\n",
        "    fibo=atual+anterior\n",
        "    anterior=atual\n",
        "    atual=fibo\n",
        "    i+=1"
      ],
      "metadata": {
        "id": "YRqMNojVfMq9"
      },
      "execution_count": null,
      "outputs": []
    },
    {
      "cell_type": "code",
      "source": [
        "# DESAFIO 06 v2\n",
        "\n",
        "\n",
        "anterior = 0\n",
        "atual    = 1\n",
        "fibo     = 0\n",
        "i        = 1\n",
        "seqFibo  = '0 -> 1 '\n",
        "numero   = int(input(\"Digite uma quantidade para sequência Fibonacci: \"))\n",
        "while i <= numero-2:\n",
        "    fibo     = anterior+atual\n",
        "    seqFibo += f'-> {fibo} '\n",
        "    anterior = atual\n",
        "    atual    = fibo\n",
        "    i+=1\n"
      ],
      "metadata": {
        "id": "VXXMETFxfO4d"
      },
      "execution_count": null,
      "outputs": []
    },
    {
      "cell_type": "code",
      "source": [
        "############ EXEMPLO FORCA PROFESSOR #################\n",
        "\n",
        "\n",
        "import random\n",
        "from google.colab import output\n",
        "\n",
        "\n",
        "def boneco(fase):\n",
        "    match fase:\n",
        "        case 1:\n",
        "            print(\"\"\"\n",
        "            _______\n",
        "            |     |\n",
        "            |\n",
        "            |\n",
        "            |\n",
        "            |\n",
        "            |\n",
        "            _________________\n",
        "            \"\"\")\n",
        "        case 2:\n",
        "            print(\"\"\"\n",
        "            _______\n",
        "            |     |\n",
        "            |    (_)\n",
        "            |\n",
        "            |\n",
        "            |\n",
        "            |\n",
        "            _________________\n",
        "            \"\"\")\n",
        "        case 3:\n",
        "            print(\"\"\"\n",
        "            _______\n",
        "            |     |\n",
        "            |    (_)\n",
        "            |     |\n",
        "            |     |\n",
        "            |\n",
        "            |\n",
        "            _________________\n",
        "            \"\"\")\n",
        "        case 4:\n",
        "            print(\"\"\"\n",
        "            _______\n",
        "            |     |\n",
        "            |    (_)\n",
        "            |    \\|\n",
        "            |     |\n",
        "            |\n",
        "            |\n",
        "            _________________\n",
        "            \"\"\")\n",
        "        case 5:\n",
        "            print(\"\"\"\n",
        "            _______\n",
        "            |     |\n",
        "            |    (_)\n",
        "            |    \\|/\n",
        "            |     |\n",
        "            |\n",
        "            |\n",
        "            _________________\n",
        "            \"\"\")\n",
        "        case 6:\n",
        "            print(\"\"\"\n",
        "            _______\n",
        "            |     |\n",
        "            |    (_)\n",
        "            |    \\|/\n",
        "            |     |\n",
        "            |    /\n",
        "            |\n",
        "            _________________\n",
        "            \"\"\")\n",
        "        case 7:\n",
        "            print(\"\"\"\n",
        "            _______\n",
        "            |     |\n",
        "            |    (_)\n",
        "            |    \\|/\n",
        "            |     |\n",
        "            |    / \\\\\n",
        "            |\n",
        "            _________________\n",
        "            \"\"\")\n",
        "\n",
        "\n",
        "while True:\n",
        "    if input(\"N para jogar, outra tecla para sair\\n\").upper() != 'N':\n",
        "        print(\"\\nOK, até mais!\")\n",
        "        break\n",
        "    if len(palpites) > 0:\n",
        "        palpites.clear()\n",
        "    sorteio = [\n",
        "        {'palavra': 'PARANAPIACABA', 'dica': 'Cidade turística de São Paulo'},\n",
        "        {'palavra': 'CARRO', 'dica': 'Possui chassis'}\n",
        "    ]\n",
        "    sortear = random.randint(0, len(sorteio)-1)\n",
        "    palavra = sorteio[sortear]['palavra']\n",
        "    dica = sorteio[sortear]['dica']\n",
        "    palpites = []\n",
        "    forca = list('_' for x in range(len(palavra)))\n",
        "\n",
        "\n",
        "    while True:\n",
        "        output.clear()\n",
        "        print(\"Dica:\", dica)\n",
        "        print()\n",
        "        print(\"Palpites: \", end=\" \")\n",
        "        print()\n",
        "\n",
        "\n",
        "        for l in palpites:\n",
        "            print(l, end=' ')\n",
        "        print()\n",
        "        boneco(len(palpites)+1)\n",
        "        print()\n",
        "        for l in forca:\n",
        "            print(l, end=' ')\n",
        "        print()\n",
        "        if forca.count('_') == 0:\n",
        "            print(\"Fim\")\n",
        "            break\n",
        "\n",
        "\n",
        "        print()\n",
        "        if len(palpites) == 6:\n",
        "            print()\n",
        "            print(\" MORREU \".center(40, '#'))\n",
        "            break\n",
        "        palpite = input(\"Digite uma letra: \").upper()\n",
        "        if palpite not in palavra:\n",
        "                palpites.append(palpite)\n",
        "                print(\"Errou\")\n",
        "                continue\n",
        "        for i, letra in enumerate(palavra):\n",
        "            if palpite == letra:\n",
        "                forca[i] = palpite"
      ],
      "metadata": {
        "id": "h3hAI0KZfQnt"
      },
      "execution_count": null,
      "outputs": []
    }
  ]
}