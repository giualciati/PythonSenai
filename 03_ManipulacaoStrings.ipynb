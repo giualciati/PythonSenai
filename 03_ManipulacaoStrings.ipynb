{
  "nbformat": 4,
  "nbformat_minor": 0,
  "metadata": {
    "colab": {
      "provenance": [],
      "authorship_tag": "ABX9TyP2d3OwOibzhLY9Cxmq7Z9I",
      "include_colab_link": true
    },
    "kernelspec": {
      "name": "python3",
      "display_name": "Python 3"
    },
    "language_info": {
      "name": "python"
    }
  },
  "cells": [
    {
      "cell_type": "markdown",
      "metadata": {
        "id": "view-in-github",
        "colab_type": "text"
      },
      "source": [
        "<a href=\"https://colab.research.google.com/github/giualciati/PythonSenai/blob/main/03_ManipulacaoStrings.ipynb\" target=\"_parent\"><img src=\"https://colab.research.google.com/assets/colab-badge.svg\" alt=\"Open In Colab\"/></a>"
      ]
    },
    {
      "cell_type": "code",
      "execution_count": 1,
      "metadata": {
        "colab": {
          "base_uri": "https://localhost:8080/"
        },
        "id": "LZVQRHLsac_D",
        "outputId": "caec3516-77d7-420c-e69e-c563076b06a7"
      },
      "outputs": [
        {
          "output_type": "stream",
          "name": "stdout",
          "text": [
            "d\n",
            "Python\n",
            "Pto\n",
            "Curso\n",
            "Python\n",
            "nohtyP ed osruC\n",
            "n\n"
          ]
        }
      ],
      "source": [
        "# FATIAMENTO DE STRINGS\n",
        "\n",
        "\n",
        "texto = \"Curso de Python\"\n",
        "\n",
        "\n",
        "print(texto[6])          # 7º caracterer\n",
        "print(texto[9:15])       # 10º ao 15º caracterer\n",
        "print(texto[9:15:2])     # 10º ao 15º caracterer de 2 em 2\n",
        "print(texto[:5])         # Até o 5º caracterer\n",
        "print(texto[9:])         # 10º caracterer em diante\n",
        "print(texto[::-1])       # Inverter o texto\n",
        "print(texto[-1])         # Último caracter"
      ]
    },
    {
      "cell_type": "code",
      "source": [
        "# ANÁLISE DE STRINGS\n",
        "\n",
        "\n",
        "frase = \"SENAI Ary Torres\"\n",
        "\n",
        "\n",
        "# tamanho da string\n",
        "print(len(frase))\n",
        "\n",
        "\n",
        "# contar caracteres\n",
        "print(frase.count('n'))\n",
        "\n",
        "\n",
        "# encontrar índice (retorna -1 se não encontrar)\n",
        "print(frase.find('z'))\n",
        "\n",
        "\n",
        "# encontrar índice (a partir da direita)\n",
        "print(frase.rfind('s'))\n",
        "\n",
        "\n",
        "# encontrar índice (gera erro se não encontrar)\n",
        "print(frase.index('r'))\n",
        "\n",
        "\n",
        "# verificar pertinência\n",
        "print('Ary' in frase)"
      ],
      "metadata": {
        "colab": {
          "base_uri": "https://localhost:8080/"
        },
        "id": "xPReVUxpam1S",
        "outputId": "cf71ea73-6258-44be-fe20-5ebb711cc2b2"
      },
      "execution_count": 2,
      "outputs": [
        {
          "output_type": "stream",
          "name": "stdout",
          "text": [
            "16\n",
            "0\n",
            "-1\n",
            "15\n",
            "7\n",
            "True\n"
          ]
        }
      ]
    },
    {
      "cell_type": "code",
      "source": [
        "# TRANSFORMAÇÃO DE STRINGS\n",
        "\n",
        "\n",
        "# maiúscula\n",
        "print(frase.upper())\n",
        "\n",
        "\n",
        "# minúscula\n",
        "print(frase.lower())\n",
        "\n",
        "\n",
        "# primeira da frase em maiúscula\n",
        "print(frase.capitalize())\n",
        "\n",
        "\n",
        "# primeira letra de cada palavra em maiúscula\n",
        "print(frase.title())\n"
      ],
      "metadata": {
        "colab": {
          "base_uri": "https://localhost:8080/"
        },
        "id": "ehquBUkIaq3y",
        "outputId": "3a46ca8d-4ea6-4250-c2e9-3d93a0ebd336"
      },
      "execution_count": 3,
      "outputs": [
        {
          "output_type": "stream",
          "name": "stdout",
          "text": [
            "SENAI ARY TORRES\n",
            "senai ary torres\n",
            "Senai ary torres\n",
            "Senai Ary Torres\n"
          ]
        }
      ]
    },
    {
      "cell_type": "code",
      "source": [
        "\n",
        "# TRANSFORMAÇÃO DE STRINGS 2\n",
        "\n",
        "\n",
        "# substituir palavras\n",
        "print(frase.replace('SENAI', 'ESCOLA'))\n",
        "print(frase)\n",
        "frase = frase.replace('SENAI', 'ESCOLA')\n",
        "print(frase)\n",
        "\n",
        "\n",
        "frase2 = \"   oi    SENAI   Ary Torres oi  \"\n",
        "\n",
        "\n",
        "# retirada/limpeza\n",
        "print(frase2.strip())\n",
        "frase2 = frase2.strip() # limpar espaços antes e depois\n",
        "\n",
        "\n",
        "print(frase2.strip('oi'))\n",
        "\n",
        "\n",
        "url = 'https://google.com/h'\n",
        "print(url.rstrip('h'))\n",
        "\n",
        "\n",
        "print(url.lstrip('https://'))"
      ],
      "metadata": {
        "id": "fFsN6yP8atFy"
      },
      "execution_count": null,
      "outputs": []
    },
    {
      "cell_type": "code",
      "source": [
        "# JUNÇÃO E DIVISÃO DE STRINGS\n",
        "\n",
        "\n",
        "texto = \"SENAI Ary Torres\"\n",
        "\n",
        "\n",
        "# juntar caracteres com delimitador\n",
        "print('  '.join(texto))\n",
        "\n",
        "\n",
        "# dividir palavras em lista\n",
        "print(texto.split())\n",
        "print(texto.split()[0])   # primeira palavra\n",
        "print(texto.split()[-1])  # última palavra\n",
        "print(texto.split()[1])\n",
        "\n",
        "\n",
        "lista = texto.split()\n",
        "print(', '.join(lista))"
      ],
      "metadata": {
        "colab": {
          "base_uri": "https://localhost:8080/"
        },
        "id": "bQQIhqS6a0Bl",
        "outputId": "f2c1651d-08fc-4c64-d749-b7b7efb96904"
      },
      "execution_count": 6,
      "outputs": [
        {
          "output_type": "stream",
          "name": "stdout",
          "text": [
            "S  E  N  A  I     A  r  y     T  o  r  r  e  s\n",
            "['SENAI', 'Ary', 'Torres']\n",
            "SENAI\n",
            "Torres\n",
            "Ary\n",
            "SENAI, Ary, Torres\n"
          ]
        }
      ]
    },
    {
      "cell_type": "code",
      "source": [
        "# EXEMPLO DE SANITIZAÇÃO DE FRASE\n",
        "\n",
        "\n",
        "frase2 = \"   oi    SENAI   Ary Torres oi  \".strip()\n",
        "frase2 = frase2.strip('oi')\n",
        "frase2 = frase2.split()\n",
        "frase2 = ' '.join(frase2)\n",
        "print(frase2)\n",
        "print(type(frase2))"
      ],
      "metadata": {
        "colab": {
          "base_uri": "https://localhost:8080/"
        },
        "id": "LaGj8nb8a1wl",
        "outputId": "3fa5775c-d07c-410a-dd47-92fc99f84149"
      },
      "execution_count": 12,
      "outputs": [
        {
          "output_type": "stream",
          "name": "stdout",
          "text": [
            "SENAI Ary Torres\n",
            "<class 'str'>\n"
          ]
        }
      ]
    },
    {
      "cell_type": "code",
      "source": [
        "# EXEMPLO DE SANITIZAÇÃO DE FRASE v2\n",
        "frase2 = \"   oi    SENAI   Ary Torres oi  \"\n",
        "\n",
        "\n",
        "frase2 = ' '.join(\"   oi    SENAI   Ary Torres oi  \".strip().strip('oi').split())\n",
        "print(frase2)"
      ],
      "metadata": {
        "id": "xM0dcNcTa3VF"
      },
      "execution_count": null,
      "outputs": []
    },
    {
      "cell_type": "code",
      "source": [
        "# EXEMPLO DE SANITIZAÇÃO DE FRASE v3\n",
        "frase2 = \"   oi    SENAI   Ary Torres oi  \"\n",
        "\n",
        "\n",
        "print(' '.join(\"   oi    SENAI   Ary Torres oi  \".strip().strip('oi').upper().split()))"
      ],
      "metadata": {
        "id": "OaekV918a5hd"
      },
      "execution_count": null,
      "outputs": []
    },
    {
      "cell_type": "code",
      "source": [
        "# EXEMPLO EXIBIR O DOMÍNIO DO E-MAIL\n",
        "\n",
        "\n",
        "email = 'leandro@gmail.com'.split('@')\n",
        "print(email)\n",
        "email_1_parte = email[0]\n",
        "print(email_1_parte)\n",
        "print(email[-1])"
      ],
      "metadata": {
        "id": "qBHhBRUHa7c1"
      },
      "execution_count": null,
      "outputs": []
    },
    {
      "cell_type": "code",
      "source": [
        "# DESAFIO 01\n",
        "\"\"\"\n",
        "Crie um programa que leia o nome completo de uma pessoa e mostre:\n",
        "    O nome com todas as letras maiúsculas\n",
        "    O nome com todas as letras minúsculas\n",
        "    Quantas letras tem o primeiro nome\n",
        "    Quantas letras ao todo (sem considerar espaços)\n",
        "\"\"\"\n",
        "\n",
        "nome = input(\"Digite seu nome completo: \")\n",
        "\n",
        "print(nome.upper())\n",
        "print(nome.lower())\n",
        "print(nome.split()[0])\n",
        "print(f\"O primeiro nome tem {len(nome.split()[0])} letras.\")\n",
        "print(f\"O nome completo tem {len(nome.replace(' ', ''))} letras\")\n"
      ],
      "metadata": {
        "colab": {
          "base_uri": "https://localhost:8080/"
        },
        "id": "_Fpac-Fva9nd",
        "outputId": "3ee409a4-c8e2-46ec-83d3-39c34dce43a2"
      },
      "execution_count": 10,
      "outputs": [
        {
          "output_type": "stream",
          "name": "stdout",
          "text": [
            "Digite seu nome completo: Giulia da Silva Alciati\n",
            "GIULIA DA SILVA ALCIATI\n",
            "giulia da silva alciati\n",
            "Giulia\n",
            "O primeiro nome tem 6 letras.\n",
            "O nome completo tem 20 letras\n"
          ]
        }
      ]
    },
    {
      "cell_type": "code",
      "source": [
        "# TAMANHO NOME SEM ESPAÇOS\n",
        "\n",
        "\n",
        "tamanho_nome = len(nome.replace(' ', ''))\n",
        "tamanho_nome = len(nome)-nome.count(' ')\n",
        "tamanho_nome = len(''.join(nome.split()))"
      ],
      "metadata": {
        "id": "nJR9wQtqa-Kt"
      },
      "execution_count": null,
      "outputs": []
    },
    {
      "cell_type": "code",
      "source": [
        "# DESAFIO 02\n",
        "\"\"\"\n",
        "Faça um programa que leia um número de quatro dígitos entre 1000 a 9999 e mostre na tela\n",
        "cada um dos dígitos separados.\n",
        "Ex: Digite um numero: 1981\n",
        "\n",
        "\n",
        "Unidade: 1\n",
        "Dezena: 8\n",
        "Centena: 9\n",
        "Milhar: 1\n",
        "\"\"\"\n",
        "\n",
        "numero = input(\"Digite um número entre 1000 e 9999: \")\n",
        "\n",
        "print(' '.join(numero))\n"
      ],
      "metadata": {
        "colab": {
          "base_uri": "https://localhost:8080/"
        },
        "id": "jQipm1AybDmt",
        "outputId": "b38df572-b13e-484a-ac08-167bed5f94ab"
      },
      "execution_count": 15,
      "outputs": [
        {
          "output_type": "stream",
          "name": "stdout",
          "text": [
            "Digite um número entre 1000 e 9999: 1000\n",
            "1 0 0 0\n"
          ]
        }
      ]
    },
    {
      "cell_type": "code",
      "source": [
        "# DESAFIO 03\n",
        "\"\"\"\n",
        "Faça um programa que leia uma frase pelo teclado e mostre:\n",
        "\n",
        "\n",
        "Quantas vezes aparece a letra \"A\"\n",
        "Em que posição ela aparece a primeira vez\n",
        "Em que posição ela aparece a última vez\n",
        "\"\"\"\n",
        "frase = input(\"Digite uma frase: \").lower().replace(' ', '')\n",
        "\n",
        "\n",
        "print(f\"\\nA letra A aparece {frase.count('a')} vezes.\")\n",
        "print(f\"A letra A aparece a 1ª vez na {frase.find('a')+1}ª posição.\")\n",
        "print(f\"A letra A aparece a última vez na {frase.rfind('a')+1}ª posição.\")"
      ],
      "metadata": {
        "id": "G4vY7ipXbA6V"
      },
      "execution_count": null,
      "outputs": []
    },
    {
      "cell_type": "code",
      "source": [
        "# DESAFIO 04\n",
        "\"\"\"\n",
        "Faça um programa que leia o nome completo de uma pessoa, mostrando em seguida o primeiro\n",
        "e o último nome separadamente.\n",
        "\n",
        "\n",
        "Exemplo: Leandro Gomes Andrade\n",
        "\n",
        "\n",
        "Primeiro: Leandro\n",
        "Último: Andrade\n",
        "\"\"\"\n",
        "\n",
        "nome = input(\"Digite seu nome completo: \")\n",
        "\n",
        "print(f\"O seu primeiro nome é {nome.split()[0]}\")\n",
        "print(f\"O seu último nome é {nome.split()[-1]}\")"
      ],
      "metadata": {
        "colab": {
          "base_uri": "https://localhost:8080/"
        },
        "id": "ze2GKkqkbI0N",
        "outputId": "8f439d8b-8367-448d-e39d-2b6974e5469f"
      },
      "execution_count": 18,
      "outputs": [
        {
          "output_type": "stream",
          "name": "stdout",
          "text": [
            "Digite seu nome completo: Giulia da Silva Alciati\n",
            "O seu primeiro nome é Giulia\n",
            "O seu último nome é Alciati\n"
          ]
        }
      ]
    },
    {
      "cell_type": "code",
      "source": [
        "# DESAFIO 05\n",
        "\"\"\"\n",
        "Refazer o DESAFIO 03 escolhendo a letra para contar e desconsiderar espaços.\n",
        "\"\"\"\n",
        "frase = input(\"Digite uma frase: \").upper().replace(' ', '')\n",
        "letra = input(\"Digite uma letra: \").upper()\n",
        "\n",
        "\n",
        "print(f\"\\nA letra {letra} aparece {frase.count(letra)} vezes.\")\n",
        "print(f\"A letra {letra} aparece a 1ª vez na {frase.find(letra)+1}ª posição.\")\n",
        "print(f\"A letra {letra} aparece a última vez na {frase.rfind(letra)+1}ª posição.\")"
      ],
      "metadata": {
        "id": "XPNZDPoobLDt"
      },
      "execution_count": null,
      "outputs": []
    }
  ]
}