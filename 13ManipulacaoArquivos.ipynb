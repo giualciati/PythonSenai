{
  "nbformat": 4,
  "nbformat_minor": 0,
  "metadata": {
    "colab": {
      "provenance": [],
      "mount_file_id": "1jsrCdiszg5QE-AbyDtIHUMEUbSvAoMzO",
      "authorship_tag": "ABX9TyP9jCsyhGwOS4HmWIToyWHz"
    },
    "kernelspec": {
      "name": "python3",
      "display_name": "Python 3"
    },
    "language_info": {
      "name": "python"
    }
  },
  "cells": [
    {
      "cell_type": "markdown",
      "source": [
        "# Teoria"
      ],
      "metadata": {
        "id": "Stid43qErAK1"
      }
    },
    {
      "cell_type": "code",
      "execution_count": null,
      "metadata": {
        "id": "J6hAbVjsHsBT"
      },
      "outputs": [],
      "source": [
        "# Conectar e sincronizarr pasta do google drive\n",
        "\n",
        "from google.colab import drive\n",
        "drive.mount('/content/drive')"
      ]
    },
    {
      "cell_type": "code",
      "source": [
        "caminho = '/content/drive/MyDrive/Colab Notebooks/2512 T/arquivos'"
      ],
      "metadata": {
        "id": "aqG68qT_NQ95"
      },
      "execution_count": null,
      "outputs": []
    },
    {
      "cell_type": "code",
      "source": [
        "# EXEMPLO 01 (w write)\n",
        "\n",
        "\n",
        "arq = 'dados.txt'\n",
        "\n",
        "\n",
        "with open(f\"{caminho}/{arq}\", 'w') as arquivo:\n",
        "    arquivo.write(\"Giulia Alciati\")"
      ],
      "metadata": {
        "id": "Sh7_QnreOUwY"
      },
      "execution_count": null,
      "outputs": []
    },
    {
      "cell_type": "code",
      "source": [
        "# EXEMPLO 02\n",
        "\n",
        "\n",
        "arq = 'dadosOrcamento.txt'\n",
        "\n",
        "\n",
        "with open(f\"{caminho}/{arq}\", 'w') as arquivo:\n",
        "    arquivo.write(\"\"\"São Paulo, 12 de setembro de 2024\n",
        "\n",
        "\n",
        "Segue valor do orçamento solicitado:\n",
        "\n",
        "\n",
        "100 Peças X: R$ 200,00\n",
        "200 Peças Y: R$ 150,00\n",
        "Total: R$ 350,00\n",
        "\n",
        "\n",
        "Atenciosamente,\n",
        "Fabio\"\"\")"
      ],
      "metadata": {
        "id": "LaRope64OVXJ"
      },
      "execution_count": null,
      "outputs": []
    },
    {
      "cell_type": "code",
      "source": [
        "# EXEMPLO 03\n",
        "\n",
        "\n",
        "arq = 'dadosAnimais.txt'\n",
        "\n",
        "\n",
        "with open(f\"{caminho}/{arq}\", 'w') as arquivo:\n",
        "    arquivo.write('Cachorro\\n')\n",
        "    arquivo.write('Gato\\n')\n",
        "    arquivo.write('Passarinho\\n')"
      ],
      "metadata": {
        "id": "VXNGoUdJR6LJ"
      },
      "execution_count": null,
      "outputs": []
    },
    {
      "cell_type": "code",
      "source": [
        "# EXEMPLO 04\n",
        "import random\n",
        "\n",
        "\n",
        "arq = 'dadosNumeros.txt'\n",
        "\n",
        "\n",
        "with open(f\"{caminho}/{arq}\", 'w') as arquivo:\n",
        "    for i in range(6):\n",
        "        numero = random.randint(1, 60)\n",
        "        n = str(numero)+'\\n'\n",
        "        arquivo.write(n)"
      ],
      "metadata": {
        "id": "YLj1oSXQUPj3"
      },
      "execution_count": null,
      "outputs": []
    },
    {
      "cell_type": "code",
      "source": [
        "# EXEMPLO 05 (a append)\n",
        "\n",
        "\n",
        "arq = 'dadosAnimais.txt'\n",
        "\n",
        "\n",
        "with open(f\"{caminho}/{arq}\", 'a') as arquivo:\n",
        "    arquivo.write('Girafa\\n')\n",
        "    arquivo.write('Cavalo\\n')\n",
        "    arquivo.write('Leão\\n')"
      ],
      "metadata": {
        "id": "nyarDjpFUQQY"
      },
      "execution_count": null,
      "outputs": []
    },
    {
      "cell_type": "code",
      "source": [
        "# EXEMPLO 06\n",
        "\n",
        "\n",
        "animais = ['Jacaré', 'Onça', 'Papagaio', 'Camelo', 'Anta']\n",
        "\n",
        "\n",
        "arq = 'dadosAnimais.txt'\n",
        "\n",
        "\n",
        "with open(f\"{caminho}/{arq}\", 'a') as arquivo:\n",
        "    for animal in animais:\n",
        "        arquivo.write(f'{animal}\\n')\n",
        "        print(f'Animal {animal} gravado com sucesso!')"
      ],
      "metadata": {
        "colab": {
          "base_uri": "https://localhost:8080/"
        },
        "id": "FZ4V2LOcV7g-",
        "outputId": "cec6a77e-c97c-4c01-fdfe-6e1a5808a75a"
      },
      "execution_count": null,
      "outputs": [
        {
          "output_type": "stream",
          "name": "stdout",
          "text": [
            "Animal Jacaré gravado com sucesso!\n",
            "Animal Onça gravado com sucesso!\n",
            "Animal Papagaio gravado com sucesso!\n",
            "Animal Camelo gravado com sucesso!\n",
            "Animal Anta gravado com sucesso!\n"
          ]
        }
      ]
    },
    {
      "cell_type": "code",
      "source": [
        "# EXEMPLO 07 (r read)\n",
        "\n",
        "\n",
        "arq = 'dadosOrcamento.txt'\n",
        "\n",
        "\n",
        "with open(f\"{caminho}/{arq}\", 'r') as arquivo:\n",
        "    print(arquivo.read())"
      ],
      "metadata": {
        "colab": {
          "base_uri": "https://localhost:8080/"
        },
        "id": "B8ey5AXLXCle",
        "outputId": "7b05b243-1fb1-4c73-dc27-b57d206b6a4c"
      },
      "execution_count": null,
      "outputs": [
        {
          "output_type": "stream",
          "name": "stdout",
          "text": [
            "São Paulo, 12 de setembro de 2024\n",
            "\n",
            "\n",
            "Segue valor do orçamento solicitado:\n",
            "\n",
            "\n",
            "100 Peças X: R$ 200,00\n",
            "200 Peças Y: R$ 150,00\n",
            "Total: R$ 350,00\n",
            "\n",
            "\n",
            "Atenciosamente,\n",
            "Fabio\n"
          ]
        }
      ]
    },
    {
      "cell_type": "code",
      "source": [
        "# EXEMPLO 08\n",
        "\n",
        "\n",
        "arq = 'dadosOrcamento.txt'\n",
        "\n",
        "\n",
        "with open(f\"{caminho}/{arq}\", 'r') as arquivo:\n",
        "    print(arquivo.readline())\n",
        "    print(arquivo.readline())\n",
        "    print(arquivo.readline())"
      ],
      "metadata": {
        "colab": {
          "base_uri": "https://localhost:8080/"
        },
        "id": "2qyYtWULXhcd",
        "outputId": "cd6fbc66-8a32-45c6-8086-15af4747827f"
      },
      "execution_count": null,
      "outputs": [
        {
          "output_type": "stream",
          "name": "stdout",
          "text": [
            "São Paulo, 12 de setembro de 2024\n",
            "\n",
            "\n",
            "\n",
            "\n",
            "\n"
          ]
        }
      ]
    },
    {
      "cell_type": "code",
      "source": [
        "# EXEMPLO 09\n",
        "\n",
        "\n",
        "arq = 'dadosOrcamento.txt'\n",
        "\n",
        "\n",
        "with open(f\"{caminho}/{arq}\", 'r') as arquivo:\n",
        "    texto = arquivo.readline()\n",
        "    print(texto[0:20])"
      ],
      "metadata": {
        "colab": {
          "base_uri": "https://localhost:8080/"
        },
        "id": "y_jpOR1BYNgN",
        "outputId": "5d134a92-92c6-4725-ff20-9134bc3fbb4b"
      },
      "execution_count": null,
      "outputs": [
        {
          "output_type": "stream",
          "name": "stdout",
          "text": [
            "São Paulo, 12 de set\n"
          ]
        }
      ]
    },
    {
      "cell_type": "code",
      "source": [
        "# EXEMPLO 10 (verificar tipagem)\n",
        "\n",
        "\n",
        "arq = 'dadosOrcamento.txt'\n",
        "\n",
        "\n",
        "with open(f\"{caminho}/{arq}\", 'r') as arquivo:\n",
        "    print(arquivo.readlines())\n",
        "    print(type(arquivo.readlines()))\n"
      ],
      "metadata": {
        "colab": {
          "base_uri": "https://localhost:8080/"
        },
        "id": "HHuEH6wvYfLl",
        "outputId": "14cd1946-5225-4992-ef09-9b7363828c5f"
      },
      "execution_count": null,
      "outputs": [
        {
          "output_type": "stream",
          "name": "stdout",
          "text": [
            "['São Paulo, 12 de setembro de 2024\\n', '\\n', '\\n', 'Segue valor do orçamento solicitado:\\n', '\\n', '\\n', '100 Peças X: R$ 200,00\\n', '200 Peças Y: R$ 150,00\\n', 'Total: R$ 350,00\\n', '\\n', '\\n', 'Atenciosamente,\\n', 'Fabio']\n",
            "<class 'list'>\n"
          ]
        }
      ]
    },
    {
      "cell_type": "code",
      "source": [
        "# EXEMPLO 10\n",
        "\n",
        "\n",
        "arq = 'dadosOrcamento.txt'\n",
        "\n",
        "\n",
        "with open(f\"{caminho}/{arq}\", 'r') as arquivo:\n",
        "    for linha in arquivo:\n",
        "        print(linha.strip('\\n'))"
      ],
      "metadata": {
        "colab": {
          "base_uri": "https://localhost:8080/"
        },
        "id": "gDmWOZ31ZHfU",
        "outputId": "f8bd080d-d239-459e-9e0c-3e401f6aaa23"
      },
      "execution_count": null,
      "outputs": [
        {
          "output_type": "stream",
          "name": "stdout",
          "text": [
            "São Paulo, 12 de setembro de 2024\n",
            "\n",
            "\n",
            "Segue valor do orçamento solicitado:\n",
            "\n",
            "\n",
            "100 Peças X: R$ 200,00\n",
            "200 Peças Y: R$ 150,00\n",
            "Total: R$ 350,00\n",
            "\n",
            "\n",
            "Atenciosamente,\n",
            "Fabio\n"
          ]
        }
      ]
    },
    {
      "cell_type": "code",
      "source": [
        "# EXEMPLO 11\n",
        "\n",
        "\n",
        "arq = 'dadosOrcamento.txt'\n",
        "\n",
        "\n",
        "with open(f\"{caminho}/{arq}\", 'r') as arquivo:\n",
        "    for linha in arquivo:\n",
        "        if 'Total: R$ 350,00' in linha:\n",
        "          print(linha)"
      ],
      "metadata": {
        "colab": {
          "base_uri": "https://localhost:8080/"
        },
        "id": "4BaRtWNUZMDc",
        "outputId": "c1959751-20f0-4fd1-8b48-a6705cce56c5"
      },
      "execution_count": null,
      "outputs": [
        {
          "output_type": "stream",
          "name": "stdout",
          "text": [
            "Total: R$ 350,00\n",
            "\n"
          ]
        }
      ]
    },
    {
      "cell_type": "markdown",
      "source": [
        "# Desafios"
      ],
      "metadata": {
        "id": "1wUwBBNhq8x-"
      }
    },
    {
      "cell_type": "code",
      "source": [
        "# DESAFIO 02\n",
        "\"\"\"\n",
        "Crie um sistema de login que faça a leitura do arquivo login.txt que está na seguinte disposição:\n",
        "root\n",
        "1234\n",
        "Leandro Toniati\n",
        "Caso digite o login(root) e senha(1234) buscando as informações no arquivo, será apresentada\n",
        "uma mensagem de boas vindas com o nome do usuário, caso contrário informe 'Usuário ou senha não conferem'\n",
        "\"\"\"\n",
        "\n",
        "import getpass\n",
        "arq = 'login.txt'\n",
        "user = input(\"Digite seu login: \")\n",
        "senha = getpass.getpass(\"Digite sua senha: \")\n",
        "saudacao = \"Bem-vinda, Giulia Alciati!\"\n",
        "\n",
        "if user == 'root' and senha == '1234':\n",
        "  with open(f\"{caminho}/{arq}\", 'w') as arquivo:\n",
        "        arquivo.write(saudacao)\n",
        "else:\n",
        "  print(\"Usuário ou senha não conferem.\")\n",
        "\n"
      ],
      "metadata": {
        "colab": {
          "base_uri": "https://localhost:8080/"
        },
        "id": "xlVp9grPbp0M",
        "outputId": "c1dfb735-2312-45d1-bd97-5217a77aa6b9"
      },
      "execution_count": 67,
      "outputs": [
        {
          "name": "stdout",
          "output_type": "stream",
          "text": [
            "Digite seu login: root\n",
            "Digite sua senha: ··········\n"
          ]
        }
      ]
    }
  ]
}