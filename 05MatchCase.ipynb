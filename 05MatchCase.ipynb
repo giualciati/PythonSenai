{
  "nbformat": 4,
  "nbformat_minor": 0,
  "metadata": {
    "colab": {
      "provenance": [],
      "authorship_tag": "ABX9TyMAmAMckKLWEoSB9zIbpwIc",
      "include_colab_link": true
    },
    "kernelspec": {
      "name": "python3",
      "display_name": "Python 3"
    },
    "language_info": {
      "name": "python"
    }
  },
  "cells": [
    {
      "cell_type": "markdown",
      "metadata": {
        "id": "view-in-github",
        "colab_type": "text"
      },
      "source": [
        "<a href=\"https://colab.research.google.com/github/giualciati/PythonSenai/blob/main/05MatchCase.ipynb\" target=\"_parent\"><img src=\"https://colab.research.google.com/assets/colab-badge.svg\" alt=\"Open In Colab\"/></a>"
      ]
    },
    {
      "cell_type": "markdown",
      "source": [
        "# Teoria"
      ],
      "metadata": {
        "id": "WiExRYdykbyh"
      }
    },
    {
      "cell_type": "code",
      "execution_count": null,
      "metadata": {
        "colab": {
          "base_uri": "https://localhost:8080/"
        },
        "id": "RGCGru2HkMhk",
        "outputId": "dad51214-798e-4c8c-eaa6-6fa97a2eaa38"
      },
      "outputs": [
        {
          "output_type": "stream",
          "name": "stdout",
          "text": [
            "\n",
            "ESCOLHA UMA OPÇÃO:\n",
            "\n",
            "\n",
            "[1] Opção 1\n",
            "[2] Opção 2\n",
            "[3] Opção 3\n",
            "2\n",
            "Opção 1 ou 2 foi escolhida...\n"
          ]
        }
      ],
      "source": [
        "# OPÇÃO ÚNICA\n",
        "\n",
        "\n",
        "operacao = input(\"\"\"\n",
        "ESCOLHA UMA OPÇÃO:\n",
        "\n",
        "\n",
        "[1] Opção 1\n",
        "[2] Opção 2\n",
        "[3] Opção 3\n",
        "\"\"\")\n",
        "\n",
        "\n",
        "match operacao:\n",
        "    case '1' | '2':\n",
        "        print(\"Opção 1 ou 2 foi escolhida...\")\n",
        "\n",
        "    case '3':\n",
        "        print(\"Opção 3 foi escolhida...\")\n",
        "    case _:\n",
        "        print(\"Opção inválida...\")"
      ]
    },
    {
      "cell_type": "code",
      "source": [
        "# OPÇÃO MÚLTIPLA COM CASE _ IF\n",
        "\n",
        "\n",
        "numero = int(input(\"Digite um número: \"))\n",
        "\n",
        "\n",
        "match numero:\n",
        "    case 1 | 3 | 5 | 7 | 9:\n",
        "        print(\"É ímpar entre 0 e 10\")\n",
        "    case _ if numero < 0:\n",
        "        print(\"É negativo\")\n",
        "    case _:\n",
        "        print(\"Um número qualquer...\")"
      ],
      "metadata": {
        "id": "W_Q976v7kfHx"
      },
      "execution_count": null,
      "outputs": []
    },
    {
      "cell_type": "code",
      "source": [
        "#Par ou impar\n",
        "\n",
        "numero = int(input(\"Digite um número: \"))\n",
        "ultimo_numero = str(numero)[-1]\n",
        "\n",
        "\n",
        "match ultimo_numero:\n",
        "    case '1' | '3' | '5' | '7' | '9':\n",
        "        print(f\"\\nO número {numero} é \\033[31mÍMPAR\\033[0m. ☝\")\n",
        "    case _:\n",
        "        print(f\"\\nO número {numero} é \\033[32mPAR\\033[0m. ✌\")\n"
      ],
      "metadata": {
        "id": "rgF9j2rmpJzw"
      },
      "execution_count": null,
      "outputs": []
    },
    {
      "cell_type": "code",
      "source": [
        "# DESAFIO 01\n",
        "\"\"\"\n",
        "Escreva um programa em Python que solicite ao usuário uma nota inteira entre 0 e 10.\n",
        "Use o comando `match case` para classificar a nota de acordo com a tabela a seguir:\n",
        "\n",
        "\n",
        "- 0-4: Nota Baixa\n",
        "- 5-7: Nota Média\n",
        "- 8-9: Nota Alta\n",
        "- 10: Nota Excelente\n",
        "\n",
        "\n",
        "Exiba a classificação correspondente.\n",
        "\"\"\"\n",
        "nota = int(input(\"Digite uma nota inteira: \"))\n",
        "\n",
        "match nota:\n",
        "  case 0| 1 | 2 | 3 | 4:\n",
        "    print(\"\\nNota baixa\")\n",
        "  case 5| 6 | 7:\n",
        "    print(\"\\nNota média\")\n",
        "  case 8| 9:\n",
        "    print(\"\\nNota alta\")\n",
        "  case 10:\n",
        "    print(\"\\nNota excelente\")\n",
        "  case _:\n",
        "    print(\"\\nEssa nota não é válida\")"
      ],
      "metadata": {
        "colab": {
          "base_uri": "https://localhost:8080/"
        },
        "id": "O-KtSvNjqv5_",
        "outputId": "cec109b8-bb36-4121-dfc2-682f92fe9660"
      },
      "execution_count": null,
      "outputs": [
        {
          "output_type": "stream",
          "name": "stdout",
          "text": [
            "Digite uma nota inteira: 10\n",
            "Nota excelente\n"
          ]
        }
      ]
    },
    {
      "cell_type": "code",
      "source": [
        "# DESAFIO 03\n",
        "\"\"\"\n",
        "Crie um programa que peça ao usuário para inserir um número de 1 a 7,\n",
        "onde cada número representa um dia da semana (1 para domingo, 2 para segunda-feira\n",
        "e assim por diante).\n",
        "Use match case para imprimir o nome do dia da semana correspondente.\n",
        "\"\"\"\n",
        "\n",
        "num = int(input(\"Digite um número inteiro entre 1 e 7: \"))\n",
        "\n",
        "match num:\n",
        "  case 1:\n",
        "    print(\"Domingo\")\n",
        "  case 2:\n",
        "    print(\"Segunda\")\n",
        "  case 3:\n",
        "    print(\"Terça\")\n",
        "  case 4:\n",
        "    print(\"Quarta\")\n",
        "  case 5:\n",
        "    print(\"Quinta\")\n",
        "  case 6:\n",
        "    print(\"Sexta\")\n",
        "  case 7:\n",
        "    print(\"Sábado\")\n",
        "  case _:\n",
        "    print(\"Dia inválido\")"
      ],
      "metadata": {
        "id": "TGMhNGIZtVYW"
      },
      "execution_count": null,
      "outputs": []
    },
    {
      "cell_type": "code",
      "source": [
        "# DESAFIO 04\n",
        "\"\"\"\n",
        "Implemente uma calculadora simples que realiza as operações de adição, subtração, multiplicação e divisão.\n",
        "O usuário deve inserir dois números e, em seguida, selecionar a operação desejada (+, -, *, /).\n",
        "Use o comando match case para realizar a operação correta e exibir o resultado.\n",
        "\"\"\"\n",
        "\n",
        "n1 = float(input(\"Digite um número: \"))\n",
        "\n",
        "operacao = input(\"\"\"\n",
        "ESCOLHA UMA OPÇÃO:\n",
        "[+] Adição\n",
        "[-] Subtração\n",
        "[*] multiplicação\n",
        "[/] divisão\n",
        "\"\"\")\n",
        "\n",
        "n2 = float(input(\"Digite outro número: \"))\n",
        "\n",
        "match operacao:\n",
        "  case '+':\n",
        "    print(f\"A soma de {n1} + {n2} é {n1 + n2}\")\n",
        "  case '-':\n",
        "    print(f\"A subtração de {n1} - {n2} é {n1 - n2}\")\n",
        "  case '*':\n",
        "    print(f\"A multiplicação de {n1} * {n2} é {n1 * n2}\")\n",
        "  case '/':\n",
        "    print(f\"A divisão de {n1} / {n2} é {n1 / n2}\")\n",
        "  case _:\n",
        "    print(\"Opção inválida\")"
      ],
      "metadata": {
        "id": "iIp0o9yctYhe",
        "colab": {
          "base_uri": "https://localhost:8080/"
        },
        "outputId": "bc133ab6-89de-44c0-f320-d664f93ee5e7"
      },
      "execution_count": 4,
      "outputs": [
        {
          "output_type": "stream",
          "name": "stdout",
          "text": [
            "Digite um número: 2\n",
            "\n",
            "ESCOLHA UMA OPÇÃO:\n",
            "[+] Adição\n",
            "[-] Subtração\n",
            "[*] multiplicação\n",
            "[/] divisão\n",
            "+\n",
            "Digite outro número: 5\n",
            "A soma de 2.0 + 5.0 é 7.0\n"
          ]
        }
      ]
    },
    {
      "cell_type": "code",
      "source": [
        "# DESAFIO 05\n",
        "\"\"\"\n",
        "Crie um programa que peça ao usuário para inserir uma letra.\n",
        "O programa deve utilizar match case\n",
        "para verificar se a letra é uma vogal.\n",
        "\"\"\"\n",
        "letra = input(\"Digite uma letra: \").lower()\n",
        "\n",
        "\n",
        "match letra:\n",
        "    case 'a' | 'e' | 'i' | 'o' | 'u':\n",
        "        print(\"É uma vogal!\")\n",
        "    case _:\n",
        "        print(\"Não é uma vogal!\")"
      ],
      "metadata": {
        "id": "tn8gwxD0fnNE"
      },
      "execution_count": null,
      "outputs": []
    },
    {
      "cell_type": "code",
      "source": [
        "# DESAFIO 06\n",
        "\"\"\"\n",
        "Crie um programa que peça ao usuário para inserir uma letra. O programa deve utilizar match case\n",
        "para verificar se a letra é uma vogal (a, e, i, o, u) ou uma consoante, e então exibir uma mensagem apropriada.\n",
        "\"\"\"\n",
        "letra = input(\"Digite uma letra: \").lower()\n",
        "\n",
        "\n",
        "\n",
        "match letra:\n",
        "  case 'a'| 'e' | 'i' | 'o' | 'u':\n",
        "    print(\"Essa letra é uma vogal.\")\n",
        "  case _ if letra.isalpha():\n",
        "    print(\"Essa letra é uma consoante.\")\n",
        "  case _:\n",
        "    print(\"Essa opção não é válida.\")"
      ],
      "metadata": {
        "colab": {
          "base_uri": "https://localhost:8080/"
        },
        "id": "9PnI0L9ZXqmw",
        "outputId": "7c4ae884-96b3-4e31-ebd4-841a699ba024"
      },
      "execution_count": 16,
      "outputs": [
        {
          "output_type": "stream",
          "name": "stdout",
          "text": [
            "Digite uma letra: g\n",
            "Essa letra é uma consoante.\n"
          ]
        }
      ]
    },
    {
      "cell_type": "code",
      "source": [
        "# DESAFIO 07\n",
        "\"\"\"\n",
        "Escreva um programa que converta valores entre diferentes moedas.\n",
        "O usuário deve inserir o valor em reais e selecionar a moeda para conversão:\n",
        "D (Dólar), E (Euro), ou L (Libra). Utilize match case para aplicar a conversão\n",
        "correta com base nas taxas fictícias fornecidas a seguir:\n",
        "\n",
        "\n",
        "1 Real = 0.18 Dólar\n",
        "1 Real = 0.16 Euro\n",
        "1 Real = 0.13 Libra\n",
        "\n",
        "\n",
        "Símbolos: $ € £\n",
        "\"\"\"\n",
        "real = float(input(\"Digite o valor em reais: \"))\n",
        "converter = input(\"\"\"\n",
        "Escolha uma opção para converter:\n",
        "[$] Dólar\n",
        "[€] Euro\n",
        "[£] Libra\n",
        "\"\"\")\n",
        "\n",
        "match converter:\n",
        "  case '$':\n",
        "    print(f\"A quantia de R${real} convertida em dólar é de ${real*0.18:,.2f}\")\n",
        "  case '€':\n",
        "    print(f\"A quantia de R${real} convertida em euro é de €{real*0.16:,.2f}\")\n",
        "  case '£':\n",
        "    print(f\"A quantia de R${real} convertida em libra é de £{real*0.13:,.2f}\")\n",
        "  case _:\n",
        "    print(\"Essa opção não é válida.\")\n"
      ],
      "metadata": {
        "colab": {
          "base_uri": "https://localhost:8080/"
        },
        "id": "2hqf9T6lXtL_",
        "outputId": "d78b0f64-22b0-44a8-e93a-c30ba20c2d23"
      },
      "execution_count": 17,
      "outputs": [
        {
          "output_type": "stream",
          "name": "stdout",
          "text": [
            "Digite o valor em reais: 100\n",
            "\n",
            "Escolha uma opção para converter:\n",
            "[$] Dólar\n",
            "[€] Euro\n",
            "[£] Libra\n",
            "€\n",
            "A quantia de R$100.0 convertida em euro é de €16.00\n"
          ]
        }
      ]
    },
    {
      "cell_type": "code",
      "source": [
        "import requests\n",
        "import json\n",
        "\n",
        "\n",
        "def cotacao(moeda, valor):\n",
        "    url_api = f'https://economia.awesomeapi.com.br/last/{moeda}'\n",
        "    req = requests.get(url_api)\n",
        "    data = json.loads(req.content)\n",
        "\n",
        "\n",
        "    for key, value in data.items():\n",
        "     name = value.get('name')\n",
        "     high = float(value.get('high'))\n",
        "     if name and high:\n",
        "       print(f\"A conversão de \\033[1m{valor:.2f}\\033[0m '{name.split('/')[0]}' \"\n",
        "             f\"para '{name.split('/')[1]}' é: \\033[1m{high * valor:,.2f}\\033[0m\")\n",
        "\n",
        "\n",
        "moeda1 = input(\"\"\"Converter:\n",
        "[1] BTC-BRL\n",
        "[2] BTC-EUR\n",
        "[3] BTC-USD\n",
        "[4] BRL-EUR\n",
        "[5] BRL-USD\n",
        "[6] EUR-BRL\n",
        "[7] EUR-USD\n",
        "[8] USD-BRL\n",
        "[9] USD-EUR\n",
        "\"\"\")\n",
        "valor = float(input(\"Digite o valor: \"))\n",
        "\n",
        "\n",
        "match moeda1:\n",
        "    case '1':\n",
        "        moeda = 'BTC-BRL'\n",
        "    case '2':\n",
        "        moeda = 'BTC-EUR'\n",
        "    case '3':\n",
        "        moeda = 'BTC-USD'\n",
        "    case '4':\n",
        "        moeda = 'BRL-EUR'\n",
        "    case '5':\n",
        "        moeda = 'BRL-USD'\n",
        "    case '6':\n",
        "        moeda = 'EUR-BRL'\n",
        "    case '7':\n",
        "        moeda = 'EUR-USD'\n",
        "    case '8':\n",
        "        moeda = 'USD-BRL'\n",
        "    case '9':\n",
        "        moeda = 'USD-EUR'\n",
        "    case _:\n",
        "        moeda = 0\n",
        "print()\n",
        "if moeda != 0:\n",
        "    cotacao(moeda, valor)\n",
        "else:\n",
        "    print(\"Valor inválido\")"
      ],
      "metadata": {
        "colab": {
          "base_uri": "https://localhost:8080/"
        },
        "id": "BJQouL70pY_Q",
        "outputId": "2a775ca1-ec41-4377-95bf-ed643ce9227c"
      },
      "execution_count": 18,
      "outputs": [
        {
          "output_type": "stream",
          "name": "stdout",
          "text": [
            "Converter:\n",
            "[1] BTC-BRL\n",
            "[2] BTC-EUR\n",
            "[3] BTC-USD\n",
            "[4] BRL-EUR\n",
            "[5] BRL-USD\n",
            "[6] EUR-BRL\n",
            "[7] EUR-USD\n",
            "[8] USD-BRL\n",
            "[9] USD-EUR\n",
            "2\n",
            "Digite o valor: 6000\n",
            "\n",
            "A conversão de \u001b[1m6000.00\u001b[0m 'Bitcoin' para 'Euro' é: \u001b[1m584,132,580.00\u001b[0m\n"
          ]
        }
      ]
    }
  ]
}