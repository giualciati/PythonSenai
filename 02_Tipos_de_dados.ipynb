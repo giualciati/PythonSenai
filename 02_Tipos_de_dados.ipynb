{
  "nbformat": 4,
  "nbformat_minor": 0,
  "metadata": {
    "colab": {
      "provenance": [],
      "authorship_tag": "ABX9TyMCK5QzWZgH89Dyjz8ooGDc",
      "include_colab_link": true
    },
    "kernelspec": {
      "name": "python3",
      "display_name": "Python 3"
    },
    "language_info": {
      "name": "python"
    }
  },
  "cells": [
    {
      "cell_type": "markdown",
      "metadata": {
        "id": "view-in-github",
        "colab_type": "text"
      },
      "source": [
        "<a href=\"https://colab.research.google.com/github/giualciati/PythonSenai/blob/main/02_Tipos_de_dados.ipynb\" target=\"_parent\"><img src=\"https://colab.research.google.com/assets/colab-badge.svg\" alt=\"Open In Colab\"/></a>"
      ]
    },
    {
      "cell_type": "code",
      "execution_count": 1,
      "metadata": {
        "id": "MTNA0Nu83vxQ",
        "colab": {
          "base_uri": "https://localhost:8080/"
        },
        "outputId": "4f6c16fc-f8f9-45b6-cdfb-d9ee0128ed0b"
      },
      "outputs": [
        {
          "output_type": "stream",
          "name": "stdout",
          "text": [
            "10\n",
            "-1\n",
            "-5.29\n",
            "3.1415\n"
          ]
        }
      ],
      "source": [
        "# TIPOS NUMÉRICOS (int | float)\n",
        "\n",
        "\n",
        "x = 10\n",
        "y = -1\n",
        "z = -5.29\n",
        "PI = 3.1415\n",
        "\n",
        "\n",
        "print(x)\n",
        "print(y)\n",
        "print(z)\n",
        "print(PI)"
      ]
    },
    {
      "cell_type": "code",
      "source": [
        "# TIPO CARACTER | STRINGS (str)\n",
        "\n",
        "\n",
        "nome = 'Giulia'\n",
        "escola = \"SENAI Ary Torres\"\n",
        "\n",
        "\n",
        "print(nome)\n",
        "print(escola)\n",
        "\n",
        "\n",
        "print()\n",
        "print(escola)\n",
        "print('\\n', escola)\n",
        "print('\\n', escola[10])"
      ],
      "metadata": {
        "colab": {
          "base_uri": "https://localhost:8080/"
        },
        "id": "6sH1yLz_5QUK",
        "outputId": "f68e6035-835b-41e6-9984-ed9131322f4f"
      },
      "execution_count": 5,
      "outputs": [
        {
          "output_type": "stream",
          "name": "stdout",
          "text": [
            "Giulia\n",
            "SENAI Ary Torres\n",
            "\n",
            "SENAI Ary Torres\n",
            "\n",
            " SENAI Ary Torres\n",
            "\n",
            " T\n"
          ]
        }
      ]
    },
    {
      "cell_type": "code",
      "source": [
        "# TIPOS LÓGICOS (bool)\n",
        "\n",
        "continuar = True\n",
        "parar = False\n",
        "\n",
        "\n",
        "print(continuar)\n",
        "print(parar)"
      ],
      "metadata": {
        "colab": {
          "base_uri": "https://localhost:8080/"
        },
        "id": "NwIaHc1d5Wv5",
        "outputId": "9059aac5-bae6-407f-f5da-069f6cec3c91"
      },
      "execution_count": 4,
      "outputs": [
        {
          "output_type": "stream",
          "name": "stdout",
          "text": [
            "True\n",
            "False\n"
          ]
        }
      ]
    }
  ]
}