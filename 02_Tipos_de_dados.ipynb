{
  "nbformat": 4,
  "nbformat_minor": 0,
  "metadata": {
    "colab": {
      "provenance": [],
      "toc_visible": true,
      "authorship_tag": "ABX9TyM+nZFYzSkYdUkif+YbHEw2",
      "include_colab_link": true
    },
    "kernelspec": {
      "name": "python3",
      "display_name": "Python 3"
    },
    "language_info": {
      "name": "python"
    }
  },
  "cells": [
    {
      "cell_type": "markdown",
      "metadata": {
        "id": "view-in-github",
        "colab_type": "text"
      },
      "source": [
        "<a href=\"https://colab.research.google.com/github/giualciati/PythonSenai/blob/main/02_Tipos_de_dados.ipynb\" target=\"_parent\"><img src=\"https://colab.research.google.com/assets/colab-badge.svg\" alt=\"Open In Colab\"/></a>"
      ]
    },
    {
      "cell_type": "markdown",
      "source": [
        "# Tipos de dados e formatação de texto"
      ],
      "metadata": {
        "id": "ZJXTzEBqczLM"
      }
    },
    {
      "cell_type": "code",
      "execution_count": null,
      "metadata": {
        "id": "MTNA0Nu83vxQ",
        "colab": {
          "base_uri": "https://localhost:8080/"
        },
        "outputId": "4f6c16fc-f8f9-45b6-cdfb-d9ee0128ed0b"
      },
      "outputs": [
        {
          "output_type": "stream",
          "name": "stdout",
          "text": [
            "10\n",
            "-1\n",
            "-5.29\n",
            "3.1415\n"
          ]
        }
      ],
      "source": [
        "# TIPOS NUMÉRICOS (int | float)\n",
        "\n",
        "\n",
        "x = 10\n",
        "y = -1\n",
        "z = -5.29\n",
        "PI = 3.1415\n",
        "\n",
        "\n",
        "print(x)\n",
        "print(y)\n",
        "print(z)\n",
        "print(PI)"
      ]
    },
    {
      "cell_type": "code",
      "source": [
        "# TIPO CARACTER | STRINGS (str)\n",
        "\n",
        "\n",
        "nome = 'Giulia'\n",
        "escola = \"SENAI Ary Torres\"\n",
        "\n",
        "\n",
        "print(nome)\n",
        "print(escola)\n",
        "\n",
        "\n",
        "print()\n",
        "print(escola)\n",
        "print('\\n', escola)\n",
        "print('\\n', escola[10])"
      ],
      "metadata": {
        "colab": {
          "base_uri": "https://localhost:8080/"
        },
        "id": "6sH1yLz_5QUK",
        "outputId": "f68e6035-835b-41e6-9984-ed9131322f4f"
      },
      "execution_count": null,
      "outputs": [
        {
          "output_type": "stream",
          "name": "stdout",
          "text": [
            "Giulia\n",
            "SENAI Ary Torres\n",
            "\n",
            "SENAI Ary Torres\n",
            "\n",
            " SENAI Ary Torres\n",
            "\n",
            " T\n"
          ]
        }
      ]
    },
    {
      "cell_type": "code",
      "source": [
        "# TIPOS LÓGICOS (bool)\n",
        "\n",
        "continuar = True\n",
        "parar = False\n",
        "\n",
        "\n",
        "print(continuar)\n",
        "print(parar)"
      ],
      "metadata": {
        "colab": {
          "base_uri": "https://localhost:8080/"
        },
        "id": "NwIaHc1d5Wv5",
        "outputId": "9059aac5-bae6-407f-f5da-069f6cec3c91"
      },
      "execution_count": null,
      "outputs": [
        {
          "output_type": "stream",
          "name": "stdout",
          "text": [
            "True\n",
            "False\n"
          ]
        }
      ]
    },
    {
      "cell_type": "code",
      "source": [
        "# IDENTIFICAR TIPOS DE VARIÁVEIS/CONSTANTES\n",
        "\n",
        "\n",
        "print(type(x))\n",
        "print(type(PI))\n",
        "print(type(nome))\n",
        "print(type(casado))"
      ],
      "metadata": {
        "id": "jGYCnE9QAS3v"
      },
      "execution_count": null,
      "outputs": []
    },
    {
      "cell_type": "code",
      "source": [
        "# DECLARAÇÃO DE VARIÁVEIS\n",
        "\n",
        "\n",
        "texto1 = '2'\n",
        "texto2 = str(2)\n",
        "numero1 = 3\n",
        "numero2 = int(3)\n",
        "decimal1 = float(3)\n",
        "decimal2 = 3.0\n",
        "logico = bool(False)\n",
        "\n",
        "\n",
        "print(texto1)\n",
        "print(texto2)\n",
        "print(numero1)\n",
        "print(numero2)\n",
        "print(decimal1)\n",
        "print(decimal2)\n",
        "print(logico)"
      ],
      "metadata": {
        "id": "M-caXnHuAT8n"
      },
      "execution_count": null,
      "outputs": []
    },
    {
      "cell_type": "code",
      "source": [
        "# ANÁLISE DE STRINGS (str)\n",
        "\n",
        "\n",
        "n = 'T'\n",
        "\n",
        "\n",
        "print(n.isnumeric())   # Númérico\n",
        "print(n.isalpha())     # Alfabético\n",
        "print(n.isalnum())     # Alfanumérico\n",
        "print(n.isupper())     # Maiúscula\n",
        "print(n.islower())     # Minúscula\n",
        "print(n.istitle())     # Primeira maiúscula\n",
        "print(n.isdecimal())   # Numérico\n",
        "print(n.isspace())     # Espaço"
      ],
      "metadata": {
        "id": "k0JOMKZKAWhu"
      },
      "execution_count": null,
      "outputs": []
    },
    {
      "cell_type": "code",
      "source": [],
      "metadata": {
        "id": "m7cMhb0AAbMG"
      },
      "execution_count": null,
      "outputs": []
    },
    {
      "cell_type": "code",
      "source": [
        "# exemplo\n",
        "\n",
        "num = input(\"Digite um número inteiro: \")\n",
        "if num.isnumeric():\n",
        "    num = int(num)\n",
        "    print(\"É um número!\")\n",
        "else:\n",
        "    print(\"Não é número!\")\n",
        "\n",
        "print(type(num))\n"
      ],
      "metadata": {
        "colab": {
          "base_uri": "https://localhost:8080/"
        },
        "id": "V0DQEpC0-oo4",
        "outputId": "fadc25b4-fee9-443f-a4d7-bab966b6572d"
      },
      "execution_count": 2,
      "outputs": [
        {
          "output_type": "stream",
          "name": "stdout",
          "text": [
            "Digite um número inteiro: 10\n",
            "É um número!\n",
            "<class 'int'>\n"
          ]
        }
      ]
    },
    {
      "cell_type": "code",
      "source": [
        "# ENTRADA DE DADOS (input)\n",
        "\n",
        "\n",
        "numeroInteiro = int(input(\"Digite um número inteiro: \"))\n",
        "print(numeroInteiro)\n",
        "\n",
        "\n",
        "numeroDecimal = float(input(\"\\nDigite um número decimal: \")) # Sepador de decimal: . (não vírgula)\n",
        "print(numeroDecimal)\n",
        "\n",
        "\n",
        "valorLogico = bool(input(\"\\nDigite algo: \"))\n",
        "print(valorLogico)\n",
        "\n",
        "\n",
        "# Não há necessidade declarar str() para o input()\n",
        "texto = str(input(\"\\nDigite um valor alfanumérico:\\n\"))\n",
        "print(texto)\n"
      ],
      "metadata": {
        "colab": {
          "base_uri": "https://localhost:8080/"
        },
        "id": "nx6DxFCp_2J5",
        "outputId": "26babf1b-eaea-47c1-f799-243f243d1836"
      },
      "execution_count": 3,
      "outputs": [
        {
          "output_type": "stream",
          "name": "stdout",
          "text": [
            "Digite um número inteiro: 2\n",
            "2\n",
            "\n",
            "Digite um número decimal: 1.5\n",
            "1.5\n",
            "Digite algo: gygug\n",
            "True\n",
            "\n",
            "Digite um valor alfanumérico:\n",
            "4\n",
            "4\n"
          ]
        }
      ]
    },
    {
      "cell_type": "code",
      "source": [
        "# CONSTANTES\n",
        "\n",
        "\n",
        "PI = 3.1415\n",
        "GRAVIDADE = 9.81\n",
        "\n",
        "print(\"\\nValor de PI:\", PI, '\\n\\n\\n')\n",
        "print(10*'\\n')\n",
        "print(\"\\nValor da gravidade:\", GRAVIDADE)"
      ],
      "metadata": {
        "colab": {
          "base_uri": "https://localhost:8080/"
        },
        "id": "xLQoeG5GDZpH",
        "outputId": "c159f7a2-6310-468c-c256-951906b10556"
      },
      "execution_count": 9,
      "outputs": [
        {
          "output_type": "stream",
          "name": "stdout",
          "text": [
            "\n",
            "Valor de PI: 3.1415 \n",
            "\n",
            "\n",
            "\n",
            "\n",
            "\n",
            "\n",
            "\n",
            "\n",
            "\n",
            "\n",
            "\n",
            "\n",
            "\n",
            "\n",
            "\n",
            "Valor da gravidade: 9.81\n"
          ]
        }
      ]
    },
    {
      "cell_type": "code",
      "source": [
        "# CORES\n",
        "\"\"\"\n",
        "\\033[ESTILO;FONTE;FUNDOm TEXTO \\033[0m\n",
        "\\033[m    \\033[0m\n",
        "\n",
        "\n",
        "Estilos: 0 nenhum | 1 negrito | 3 itálico | 4 sublinhado\n",
        "\"\"\"\n",
        "\n",
        "\n",
        "print(\"\\033[1;33;45m   TEXTO   \\033[0m\")\n",
        "\n",
        "\n",
        "print(\"\\033[30m CINZA\")\n",
        "print(\"\\033[31m VERMELHO\")\n",
        "print(\"\\033[32m VERDE\")\n",
        "print(\"\\033[33m AMARELO\")\n",
        "print(\"\\033[34m CIAN\")\n",
        "print(\"\\033[35m MAGENTA\")\n",
        "print(\"\\033[36m AZUL\")\n",
        "print(\"\\033[37m BRANCO\")\n",
        "\n",
        "\n",
        "print(\"\\033[40m CINZA\")\n",
        "print(\"\\033[41m VERMELHO\")\n",
        "print(\"\\033[42m VERDE\")\n",
        "print(\"\\033[43m AMARELO\")\n",
        "print(\"\\033[44m CIAN\")\n",
        "print(\"\\033[45m MAGENTA\")\n",
        "print(\"\\033[46m AZUL\")\n",
        "print(\"\\033[47m BRANCO\")\n",
        "\n",
        "\n",
        "print(\"\\033[1;2;3;4;33;45m   TEXTO   \\033[0m\")"
      ],
      "metadata": {
        "colab": {
          "base_uri": "https://localhost:8080/"
        },
        "id": "FFMCWYpiFVJe",
        "outputId": "72ed6de1-9c05-472c-f7cd-02f352799c32"
      },
      "execution_count": 10,
      "outputs": [
        {
          "output_type": "stream",
          "name": "stdout",
          "text": [
            "\u001b[1;33;45m   TEXTO   \u001b[0m\n",
            "\u001b[30m CINZA\n",
            "\u001b[31m VERMELHO\n",
            "\u001b[32m VERDE\n",
            "\u001b[33m AMARELO\n",
            "\u001b[34m CIAN\n",
            "\u001b[35m MAGENTA\n",
            "\u001b[36m AZUL\n",
            "\u001b[37m BRANCO\n",
            "\u001b[40m CINZA\n",
            "\u001b[41m VERMELHO\n",
            "\u001b[42m VERDE\n",
            "\u001b[43m AMARELO\n",
            "\u001b[44m CIAN\n",
            "\u001b[45m MAGENTA\n",
            "\u001b[46m AZUL\n",
            "\u001b[47m BRANCO\n",
            "\u001b[1;2;3;4;33;45m   TEXTO   \u001b[0m\n"
          ]
        }
      ]
    },
    {
      "cell_type": "code",
      "source": [
        "# exemplo\n",
        "\n",
        "print(\"\\033[32mSucesso!\\033[0m\")\n",
        "print(\"\\033[1;4;32mSucesso!\\033[0m\")\n",
        "print(\"\\033[45mOK!\")\n",
        "print(\"\\033[34;45mOK!\")"
      ],
      "metadata": {
        "colab": {
          "base_uri": "https://localhost:8080/"
        },
        "id": "uulJmtO6Fp1t",
        "outputId": "affd16f0-2f50-4256-f475-1d096db43368"
      },
      "execution_count": 21,
      "outputs": [
        {
          "output_type": "stream",
          "name": "stdout",
          "text": [
            "\u001b[32mSucesso!\u001b[0m\n",
            "\u001b[1;4;32mSucesso!\u001b[0m\n",
            "\u001b[45mOK!\n",
            "\u001b[34;45mOK!\n"
          ]
        }
      ]
    },
    {
      "cell_type": "code",
      "source": [
        "# TRABALHAR COM EMOJIS (Win+.)\n",
        "\n",
        "\n",
        "print('👨')\n",
        "print('👽')\n",
        "print('⚾')"
      ],
      "metadata": {
        "colab": {
          "base_uri": "https://localhost:8080/"
        },
        "id": "LcivPtkqIRXN",
        "outputId": "90111bb8-a061-4a2a-aa35-2c1f290e8d11"
      },
      "execution_count": 22,
      "outputs": [
        {
          "output_type": "stream",
          "name": "stdout",
          "text": [
            "👨\n",
            "👽\n",
            "⚾\n"
          ]
        }
      ]
    },
    {
      "cell_type": "code",
      "source": [
        "# COLUNAS COM PREENCHIMENTO E ALINHAMENTO\n",
        "\n",
        "\n",
        "print(\" CENTRALIZADO \".center(30, '-'))\n",
        "print(\" DIREITA\".rjust(30,'-'))\n",
        "print(\"ESQUERDA \".ljust(30, '-'))"
      ],
      "metadata": {
        "colab": {
          "base_uri": "https://localhost:8080/"
        },
        "id": "3GYLMCnFJVpU",
        "outputId": "908362bd-ab8b-4e78-f751-5caa63707180"
      },
      "execution_count": 26,
      "outputs": [
        {
          "output_type": "stream",
          "name": "stdout",
          "text": [
            "-------- CENTRALIZADO --------\n",
            "---------------------- DIREITA\n",
            "ESQUERDA ---------------------\n"
          ]
        }
      ]
    },
    {
      "cell_type": "code",
      "source": [
        "# ALINHAMENTO PARA F STRINGS\n",
        "\n",
        "\n",
        "print(f\"| {'Unidade':>20} | {'5':^20} |\")\n",
        "print(f\"| {'Unidade':^20} | {'5':^20} |\")\n",
        "print(f\"| {'Unidade':<20} | {'5':^20} |\")"
      ],
      "metadata": {
        "colab": {
          "base_uri": "https://localhost:8080/"
        },
        "id": "ubgYmDTUKpI8",
        "outputId": "2ffde297-968c-40f7-eedb-b496eaba432e"
      },
      "execution_count": 27,
      "outputs": [
        {
          "output_type": "stream",
          "name": "stdout",
          "text": [
            "|              Unidade |          5           |\n",
            "|       Unidade        |          5           |\n",
            "| Unidade              |          5           |\n"
          ]
        }
      ]
    },
    {
      "cell_type": "code",
      "source": [
        "# MULTIPLICAÇÃO DE STRINGS\n",
        "\n",
        "\n",
        "sus = '#'\n",
        "estrela = '*'\n",
        "\n",
        "\n",
        "print(sus*2, estrela*10, sus*2)\n",
        "print('='*16)"
      ],
      "metadata": {
        "colab": {
          "base_uri": "https://localhost:8080/"
        },
        "id": "Xbv37MDgLVhL",
        "outputId": "272f5bd7-040a-4f03-9e2a-caf0a6799bfd"
      },
      "execution_count": 28,
      "outputs": [
        {
          "output_type": "stream",
          "name": "stdout",
          "text": [
            "## ********** ##\n",
            "================\n"
          ]
        }
      ]
    },
    {
      "cell_type": "code",
      "source": [
        "# CONCATENAÇÃO (soma, junta textos)\n",
        "texto1 = 'SENAI'\n",
        "texto2 = 'ARY'\n",
        "texto3 = 'TORRES'\n",
        "escola = texto1+' '+texto2+' '+texto3+' Giulia'\n",
        "\n",
        "\n",
        "print('\\n\\n', escola)"
      ],
      "metadata": {
        "colab": {
          "base_uri": "https://localhost:8080/"
        },
        "id": "sRNbrlJYMSC0",
        "outputId": "67acf3ef-d650-450e-c183-f5ae9440a2b2"
      },
      "execution_count": 30,
      "outputs": [
        {
          "output_type": "stream",
          "name": "stdout",
          "text": [
            "\n",
            "\n",
            " SENAI ARY TORRES Giulia\n"
          ]
        }
      ]
    },
    {
      "cell_type": "markdown",
      "source": [
        "# Desafios"
      ],
      "metadata": {
        "id": "bYvF84JOTbxx"
      }
    },
    {
      "cell_type": "code",
      "source": [
        "# DESAFIO 01\n",
        "\"\"\"\n",
        "Crie um programa para efetuar a leitura de um número inteiro e\n",
        "apresentar o resultado do quadrado desse número\n",
        "\"\"\"\n",
        "num = int(input(\"Digite um número inteiro: \"))\n",
        "\n",
        "print(\"Seu número escolhido é:\",num, \"e seu quadrado é:\", num*num)\n",
        "\n"
      ],
      "metadata": {
        "colab": {
          "base_uri": "https://localhost:8080/"
        },
        "id": "ys6F-56cTfXa",
        "outputId": "9def6a23-eabd-4052-be6f-2b73428b7ba3"
      },
      "execution_count": 34,
      "outputs": [
        {
          "output_type": "stream",
          "name": "stdout",
          "text": [
            "Digite um número inteiro: 7\n",
            "Seu número escolhido é: 7 e seu quadrado é: 49\n"
          ]
        }
      ]
    },
    {
      "cell_type": "code",
      "source": [
        "# DESAFIO 01 (versão com format)\n",
        "\"\"\"\n",
        "Crie um programa para efetuar a leitura de um número inteiro e\n",
        "apresentar o resultado do quadrado desse número\n",
        "\"\"\"\n",
        "num = int(input(\"Digite um número inteiro: \"))\n",
        "\n",
        "print(\"Seu número escolhido é {} e seu quadrado é {}!\".format(num, num*num))\n",
        "\n"
      ],
      "metadata": {
        "colab": {
          "base_uri": "https://localhost:8080/"
        },
        "id": "pwBPIm2YdBuU",
        "outputId": "02886600-da56-4fea-dccb-723e1ec1c668"
      },
      "execution_count": 37,
      "outputs": [
        {
          "output_type": "stream",
          "name": "stdout",
          "text": [
            "Digite um número inteiro: 10\n",
            "O quadrado de 10 é 100!\n"
          ]
        }
      ]
    },
    {
      "cell_type": "code",
      "source": [
        "# DESAFIO 01 (versão com %)\n",
        "\"\"\"\n",
        "Crie um programa para efetuar a leitura de um número inteiro e\n",
        "apresentar o resultado do quadrado desse número\n",
        "\"\"\"\n",
        "num = int(input(\"Digite um número inteiro: \"))\n",
        "\n",
        "print(\"O seu número escolhido é %d e seu quadrado é %f!\" %(num, num*num))\n",
        "\n"
      ],
      "metadata": {
        "colab": {
          "base_uri": "https://localhost:8080/"
        },
        "id": "_j1UuzpbewfM",
        "outputId": "2ca6386a-49b8-4806-8ba8-db3a38569c1c"
      },
      "execution_count": 38,
      "outputs": [
        {
          "output_type": "stream",
          "name": "stdout",
          "text": [
            "Digite um número inteiro: 10\n",
            "O seu número escolhido é 10 e seu quadrado é 100.000000!\n"
          ]
        }
      ]
    },
    {
      "cell_type": "code",
      "source": [
        "# DESAFIO 01 (versão com f)\n",
        "\"\"\"\n",
        "Crie um programa para efetuar a leitura de um número inteiro e\n",
        "apresentar o resultado do quadrado desse número\n",
        "\"\"\"\n",
        "num = int(input(\"Digite um número inteiro: \"))\n",
        "\n",
        "print(f\"O seu número escolhido é {num} e seu quadrado é {num*num}!\")\n",
        "\n"
      ],
      "metadata": {
        "colab": {
          "base_uri": "https://localhost:8080/"
        },
        "id": "kLZx8NQcgrrs",
        "outputId": "f05b3013-2821-4aeb-b377-6d1c9d7eb034"
      },
      "execution_count": 40,
      "outputs": [
        {
          "output_type": "stream",
          "name": "stdout",
          "text": [
            "Digite um número inteiro: 10\n",
            "O seu número escolhido é 10 e seu quadrado é 100!\n"
          ]
        }
      ]
    },
    {
      "cell_type": "code",
      "source": [
        "# DESAFIO 02\n",
        "\"\"\"\n",
        "Escreva um programa que leia dois caracteres e imprima-os na tela da seguinte forma:\n",
        "O usuário digitou (caractere1) e (caractere2)!.\n",
        "\"\"\"\n",
        "\n",
        "caractere1 = input(\"Digite um caractere: \")\n",
        "caractere2 = input(\"Digite outro: \")\n",
        "\n",
        "print(f\"O usuário digitou {caractere1} e {caractere2}!\")\n"
      ],
      "metadata": {
        "id": "jaqpf8egjnaK"
      },
      "execution_count": null,
      "outputs": []
    },
    {
      "cell_type": "code",
      "source": [
        "# DESAFIO 03\n",
        "\"\"\"\n",
        "Crie um programa que leia um número inteiro e imprimir seu sucessor e seu antecessor\n",
        "\"\"\"\n",
        "num = int(input(\"Digite um número inteiro: \"))\n",
        "\n",
        "print(f\"O número escolhido foi {num}, seu antecessor é {num - 1} e seu sucessor é {num + 1}.\")"
      ],
      "metadata": {
        "colab": {
          "base_uri": "https://localhost:8080/"
        },
        "id": "zNpDk7yfkF2C",
        "outputId": "bbb174d1-abb6-44dd-9307-eed53ea32775"
      },
      "execution_count": 41,
      "outputs": [
        {
          "output_type": "stream",
          "name": "stdout",
          "text": [
            "Digite um número inteiro: 7\n",
            "O número escolhido foi 7, seu antecessor é 6 e seu sucessor é 8.\n"
          ]
        }
      ]
    },
    {
      "cell_type": "code",
      "source": [
        "# DESAFIO 04\n",
        "\"\"\"\n",
        "Crie um programa para entrar com a base e a altura de um retângulo e imprimir\n",
        "respectivamente o perímetro e a área correspondente.\n",
        "\"\"\"\n",
        "\n",
        "base = float(input(\"Digite o valor da base: \"))\n",
        "altura = float(input(\"Digite o valor da altura: \"))\n",
        "\n",
        "print(f\"O perímetro desse retângulo vale {2*(base+altura)}, e a área vale {base*altura}!\")"
      ],
      "metadata": {
        "colab": {
          "base_uri": "https://localhost:8080/"
        },
        "id": "vWPU4ctdkmeB",
        "outputId": "82903f25-fe80-4579-d5f8-7a083b3226c0"
      },
      "execution_count": 42,
      "outputs": [
        {
          "output_type": "stream",
          "name": "stdout",
          "text": [
            "Digite o valor da base: 10\n",
            "Digite o valor da altura10\n",
            "O perímetro desse retângulo vale 40.0, e a área vale 100.0!\n"
          ]
        }
      ]
    },
    {
      "cell_type": "code",
      "source": [
        "# DESAFIO 05\n",
        "\"\"\"\n",
        "Crie um programa que dados o valor, a taxa e o tempo, efetuar o cálculo do valor de\n",
        "uma prestação em atraso.\n",
        "FÓRMULA: valor da prestação + (valor da prestação * (taxa / 100) * tempo)\n",
        "\"\"\"\n",
        "\n",
        "valor = float(input(\"Digite o valor inicial da prestação: \"))\n",
        "taxa = float(input(\"Digite a taxa a ser colocada sobre a prestação: \"))\n",
        "tempo = float(input(\"Digite o tempo, em dias, em que a prestação está atrasada: \"))\n",
        "valor_final = valor + (valor * (taxa/100) * tempo)\n",
        "\n",
        "print(f\"O valor final da prestação é de R${valor_final}.\")"
      ],
      "metadata": {
        "colab": {
          "base_uri": "https://localhost:8080/"
        },
        "id": "L98GYncVlbLZ",
        "outputId": "bc00a606-f542-49d7-9f1f-992c4fb21894"
      },
      "execution_count": 43,
      "outputs": [
        {
          "output_type": "stream",
          "name": "stdout",
          "text": [
            "Digite o valor inicial da prestação: 100\n",
            "Digite a taxa a ser colocada sobre a prestação: 5.00\n",
            "Digite o tempo, em dias, em que a prestação está atrasada: 10\n",
            "O valor final da prestação é de R$150.0.\n"
          ]
        }
      ]
    }
  ]
}