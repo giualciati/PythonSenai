{
  "nbformat": 4,
  "nbformat_minor": 0,
  "metadata": {
    "colab": {
      "provenance": [],
      "toc_visible": true,
      "authorship_tag": "ABX9TyNbBUC8DfITX+qrhGmo6TTh",
      "include_colab_link": true
    },
    "kernelspec": {
      "name": "python3",
      "display_name": "Python 3"
    },
    "language_info": {
      "name": "python"
    }
  },
  "cells": [
    {
      "cell_type": "markdown",
      "metadata": {
        "id": "view-in-github",
        "colab_type": "text"
      },
      "source": [
        "<a href=\"https://colab.research.google.com/github/giualciati/PythonSenai/blob/main/09Tuplas.ipynb\" target=\"_parent\"><img src=\"https://colab.research.google.com/assets/colab-badge.svg\" alt=\"Open In Colab\"/></a>"
      ]
    },
    {
      "cell_type": "markdown",
      "source": [
        "# Teoria\n"
      ],
      "metadata": {
        "id": "Z9NCXqnGq7yg"
      }
    },
    {
      "cell_type": "code",
      "execution_count": null,
      "metadata": {
        "id": "pzcHkCviq4-l"
      },
      "outputs": [],
      "source": [
        "# TUPLAS\n",
        "\n",
        "\n",
        "linguagens = ('Assembly', 'JAVA', 'Python', 'C#')\n",
        "print(linguagens)\n",
        "\n",
        "\n",
        "linguagens2 = 'Assembly', 'JAVA', 'Python', 'C#'\n",
        "print(linguagens2)\n",
        "print(type(linguagens2))"
      ]
    },
    {
      "cell_type": "code",
      "source": [
        "# ACESSOS PARA TUPLAS\n",
        "\n",
        "\n",
        "lanches = ('Hamburger', 'Pastel', 'Coxinha', 'Pizza')\n",
        "\n",
        "\n",
        "print(lanches[0])   # Primeiro item\n",
        "print(lanches[-1])  # Último item\n",
        "print(lanches[1:3]) # Dois itens\n",
        "print(lanches[1:])  # A partir do segundo\n",
        "print(lanches[:2])  # Até o segundo\n",
        "print(lanches[:])   # Todos"
      ],
      "metadata": {
        "id": "DoArGXbBrEfp"
      },
      "execution_count": null,
      "outputs": []
    },
    {
      "cell_type": "code",
      "source": [
        "# GERA ERRO (TUPLA É IMUTÁVEL)\n",
        "\n",
        "\n",
        "lanches = ('Hamburger', 'Pastel', 'Coxinha', 'Pizza')\n",
        "lanches[0] = 'Hotdog'"
      ],
      "metadata": {
        "id": "Czvwm07prG1Y"
      },
      "execution_count": null,
      "outputs": []
    },
    {
      "cell_type": "code",
      "source": [
        "# PERCORRER UMA TUPLA\n",
        "\n",
        "\n",
        "lanches = ('Hamburger', 'Pastel', 'Coxinha', 'Pizza')\n",
        "\n",
        "\n",
        "for lanche in lanches:\n",
        "    print(lanche)"
      ],
      "metadata": {
        "id": "G4xG0M3BtH0A"
      },
      "execution_count": null,
      "outputs": []
    },
    {
      "cell_type": "code",
      "source": [
        "# PERCORRER UMA TUPLA POR ÍNDICE\n",
        "\n",
        "\n",
        "lanches = ('Hamburger', 'Pastel', 'Coxinha', 'Pizza')\n",
        "\n",
        "\n",
        "for i in range(len(lanches)):\n",
        "    print(lanches[i])"
      ],
      "metadata": {
        "id": "yKDMevYvtJzP"
      },
      "execution_count": null,
      "outputs": []
    },
    {
      "cell_type": "code",
      "source": [
        "# PERCORRER UMA TUPLA POR ÍNDICE E VALORES\n",
        "\n",
        "\n",
        "lanches = ('Hamburger', 'Pastel', 'Coxinha', 'Pizza')\n",
        "\n",
        "\n",
        "for posicao, lanche in enumerate(lanches):\n",
        "    print(f\"{posicao+1} | {lanche}\")"
      ],
      "metadata": {
        "colab": {
          "base_uri": "https://localhost:8080/"
        },
        "id": "gosqPsWPtKiP",
        "outputId": "ed87c439-b280-43fc-87c4-97ad92262608"
      },
      "execution_count": 16,
      "outputs": [
        {
          "output_type": "stream",
          "name": "stdout",
          "text": [
            "1 | Hamburger\n",
            "2 | Pastel\n",
            "3 | Coxinha\n",
            "4 | Pizza\n"
          ]
        }
      ]
    },
    {
      "cell_type": "code",
      "source": [
        "# CONVERTER LISTA EM TUPLA\n",
        "\n",
        "\n",
        "lista = list()\n",
        "lista = [1, 2, 3, 4, 5]\n",
        "\n",
        "\n",
        "tupla = tuple(lista)\n",
        "print(tupla)\n",
        "print(type(tupla))"
      ],
      "metadata": {
        "id": "z8yg5voitMbP"
      },
      "execution_count": null,
      "outputs": []
    },
    {
      "cell_type": "code",
      "source": [
        "# MÉTODO SORTED\n",
        "\n",
        "\n",
        "lanches = ('Hamburger', 'Pastel', 'Coxinha', 'Pizza')\n",
        "print(lanches)\n",
        "ordenar = tuple(sorted(lanches))\n",
        "print(ordenar)\n",
        "print(type(ordenar))"
      ],
      "metadata": {
        "id": "EB0Z1HbMtPAP"
      },
      "execution_count": null,
      "outputs": []
    },
    {
      "cell_type": "code",
      "source": [
        "# MÉTODO DEL\n",
        "\n",
        "\n",
        "lanches = ('Hamburger', 'Pastel', 'Coxinha', 'Pizza')\n",
        "del(lanches)\n",
        "print(lanches)"
      ],
      "metadata": {
        "id": "3SbIytxNtQn4"
      },
      "execution_count": null,
      "outputs": []
    },
    {
      "cell_type": "code",
      "source": [
        "# CONCATENAR TUPLAS\n",
        "\n",
        "\n",
        "lanches = ('Hamburger', 'Pastel', 'Coxinha', 'Pizza')\n",
        "doces = ('Pudim', 'Bolo', 'Sorvete')\n",
        "\n",
        "\n",
        "unificada = lanches + doces\n",
        "\n",
        "\n",
        "print(unificada)"
      ],
      "metadata": {
        "id": "jIZ-_th1tuhn"
      },
      "execution_count": null,
      "outputs": []
    },
    {
      "cell_type": "code",
      "source": [
        "# EXEMPLOS PARA INSERÇÃO DE VALORES EM TUPLAS:\n",
        "\n",
        "\n",
        "# Digitação pelo usuário\n",
        "tupla = tuple(int(input(f\"Digite o {i+1} nº: \")) for i in range(5))\n",
        "print(\"\\nDigitados pelo usuário:\", tupla)\n",
        "\n",
        "\n",
        "# Números aleatórios\n",
        "import random\n",
        "tupla = tuple(random.randint(1, 50) for i in range(5))\n",
        "print(\"\\nNúmeros aleatórios:\", tupla)\n",
        "\n",
        "\n",
        "# Contagem\n",
        "tupla = tuple(i for i in range(1, 11))\n",
        "print(\"\\nContagem:\", tupla)\n",
        "\n",
        "\n",
        "# Valores condicionais\n",
        "numeros = (4, 8, 7, 10, -50)\n",
        "pares = tuple(num if num%2==0 else '' for num in numeros)\n",
        "print(\"\\nPares condicionais:\", pares)\n",
        "\n",
        "\n",
        "# Imprimir diretamente uma Tupla\n",
        "print(\"\\nNúmeros pares de 0 a 10:\", tuple(i for i in range(0, 11, 2)))"
      ],
      "metadata": {
        "id": "N9MKnTSQtvBn"
      },
      "execution_count": null,
      "outputs": []
    },
    {
      "cell_type": "markdown",
      "source": [
        "# Desafios\n"
      ],
      "metadata": {
        "id": "wuPb0Ai9txfY"
      }
    },
    {
      "cell_type": "code",
      "source": [
        "# DESAFIO 01\n",
        "\"\"\"\n",
        "Crie um programa que tenha uma tupla totalmente preenchida com\n",
        "uma contagem por extenso, de um até vinte.\n",
        "\n",
        "\n",
        "Seu programa deverá ler um número pelo teclado (entre 1 e 20) e\n",
        "mostrá-lo por extenso.\n",
        "\"\"\"\n",
        "numeros_extenso = (\n",
        "    'Um',\n",
        "    'Dois',\n",
        "    'Três',\n",
        "    'Quatro',\n",
        "    'Cinco',\n",
        "    'Seis',\n",
        "    'Sete',\n",
        "    'Oito',\n",
        "    'Nove',\n",
        "    'Dez',\n",
        "    'Onze',\n",
        "    'Doze',\n",
        "    'Treze',\n",
        "    'Quatorze',\n",
        "    'Quinze',\n",
        "    'Dezesseis',\n",
        "    'Dezessete',\n",
        "    'Dezoito',\n",
        "    'Dezenove',\n",
        "    'Vinte')\n",
        "\n",
        "num = int(input(\"Digite um número inteiro entre 1 e 20: \"))\n",
        "\n",
        "if num >= 1 and num <= 20:\n",
        "  print(f\"O número {num} por extenso é {numeros_extenso[num-1]}\")\n",
        "else:\n",
        "  print(\"Digite um número válido.\")"
      ],
      "metadata": {
        "colab": {
          "base_uri": "https://localhost:8080/"
        },
        "id": "cuAh6NZ8t0Mn",
        "outputId": "a700e58c-482b-4cec-c392-ddf2390f270f"
      },
      "execution_count": 6,
      "outputs": [
        {
          "output_type": "stream",
          "name": "stdout",
          "text": [
            "Digite um número inteiro entre 1 e 20: 2\n",
            "O número 2 por extenso é Três\n"
          ]
        }
      ]
    },
    {
      "cell_type": "code",
      "source": [
        "# DESAFIO 02\n",
        "\"\"\"\n",
        "Crie um programa que gere cinco números aleatórios para uma tupla.\n",
        "Exiba a listagem de números gerados, indique o menor e o maior valor.\n",
        "\"\"\"\n",
        "import random\n",
        "tupla = tuple(random.randint(1, 50) for i in range(5))\n",
        "print(\"\\nNúmeros aleatórios:\", tupla)\n",
        "\n",
        "print(f\"\\nMaior valor encontrado foi {max(tupla)}\")\n",
        "print(f\"Menor valor encontrado foi {min(tupla)}\")"
      ],
      "metadata": {
        "colab": {
          "base_uri": "https://localhost:8080/"
        },
        "id": "FklYM_oayqB1",
        "outputId": "4325ff96-ae82-4817-897a-27c315282895"
      },
      "execution_count": 11,
      "outputs": [
        {
          "output_type": "stream",
          "name": "stdout",
          "text": [
            "\n",
            "Números aleatórios: (40, 46, 28, 16, 24)\n",
            "\n",
            "Maior valor encontrado foi 46\n",
            "Menor valor encontrado foi 16\n"
          ]
        }
      ]
    },
    {
      "cell_type": "code",
      "source": [
        "# DESAFIO 03\n",
        "\"\"\"\n",
        "Desenvolva um programa que leia quatro números inteiros pelo teclado e guarde-os em uma tupla. No final, mostre:\n",
        "    A) Quantas vezes apareceu o valor 9.\n",
        "    B) Em que posição foi digitado o primeiro valor 3.\n",
        "    C) Quais foram os números pares.\n",
        "\"\"\"\n",
        "\n",
        "tupla = tuple(int(input(f\"Digite o {i+1} nº: \")) for i in range(4))\n",
        "print(\"\\nDigitados pelo usuário:\", tupla)\n",
        "\n",
        "if 9 in tupla:\n",
        "  print(f\"O número 9 apareceu {tupla.count(9)} vezes\")\n",
        "if 3 in tupla:\n",
        "   print(f\"O número 3 apareceu primeiro na posição {tupla.index(3)+1}.\")\n",
        "else:\n",
        "    print(\"O número 3 não foi digitado.\")\n",
        "\n",
        "pares = tuple(num if num%2==0 else '' for num in tupla)\n",
        "print(\"\\nPares:\", pares)\n"
      ],
      "metadata": {
        "colab": {
          "base_uri": "https://localhost:8080/"
        },
        "id": "JfX-jT5PyuSt",
        "outputId": "201a2745-a0ef-40ec-e272-d23104484418"
      },
      "execution_count": 23,
      "outputs": [
        {
          "output_type": "stream",
          "name": "stdout",
          "text": [
            "Digite o 1 nº: 3\n",
            "Digite o 2 nº: 9\n",
            "Digite o 3 nº: 4\n",
            "Digite o 4 nº: 6\n",
            "\n",
            "Digitados pelo usuário: (3, 9, 4, 6)\n",
            "O número 9 apareceu 1 vezes\n",
            "O número 3 apareceu primeiro na posição 1.\n",
            "\n",
            "Pares: ('', '', 4, 6)\n"
          ]
        }
      ]
    },
    {
      "cell_type": "code",
      "source": [
        "# DESAFIO 04\n",
        "\"\"\"\n",
        "Crie um programa que tenha uma tupla única com 4 produtos e seus respectivos preços em sequência.\n",
        "Exiba uma listagem com os nomes e preços, organizando os dados em forma tabular.\n",
        "\"\"\"\n",
        "lanches = ('Hamburger', 'Pastel', 'Coxinha', 'Pizza')\n",
        "preco = (10.00, 8.00, 6.50, 30.00)\n",
        "\n",
        "\n",
        "for posicao, (lanche, preco_produto) in enumerate(zip(lanches, preco), 1):\n",
        "    print(f\"{posicao:<5} {lanche:<10} R${preco_produto:.2f}\")"
      ],
      "metadata": {
        "colab": {
          "base_uri": "https://localhost:8080/"
        },
        "id": "e0LpunajywOd",
        "outputId": "d4d46d78-d877-431a-f624-e846a64c85a9"
      },
      "execution_count": 25,
      "outputs": [
        {
          "output_type": "stream",
          "name": "stdout",
          "text": [
            "1     Hamburger  R$10.00\n",
            "2     Pastel     R$8.00\n",
            "3     Coxinha    R$6.50\n",
            "4     Pizza      R$30.00\n"
          ]
        }
      ]
    },
    {
      "cell_type": "code",
      "source": [],
      "metadata": {
        "id": "pafRgHB-42KD"
      },
      "execution_count": null,
      "outputs": []
    }
  ]
}