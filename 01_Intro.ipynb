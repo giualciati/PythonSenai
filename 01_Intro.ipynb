{
  "nbformat": 4,
  "nbformat_minor": 0,
  "metadata": {
    "colab": {
      "provenance": [],
      "authorship_tag": "ABX9TyPvPqdd12tbhMF6dtaYJWgT",
      "include_colab_link": true
    },
    "kernelspec": {
      "name": "python3",
      "display_name": "Python 3"
    },
    "language_info": {
      "name": "python"
    }
  },
  "cells": [
    {
      "cell_type": "markdown",
      "metadata": {
        "id": "view-in-github",
        "colab_type": "text"
      },
      "source": [
        "<a href=\"https://colab.research.google.com/github/giualciati/PythonSenai/blob/main/01_Intro.ipynb\" target=\"_parent\"><img src=\"https://colab.research.google.com/assets/colab-badge.svg\" alt=\"Open In Colab\"/></a>"
      ]
    },
    {
      "cell_type": "code",
      "execution_count": null,
      "metadata": {
        "colab": {
          "base_uri": "https://localhost:8080/"
        },
        "id": "nB7ZYJeBeKNZ",
        "outputId": "50a077e5-6942-44bc-d0da-918fcd6b8276"
      },
      "outputs": [
        {
          "output_type": "stream",
          "name": "stdout",
          "text": [
            "hello, World!\n"
          ]
        }
      ],
      "source": [
        "print(\"hello, World!\")"
      ]
    },
    {
      "cell_type": "code",
      "source": [
        "print(\"Giulia Alciati\")"
      ],
      "metadata": {
        "colab": {
          "base_uri": "https://localhost:8080/"
        },
        "id": "v1FRK6gCjTT_",
        "outputId": "cc6777fc-8e5a-4a65-84f2-ad328357ff6b"
      },
      "execution_count": null,
      "outputs": [
        {
          "output_type": "stream",
          "name": "stdout",
          "text": [
            "Giulia Alciati\n"
          ]
        }
      ]
    },
    {
      "cell_type": "markdown",
      "source": [
        "Algorítmo lanche\n",
        "\n",
        "passo 1: Prepare os ingredientes\n",
        "\n",
        "passo 2: Pegue a embalagem do pão, abra e retire duas fatias\n",
        "\n",
        "passo 3: posicione as fatias lado a lado\n",
        "\n",
        "passo 4: Pegue um tomate e corte-o em rodelas\n",
        "\n",
        "passo 5: Coloque as rodelas do tomate sobre uma das fatias de pão\n",
        "\n",
        "passo 6: Pegue uma fatia de queijo e uma fatia de presunto\n",
        "\n",
        "passo 7: Coloque-as sobre as rodelas de tomate\n",
        "\n",
        "passo 8: Pegue uma folha de alface\n",
        "\n",
        "passo 9: Coloque-a sobre as fatias de queijo e presunto\n",
        "\n",
        "passo 10: Pegue a fatia de pão vazia e coloque sobre a folha de alface\n"
      ],
      "metadata": {
        "id": "r4MjWpE-k4y1"
      }
    },
    {
      "cell_type": "markdown",
      "source": [
        "exercício abstração lógica - cafeteria\n",
        "\n",
        "Componente 1: Base elétrica para esquentar a água e manter a temperatura do café\n",
        "\n",
        "Componente 2: Reservatório de água\n",
        "\n",
        "Componente 3: Copo para o café\n",
        "\n",
        "Componente 4: \"Cano\" que envia a água já aquecida para o filtro\n",
        "\n",
        "Componente 5: Filtro para o pó de café\n",
        "\n",
        "Componente 6: Sistema de liga/desliga para ativar a cafeteira e esquentar a água\n",
        "\n"
      ],
      "metadata": {
        "id": "-x7vzymGPgy3"
      }
    },
    {
      "cell_type": "markdown",
      "source": [
        "exercício de lógica\n",
        "\n",
        "Passo 1: Adicionar todo o líquido do barril C no barril A\n",
        "Passo 2: Adicionar 1 litro do barril B no barril A"
      ],
      "metadata": {
        "id": "2eArzLbZU3KW"
      }
    },
    {
      "cell_type": "code",
      "source": [
        "#Desafio troca de variáveis\n",
        "\n",
        "a = 5\n",
        "b = 2\n",
        "c = 0\n",
        "\n",
        "c = a\n",
        "a = b\n",
        "b = c\n",
        "\n",
        "print(a)\n",
        "print(b)"
      ],
      "metadata": {
        "colab": {
          "base_uri": "https://localhost:8080/"
        },
        "id": "hfYhXtObaiSb",
        "outputId": "598f7d33-9272-4ddc-e7db-21dde1ac528e"
      },
      "execution_count": null,
      "outputs": [
        {
          "output_type": "stream",
          "name": "stdout",
          "text": [
            "2\n",
            "5\n"
          ]
        }
      ]
    },
    {
      "cell_type": "code",
      "source": [
        "#Desafio troca de variáveis (simultânea)\n",
        "\n",
        "a = 5\n",
        "b = 2\n",
        "c = 0\n",
        "\n",
        "a, b = b, a\n",
        "\n",
        "print(a)\n",
        "print(b)"
      ],
      "metadata": {
        "id": "HE1RtEUJnyDH"
      },
      "execution_count": null,
      "outputs": []
    },
    {
      "cell_type": "code",
      "source": [
        "# Atribuição em uma linha\n",
        "\n",
        "nome, idade, sexo = 'Giulia', 20, 'F'\n",
        "\n",
        "print('Nome:', nome)\n",
        "print('Idade:', idade)\n",
        "print('Sexo:', sexo)"
      ],
      "metadata": {
        "colab": {
          "base_uri": "https://localhost:8080/"
        },
        "id": "JHYFYKjaRGSj",
        "outputId": "8b1ae1ac-6191-4b0e-b6ca-0c93320e9b2a"
      },
      "execution_count": null,
      "outputs": [
        {
          "output_type": "stream",
          "name": "stdout",
          "text": [
            "Nome: Giulia\n",
            "Idade: 20\n",
            "Sexo: F\n"
          ]
        }
      ]
    },
    {
      "cell_type": "code",
      "source": [
        "# Atribuição em uma linha\n",
        "\n",
        "nome = 'Giulia'\n",
        "idade = 20\n",
        "sexo = 'F'\n",
        "altura = 1.70\n",
        "casado = False\n",
        "\n",
        "print('Nome:', nome)\n",
        "print('Idade:', idade)\n",
        "print('Sexo:', sexo)\n",
        "print('Altura:', altura, 'm')\n",
        "print('casado:', casado)\n",
        "\n",
        "\n"
      ],
      "metadata": {
        "colab": {
          "base_uri": "https://localhost:8080/"
        },
        "id": "RJnhKVzyS1z8",
        "outputId": "e7e34df2-d8b4-45ad-8dec-02eddc67d557"
      },
      "execution_count": null,
      "outputs": [
        {
          "output_type": "stream",
          "name": "stdout",
          "text": [
            "Nome: Giulia\n",
            "Idade: 20\n",
            "Sexo: F\n",
            "Altura: 1.7 m\n",
            "casado: False\n"
          ]
        }
      ]
    },
    {
      "cell_type": "code",
      "source": [
        "\n",
        "# sistema para calcular média\n",
        "\n",
        "nota1 = float(input(\"Digite a nota 1: \"))\n",
        "nota2 = float(input(\"Digite a nota 2: \"))\n",
        "media = (nota1 + nota2)/2\n",
        "\n",
        "if media >= 5:\n",
        "  print(\"Parabéns! Você foi aprovado e sua média é: \", media)\n",
        "else media <5:\n",
        "  print(\"Reprovado! Sua média é: \", media)\n",
        "\n"
      ],
      "metadata": {
        "colab": {
          "base_uri": "https://localhost:8080/"
        },
        "id": "ng1LEcFrZ0Px",
        "outputId": "e203fe68-6595-4ff6-d585-bee1230418b1"
      },
      "execution_count": null,
      "outputs": [
        {
          "output_type": "stream",
          "name": "stdout",
          "text": [
            "Digite a nota 1: 10\n",
            "Digite a nota 2: 8\n",
            "Parabéns! Você foi aprovado e sua média é:  9.0\n"
          ]
        }
      ]
    },
    {
      "cell_type": "code",
      "source": [
        "# Operadores aritméticos\n",
        "\n",
        "\n",
        "a = 10\n",
        "b = 3\n",
        "\n",
        "\n",
        "print(a +  b)     # 13      (adição)\n",
        "print(a -  b)     # 7       (subtração)\n",
        "print(a *  b)     # 30      (multiplicação)\n",
        "print(a /  b)     # 3.3333  (divisão)\n",
        "print(a // b)     # 3       (divisão inteira)\n",
        "print(a %  b)     # 1       (módulo/resto da divisão)\n",
        "print(a ** b)     # 1000    (exponenciação)\n",
        "print(a ** (1/b)) # 2.14    (radiciação)"
      ],
      "metadata": {
        "colab": {
          "base_uri": "https://localhost:8080/"
        },
        "id": "6nyBEYxHwFRg",
        "outputId": "654a2424-f97a-4bbc-a170-3d98ee962158"
      },
      "execution_count": null,
      "outputs": [
        {
          "output_type": "stream",
          "name": "stdout",
          "text": [
            "13\n",
            "7\n",
            "30\n",
            "3.3333333333333335\n",
            "3\n",
            "1\n",
            "1000\n",
            "2.154434690031884\n"
          ]
        }
      ]
    },
    {
      "cell_type": "code",
      "source": [
        "# Operadores relacionais ou de comparação\n",
        "\n",
        "\n",
        "a = 10\n",
        "b = 3\n",
        "\n",
        "\n",
        "print(a == b)  # False  Igual\n",
        "print(a != b)  # True   Diferente\n",
        "print(a >  b)  # True   Maior\n",
        "print(a <  b)  # False  Menor\n",
        "print(a >= b)  # True   Maior ou igual\n",
        "print(a <= b)  # False  Menor ou igual"
      ],
      "metadata": {
        "colab": {
          "base_uri": "https://localhost:8080/"
        },
        "id": "2K6Waeimwyo3",
        "outputId": "467dd40b-58ee-40ef-8e4d-a9fbeff7bb71"
      },
      "execution_count": null,
      "outputs": [
        {
          "output_type": "stream",
          "name": "stdout",
          "text": [
            "False\n",
            "True\n",
            "True\n",
            "False\n",
            "True\n",
            "False\n"
          ]
        }
      ]
    },
    {
      "cell_type": "code",
      "source": [
        "# Operadores lógicos\n",
        "\n",
        "\n",
        "a = True\n",
        "b = False\n",
        "\n",
        "\n",
        "print(a and b)  # False\n",
        "print(a or b)   # True\n",
        "print(not a)    # False"
      ],
      "metadata": {
        "id": "87CRuZxMxbnf"
      },
      "execution_count": null,
      "outputs": []
    },
    {
      "cell_type": "code",
      "source": [
        "# Operadores de atribuição\n",
        "\n",
        "\n",
        "a = 10\n",
        "a += 2  # a = a + 2\n",
        "print(a) # 12\n",
        "\n",
        "\n",
        "b = 10\n",
        "b -= 2  # b = b - 2\n",
        "print(b) # 8\n",
        "\n",
        "\n",
        "c = 10\n",
        "c *= c  # c = c * c\n",
        "print(c) # 100\n",
        "\n",
        "\n",
        "d = 10\n",
        "d /= 2 # d = d / 2\n",
        "print(d) # 5.0\n",
        "\n",
        "\n",
        "d = 10\n",
        "d **= 2 # d = d ** 2\n",
        "print(d) # 100\n",
        "\n",
        "\n",
        "d = 10\n",
        "d //= 2\n",
        "print(d)\n",
        "\n",
        "\n",
        "d = 10\n",
        "d %= 2\n",
        "print(d) # 5.0"
      ],
      "metadata": {
        "colab": {
          "base_uri": "https://localhost:8080/"
        },
        "id": "icMrGLf8xhAn",
        "outputId": "400cb62e-9efd-4c32-bc48-86ad635829b3"
      },
      "execution_count": null,
      "outputs": [
        {
          "output_type": "stream",
          "name": "stdout",
          "text": [
            "12\n",
            "8\n",
            "100\n",
            "5.0\n",
            "100\n",
            "5\n",
            "0\n"
          ]
        }
      ]
    },
    {
      "cell_type": "code",
      "source": [
        "# EXPRESSÕES\n",
        "\"\"\"\n",
        "1) PARÊNTESES\n",
        "2) POTÊNCIA E RAIZ\n",
        "3) MULTIPLICAÇÃO E DIVISÃO\n",
        "4) ADIÇÃO E SUBTRAÇÃO\n",
        "\"\"\"\n",
        "print(2+2*5**2)\n",
        "print((2+2)*5**2)\n",
        "print(((2+2)*5)**2)"
      ],
      "metadata": {
        "colab": {
          "base_uri": "https://localhost:8080/"
        },
        "id": "2zujT7oGyisO",
        "outputId": "c881dc66-0c10-47cf-f70e-f3289c132ab7"
      },
      "execution_count": null,
      "outputs": [
        {
          "output_type": "stream",
          "name": "stdout",
          "text": [
            "52\n",
            "100\n",
            "400\n"
          ]
        }
      ]
    },
    {
      "cell_type": "code",
      "source": [
        "# REFATORAÇÃO DE CÓDIGO\n",
        "\n",
        "\n",
        "# ORIGINAL\n",
        "a = 10\n",
        "b = 20\n",
        "c = a+b\n",
        "print('Original', c)\n",
        "\n",
        "\n",
        "# REFATORADO\n",
        "def soma(x, y):\n",
        "    return x+y\n",
        "\n",
        "\n",
        "print('Refatorado', soma(45, 48))"
      ],
      "metadata": {
        "colab": {
          "base_uri": "https://localhost:8080/"
        },
        "id": "2LmUACUayjIO",
        "outputId": "3857e630-ba56-47d2-d7aa-97607b12a6b2"
      },
      "execution_count": null,
      "outputs": [
        {
          "output_type": "stream",
          "name": "stdout",
          "text": [
            "Original 30\n",
            "Refatorado 93\n"
          ]
        }
      ]
    }
  ]
}