{
  "nbformat": 4,
  "nbformat_minor": 0,
  "metadata": {
    "colab": {
      "provenance": [],
      "authorship_tag": "ABX9TyNnnxl8oQSORREvBiW2N5Yq",
      "include_colab_link": true
    },
    "kernelspec": {
      "name": "python3",
      "display_name": "Python 3"
    },
    "language_info": {
      "name": "python"
    }
  },
  "cells": [
    {
      "cell_type": "markdown",
      "metadata": {
        "id": "view-in-github",
        "colab_type": "text"
      },
      "source": [
        "<a href=\"https://colab.research.google.com/github/giualciati/PythonSenai/blob/main/04_condicionais.ipynb\" target=\"_parent\"><img src=\"https://colab.research.google.com/assets/colab-badge.svg\" alt=\"Open In Colab\"/></a>"
      ]
    },
    {
      "cell_type": "markdown",
      "source": [
        "# Teoria\n"
      ],
      "metadata": {
        "id": "eD_lVqvFmeNi"
      }
    },
    {
      "cell_type": "code",
      "execution_count": null,
      "metadata": {
        "id": "o0mkraU6bPgB"
      },
      "outputs": [],
      "source": [
        "# ESTRUTURAS CONDICIONAIS\n",
        "\n",
        "\n",
        "\"\"\"\n",
        "OPERADORES RELACIONAIS (OU DE COMPARAÇÃO)\n",
        "\n",
        "\n",
        ">  MAIOR\n",
        "<  MENOR\n",
        ">= MAIOR OU IGUAL\n",
        "<= MENOR OU IGUAL\n",
        "== IGUAL\n",
        "!= DIFERENTE\n",
        "\n",
        "\n",
        "OPERADORES LÓGICOS\n",
        "\n",
        "\n",
        "and | or | not | in | not in\n",
        "\"\"\"\n"
      ]
    },
    {
      "cell_type": "code",
      "source": [
        "# BLOCO if\n",
        "\n",
        "\n",
        "x = 6\n",
        "if x > 5:\n",
        "    print(\"É maior que 5\")\n",
        "    if x < 8:\n",
        "        print(\"Também é menor que 8\")\n",
        "if x == 10:\n",
        "    print(\"X vale 10\")"
      ],
      "metadata": {
        "id": "p8C3mpOebVTV"
      },
      "execution_count": null,
      "outputs": []
    },
    {
      "cell_type": "code",
      "source": [
        "# BLOCO if else\n",
        "\n",
        "\n",
        "y = 9\n",
        "if y != 8:\n",
        "    print(\"É diferente de 8\")\n",
        "else:\n",
        "    print(\"É igual a 8\")"
      ],
      "metadata": {
        "id": "hw5C0aWEh0OL"
      },
      "execution_count": null,
      "outputs": []
    },
    {
      "cell_type": "code",
      "source": [
        "# BLOCO if elif else\n",
        "\n",
        "\n",
        "z = 15\n",
        "if z <= 10:\n",
        "    print(\"Frio\")\n",
        "elif z <= 20:\n",
        "    print(\"Morno\")\n",
        "elif z <= 30:\n",
        "    print(\"Quente\")\n",
        "else:\n",
        "    print(\"Muito quente\")"
      ],
      "metadata": {
        "id": "luvJHQB9h2C7"
      },
      "execution_count": null,
      "outputs": []
    },
    {
      "cell_type": "code",
      "source": [
        "# BLOCO COM and\n",
        "\n",
        "\n",
        "n = 20.1\n",
        "if n >= 10 and n <= 20:\n",
        "    print(\"N está entre 10 e 20 👍\")\n",
        "else:\n",
        "    print(\"N não está entre 10 e 20 👎\")"
      ],
      "metadata": {
        "id": "HFYlzAGWh4Bj"
      },
      "execution_count": null,
      "outputs": []
    },
    {
      "cell_type": "code",
      "source": [
        "# BLOCO COM or\n",
        "\n",
        "\n",
        "casado = False\n",
        "filhos = False\n",
        "\n",
        "\n",
        "if casado or filhos:\n",
        "    print(\"Corre!!!!\")\n",
        "else:\n",
        "    print(\"Livre para casar...\")"
      ],
      "metadata": {
        "id": "cvwaqSRrjI5S"
      },
      "execution_count": null,
      "outputs": []
    },
    {
      "cell_type": "code",
      "source": [
        "# BLOCO COM in\n",
        "\n",
        "\n",
        "escola = \"SENAI Ary Torres\"\n",
        "min = escola.lower()\n",
        "if 'ary' in min:\n",
        "    print(\"Tem Ary no nome!\")\n",
        "else:\n",
        "    print(\"Não tem Ary no nome!\")\n",
        "print('\\n', escola)"
      ],
      "metadata": {
        "colab": {
          "base_uri": "https://localhost:8080/"
        },
        "id": "VHHzfai_j3l6",
        "outputId": "f02ed9ff-a19b-4a03-b8fb-cd25c6ccda7f"
      },
      "execution_count": 3,
      "outputs": [
        {
          "output_type": "stream",
          "name": "stdout",
          "text": [
            "Tem Ary no nome!\n",
            "\n",
            " SENAI Ary Torres\n"
          ]
        }
      ]
    },
    {
      "cell_type": "code",
      "source": [
        "# BLOCO COM not in\n",
        "\n",
        "\n",
        "escola = \"SENAI Ary Torres\"\n",
        "\n",
        "\n",
        "if 'Ary' not in escola:\n",
        "    print(\"Não tem Ary no nome!\")\n",
        "else:\n",
        "    print(\"Tem Ary no nome!\")"
      ],
      "metadata": {
        "colab": {
          "base_uri": "https://localhost:8080/"
        },
        "id": "bthQPprhj-1q",
        "outputId": "e163606c-ed0a-4035-ca88-859921a4b362"
      },
      "execution_count": 4,
      "outputs": [
        {
          "output_type": "stream",
          "name": "stdout",
          "text": [
            "Tem Ary no nome!\n"
          ]
        }
      ]
    },
    {
      "cell_type": "code",
      "source": [
        "# NÃO UTILIZAR ESSA ESTRUTURA!!!!!!\n",
        "\n",
        "\n",
        "a = 3\n",
        "b = 2\n",
        "c = 1\n",
        "\n",
        "\n",
        "if a>b>c: # if a>b and b>c:\n",
        "    print(\"A é maior\")"
      ],
      "metadata": {
        "id": "a2NZFZ68mWDK"
      },
      "execution_count": null,
      "outputs": []
    },
    {
      "cell_type": "markdown",
      "source": [
        "# Desafios\n",
        "\n"
      ],
      "metadata": {
        "id": "duMK_UA_mizi"
      }
    },
    {
      "cell_type": "code",
      "source": [
        " # DESAFIO 01\n",
        "\"\"\"\n",
        "Crie um programa que leia o nome de um bairro e diga se\n",
        "ele começa ou não com o nome Santo.\n",
        "\"\"\"\n",
        "\n",
        "bairro = input(\"Digite o nome do seu bairro: \").lower()\n",
        "\n",
        "if bairro.split()[0] == 'santo':\n",
        "  print(\"O nome do seu bairro começa com Santo.\")\n",
        "else:\n",
        "  print(\"O nome do seu bairro não começa com Santo.\")\n"
      ],
      "metadata": {
        "colab": {
          "base_uri": "https://localhost:8080/"
        },
        "id": "O5L-mhfWmnn5",
        "outputId": "37a39e18-cee2-4904-83bd-440f878f6e93"
      },
      "execution_count": 14,
      "outputs": [
        {
          "output_type": "stream",
          "name": "stdout",
          "text": [
            "Digite o nome do seu bairro: Vila Santa lucia\n",
            "O nome do seu bairro não começa com Santo.\n"
          ]
        }
      ]
    },
    {
      "cell_type": "code",
      "source": [
        "# DESAFIO 02\n",
        "\"\"\"\n",
        "Crie um programa que leia o nome de uma pessoa e diga se ela\n",
        "tem \"Silva\" no nome.\n",
        "\"\"\"\n",
        "\n",
        "nome = input(\"Digite seu nome completo: \").lower()\n",
        "\n",
        "\n",
        "if 'silva' in nome:\n",
        "  print(\"Há Silva no nome\")\n",
        "else:\n",
        "  print(\"Não há Silva no nome\")\n"
      ],
      "metadata": {
        "colab": {
          "base_uri": "https://localhost:8080/"
        },
        "id": "bu_lTbcMtbmv",
        "outputId": "0bf79da1-af46-4039-a8cd-541ceae48bce"
      },
      "execution_count": 29,
      "outputs": [
        {
          "output_type": "stream",
          "name": "stdout",
          "text": [
            "Digite seu nome completo: Giulia Silva\n",
            "Há Silva no nome\n"
          ]
        }
      ]
    },
    {
      "cell_type": "code",
      "source": [
        "# DESAFIO 03\n",
        "\"\"\"\n",
        "Crie um programa que leia uma frase qualquer e diga se ela é um palíndromo, exemplo:\n",
        "APOS A SOPA\n",
        "A SACADA DA CASA\n",
        "A TORRE DA DERROTA\n",
        "SOCORRAM ME SUBI NO ONIBUS EM MARROCOS\n",
        "\"\"\"\n",
        "\n",
        "frase = input(\"Digite uma frase qualquer para verificar se ela é um palíndrono: \")\n",
        "min = frase.lower()\n",
        "juntar = min.replace(' ', '')\n",
        "inverter = juntar[::-1]\n",
        "\n",
        "if juntar == inverter:\n",
        "  print(\"É um palíndrono\")\n",
        "else:\n",
        "  print(\"Não é um palíndrono\")"
      ],
      "metadata": {
        "colab": {
          "base_uri": "https://localhost:8080/"
        },
        "id": "1NbKwftVtfJG",
        "outputId": "800e7fed-fe46-487e-ebdb-909b51acf49f"
      },
      "execution_count": 28,
      "outputs": [
        {
          "output_type": "stream",
          "name": "stdout",
          "text": [
            "Digite uma frase qualquer para verificar se ela é um palíndrono: amei o cabelo\n",
            "Não é um palíndrono\n"
          ]
        }
      ]
    },
    {
      "cell_type": "code",
      "source": [
        "# DESAFIO 04\n",
        "\"\"\"\n",
        "Escreva um programa que faça o computador sortear um\n",
        "número inteiro entre 1 e 3 e peça para o usuário tentar\n",
        "descobrir qual foi o número escolhido pelo computador.\n",
        "\n",
        "\n",
        "O programa deverá escrever na tela se o usuário venceu ou\n",
        "perdeu.\n",
        "\n",
        "\n",
        "Biblioteca necessária:\n",
        "import random\n",
        "random.randint(0, 1000)\n",
        "\"\"\"\n",
        "import random\n",
        "numero_user = int(input(\"Escolha um número inteiro entre 1 e 3: \"))\n",
        "numero_maquina = random.randint(1, 3)\n",
        "if numero_maquina == numero_user:\n",
        "  print(numero_maquina)\n",
        "  print(\"Você acertou o número! 😄\")\n",
        "else:\n",
        "  print(numero_maquina)\n",
        "  print(\"Não foi dessa vez. Tente de novo! 😫\")\n"
      ],
      "metadata": {
        "colab": {
          "base_uri": "https://localhost:8080/"
        },
        "id": "jWcV1Wxh40nT",
        "outputId": "b507028f-9de8-49d8-afaa-65b1eee4ff5e"
      },
      "execution_count": 42,
      "outputs": [
        {
          "output_type": "stream",
          "name": "stdout",
          "text": [
            "Escolha um número inteiro entre 1 e 3: 2\n",
            "1\n",
            "Não foi dessa vez. Tente de novo! 😫\n"
          ]
        }
      ]
    },
    {
      "cell_type": "code",
      "source": [
        "# DESAFIO 05\n",
        "\"\"\"\n",
        "Escreva um programa que leia a velocidade de um carro.\n",
        "\n",
        "\n",
        "Se ele ultrapassar 80 km/h, mostre uma mensagem dizendo que\n",
        "ele foi multado.\n",
        "\n",
        "\n",
        "A multa custará R$ 7,00 por cada km acima do limite.\n",
        "\"\"\"\n",
        "velocidade = float(input(\"Digite a velocidade atual do carro: \"))\n",
        "\n",
        "\n",
        "if velocidade > 80:\n",
        "  print(f\"\\nVocê está acima da velocidade permitida e sua multa é de R${(velocidade-80)*7:,.2f}!\")\n",
        "else:\n",
        "  print(\"\\nVocê está dentro da velocidade permitida!\")"
      ],
      "metadata": {
        "colab": {
          "base_uri": "https://localhost:8080/"
        },
        "id": "KEfpSayq46LD",
        "outputId": "37442554-3628-416d-dd83-62b306341ef6"
      },
      "execution_count": 47,
      "outputs": [
        {
          "output_type": "stream",
          "name": "stdout",
          "text": [
            "Digite a velocidade atual do carro: 84\n",
            "\n",
            "Você está acima da velocidade permitida e sua multa é de R$28.00!\n"
          ]
        }
      ]
    },
    {
      "cell_type": "code",
      "source": [
        "# DESAFIO 06\n",
        "\"\"\"\n",
        "Crie um programa que leia um número inteiro e mostre na tela\n",
        "se ele é PAR ou ÍMPAR.\n",
        "\"\"\"\n",
        "\n",
        "numero = int(input(\"Digite um número inteiro: \"))\n",
        "\n",
        "if numero % 2 == 0:\n",
        "  print(\"\\nO número escolhido é um número par!\")\n",
        "else:\n",
        "  print(\"\\nO número escolhido é um número impar!\")\n"
      ],
      "metadata": {
        "colab": {
          "base_uri": "https://localhost:8080/"
        },
        "id": "rkfXFSho6zli",
        "outputId": "e82ff799-b8ef-4260-e33a-7300e7b3394b"
      },
      "execution_count": 48,
      "outputs": [
        {
          "output_type": "stream",
          "name": "stdout",
          "text": [
            "Digite um número inteiro: 2\n",
            "\n",
            "O número escolhido é um número par!\n"
          ]
        }
      ]
    },
    {
      "cell_type": "code",
      "source": [
        "# DESAFIO 07\n",
        "\"\"\"\n",
        "Escreva um programa que pergunte o salário de um funcionário\n",
        "e calcule o valor do seu aumento.\n",
        "Para salários superiores a R$ 1.250,00, calcule um aumento de\n",
        "10%.\n",
        "Para salários inferiores ou iguais, o aumento é de 15%.\n",
        "\"\"\"\n",
        "\n",
        "salario = float(input(\"Digite o valor do salário para calcular o aumento: \"))\n",
        "\n",
        "if salario > 1250.00:\n",
        "  print(f\"\\nSeu salário atual é de R${salario:,.2f} e com o aumento passará a ser R${(salario*(10/100))+salario:,.2f}\")\n",
        "else:\n",
        "  print(f\"\\nSeu salario atual é de R${salario:,.2f} e com o aumento passará a ser R${(salario*(15/100))+salario:,.2f}\")"
      ],
      "metadata": {
        "colab": {
          "base_uri": "https://localhost:8080/"
        },
        "id": "a-oSPttl61oB",
        "outputId": "5a691ad4-25b3-4524-a07a-9b974e1ef7a4"
      },
      "execution_count": 50,
      "outputs": [
        {
          "output_type": "stream",
          "name": "stdout",
          "text": [
            "Digite o valor do salário para calcular o aumento: 1500\n",
            "\n",
            "Seu salário atual é de R$1,500.00 e com o aumento passará a ser R$1,650.00\n"
          ]
        }
      ]
    },
    {
      "cell_type": "code",
      "source": [
        "# DESAFIO 08\n",
        "\"\"\"\n",
        "Desenvolva um programa que pergunte a distância de uma\n",
        "viagem em km. Calcule o preço da passagem cobrando R$\n",
        "0,50 por Km para viagens de até 200 Km e R$ 0,45 para\n",
        "viagens mais longas.\n",
        "\"\"\"\n",
        "\n",
        "distancia = float(input(\"Digite a distancia da viagem: \"))\n",
        "\n",
        "if distancia <= 200:\n",
        "  print(f\"\\nSua viagem é de {distancia}km e sua passagem custará R${distancia*0.50:,.2f}\")\n",
        "else:\n",
        "  print(f\"\\nSua viagem é de {distancia}km e sua passagem custará R${distancia*0.45:,.2f}\")"
      ],
      "metadata": {
        "colab": {
          "base_uri": "https://localhost:8080/"
        },
        "id": "fefmdrIM63Oa",
        "outputId": "11e9963c-fcb1-4c97-a529-35b4b7fbfa29"
      },
      "execution_count": 51,
      "outputs": [
        {
          "output_type": "stream",
          "name": "stdout",
          "text": [
            "Digite a distancia da viagem: 200\n",
            "\n",
            "Sua viagem é de 200.0km e sua passagem custará R$100.00\n"
          ]
        }
      ]
    },
    {
      "cell_type": "code",
      "source": [
        "# DESAFIO 09\n",
        "\"\"\"\n",
        "Escreva um programa para aprovar um empréstimo bancário\n",
        "para a compra de uma casa. O programa vai perguntar o valor\n",
        "da casa, o salário do comprador e em quantos anos ele vai\n",
        "pagar.\n",
        "\n",
        "\n",
        "Calcule o valor da prestação mensal, sabendo que ela não\n",
        "pode exceder 30% do salário ou então o empréstimo será\n",
        "negado.\n",
        "\"\"\"\n",
        "\n",
        "casa = float(input(\"Digite o valor da casa: \"))\n",
        "salario = float(input(\"Digite o valor do salário do comprador: \"))\n",
        "anos = int(input(\"Digite a quantidade em anos em que ele pretende quitar: \"))\n",
        "prestacao = casa/(anos*12)\n",
        "limite = salario *\n",
        "\n"
      ],
      "metadata": {
        "colab": {
          "base_uri": "https://localhost:8080/"
        },
        "id": "HHFWdSmE_os5",
        "outputId": "149612ef-cd26-48c2-c9fa-bf37ad1d12c0"
      },
      "execution_count": 54,
      "outputs": [
        {
          "output_type": "stream",
          "name": "stdout",
          "text": [
            "Digite o valor da casa: 200000\n",
            "Digite o valor do salário do comprador: 6000\n",
            "Digite a quantidade em anos em que ele pretende quitar: 20\n",
            "-4200.0\n"
          ]
        }
      ]
    },
    {
      "cell_type": "code",
      "source": [
        "# DESAFIO 10\n",
        "\"\"\"\n",
        "Faça um programa que leia o ano de nascimento de um jovem\n",
        "e informe, de acordo com sua idade:\n",
        "\n",
        "\n",
        "Se ele ainda vai se alistar ao serviço militar\n",
        "Se é a hora de se alistar\n",
        "Se já passou o tempo do alistamento\n",
        "\n",
        "\n",
        "Seu programa também deverá mostrar o tempo que falta ou\n",
        "que passou do prazo.\n",
        "\"\"\"\n",
        "idade = int(input(\"Digite a sua idade: \"))\n",
        "\n",
        "if idade > 18:\n",
        "  print(f\"\\nJá passou o tempo do alistamento e você está {idade - 18} anos atrasado!\")\n",
        "if idade == 18:\n",
        "  print(\"\\nVocê está dentro do prazo para se alistar.\")\n",
        "else:\n",
        "  print(f\"\\nVocê ainda não pode se alistar pois faltam {18 - idade} anos.\")"
      ],
      "metadata": {
        "colab": {
          "base_uri": "https://localhost:8080/"
        },
        "id": "Vj0PvjsDCqd-",
        "outputId": "605677db-45c1-4f77-8d00-2fcc50dd7027"
      },
      "execution_count": 57,
      "outputs": [
        {
          "output_type": "stream",
          "name": "stdout",
          "text": [
            "Digite a sua idade: 14\n",
            "\n",
            "Você ainda não pode se alistar e ainda faltam 4 anos.\n"
          ]
        }
      ]
    },
    {
      "cell_type": "code",
      "source": [
        "# DESAFIO 11\n",
        "\"\"\"\n",
        "Crie um programa que leia duas notas entre 0 a 10 de um aluno\n",
        "e calcule sua média, mostrando uma mensagem no final, de\n",
        "acordo com a média atingida.\n",
        "\n",
        "\n",
        "Média abaixo de 5.0: REPROVADO\n",
        "Média entre 5.0 a 6.9: RECUPERAÇÃO\n",
        "Média igual ou superior a 7.0: APROVADO\n",
        "\"\"\"\n",
        "\n",
        "nota1 = float(input(\"Digite a primeira nota: \"))\n",
        "nota2 = float(input(\"Digite a segunda nota: \"))\n",
        "media = (nota1+nota2)/2\n",
        "\n",
        "if media < 5:\n",
        "  print(f\"\\nSua média foi {media} e você está reprovado.\")\n",
        "elif media >= 5 and media <=6.9:\n",
        "  print(f\"\\nSua média foi {media} e você está de recuperação.\")\n",
        "else:\n",
        "  print(f\"\\nSua média foi {media} e você está aprovado.\")\n"
      ],
      "metadata": {
        "colab": {
          "base_uri": "https://localhost:8080/"
        },
        "id": "n2jtv2avCwKW",
        "outputId": "d5113de3-3c71-400a-a930-5b98dbfd3dff"
      },
      "execution_count": 61,
      "outputs": [
        {
          "output_type": "stream",
          "name": "stdout",
          "text": [
            "Digite a primeira nota: 5\n",
            "Digite a segunda nota: 5\n",
            "\n",
            "Sua média foi 5.0 e você está de recuperação.\n"
          ]
        }
      ]
    },
    {
      "cell_type": "code",
      "source": [
        "# DESAFIO 12\n",
        "\"\"\"\n",
        "Desenvolva um programa que leia o comprimento de três retas\n",
        "e diga ao usuário se elas podem ou não formar um triângulo.\n",
        "Condições Necessárias:\n",
        "a + b > c\n",
        "a + c > b\n",
        "b + c > a\n",
        "\"\"\"\n",
        "\n",
        "a = float(input(\"Digite o valor da reta A: \"))\n",
        "b = float(input(\"Digite o valor da reta B: \"))\n",
        "c = float(input(\"Digite o valor da reta C: \"))\n",
        "\n",
        "if a + b > c or a + c > b or b + c > a:\n",
        "  print(\"\\nOs valores das 3 retas podem formar um triângulo.\")\n",
        "else:\n",
        "  print(\"\\nOs valore das 3 retas não podem formar um triângulo.\")"
      ],
      "metadata": {
        "colab": {
          "base_uri": "https://localhost:8080/"
        },
        "id": "wAV1DnEbCyre",
        "outputId": "ac6b9a17-1b7a-47ad-b0e0-135ccd7d1132"
      },
      "execution_count": 62,
      "outputs": [
        {
          "output_type": "stream",
          "name": "stdout",
          "text": [
            "Digite o valor da reta A: 2\n",
            "Digite o valor da reta B: 5\n",
            "Digite o valor da reta C: 3\n",
            "\n",
            "Os valores das 3 retas podem formar um triângulo.\n"
          ]
        }
      ]
    }
  ]
}