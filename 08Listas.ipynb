{
  "nbformat": 4,
  "nbformat_minor": 0,
  "metadata": {
    "colab": {
      "provenance": [],
      "toc_visible": true,
      "authorship_tag": "ABX9TyM0YzQbXBFJOtCZSs4ykFBd",
      "include_colab_link": true
    },
    "kernelspec": {
      "name": "python3",
      "display_name": "Python 3"
    },
    "language_info": {
      "name": "python"
    }
  },
  "cells": [
    {
      "cell_type": "markdown",
      "metadata": {
        "id": "view-in-github",
        "colab_type": "text"
      },
      "source": [
        "<a href=\"https://colab.research.google.com/github/giualciati/PythonSenai/blob/main/08Listas.ipynb\" target=\"_parent\"><img src=\"https://colab.research.google.com/assets/colab-badge.svg\" alt=\"Open In Colab\"/></a>"
      ]
    },
    {
      "cell_type": "markdown",
      "source": [
        "# Teoria"
      ],
      "metadata": {
        "id": "lVgO-fPLKYzl"
      }
    },
    {
      "cell_type": "code",
      "execution_count": null,
      "metadata": {
        "id": "TtTJ0P73KV4p"
      },
      "outputs": [],
      "source": [
        "lista1 = []\n",
        "lista2 = list()\n",
        "\n",
        "\n",
        "print(type(lista1))\n",
        "print(type(lista2))"
      ]
    },
    {
      "cell_type": "code",
      "source": [
        "bancos = ['Banco do Brasil', 'CEF', 'Santander']\n",
        "print(bancos)\n",
        "print(bancos[1])\n",
        "\n",
        "\n",
        "# SUBSTITUIR ITEM DA LISTA\n",
        "bancos[1] = 'Itaú'\n",
        "print(bancos)\n",
        "\n",
        "\n",
        "# SUBSTITUIR ÚLTIMO ITEM DA LISTA\n",
        "bancos[-1] = 'C6'\n",
        "print(bancos)\n",
        "\n",
        "\n",
        "# AGREGAR ITENS A LISTA\n",
        "bancos = bancos + ['Safra']\n",
        "print(bancos)\n",
        "\n",
        "\n",
        "# AGREGAR ITENS A LISTA (Operador de atribuição)\n",
        "bancos += ['Bradesco', 'Nubank']\n",
        "print(bancos)"
      ],
      "metadata": {
        "id": "ZeKCujG4Kd3s"
      },
      "execution_count": null,
      "outputs": []
    },
    {
      "cell_type": "code",
      "source": [
        "# MÉTODOS PARA LISTAS\n",
        "\n",
        "\n",
        "lista = [4, 5, 3, 5]\n",
        "print(lista)\n",
        "\n",
        "\n",
        "# ADICIONAR ITENS A LISTA\n",
        "lista.append(2)\n",
        "print(lista)\n",
        "\n",
        "\n",
        "# ADICIONAR VALOR NO ÍNDICE ESPECÍFICO\n",
        "lista.insert(2, -3)\n",
        "print(lista)\n",
        "\n",
        "\n",
        "# CONTAR VALORES\n",
        "print(lista.count(5))\n",
        "\n",
        "\n",
        "# VERIFICAR TAMANHO DA LISTA\n",
        "print(len(lista))\n",
        "\n",
        "\n",
        "# OBTER ÍNDICE DO ITEM DA LISTA\n",
        "print(lista.index(5))\n",
        "\n",
        "\n",
        "# REVERTER ITENS DA LISTA\n",
        "lista.reverse() # Não atribuir a uma variável\n",
        "print(lista)\n",
        "\n",
        "\n",
        "# ORDENAR A LISTA\n",
        "lista.sort() # Não atribuir a uma variável\n",
        "print(lista)\n",
        "\n",
        "\n",
        "# REMOVER ITEM ATRAVÉS DO VALOR\n",
        "lista.remove(5)\n",
        "print(lista)\n",
        "\n",
        "\n",
        "# REMOVER ÚLTIMO ITEM DA LISTA (recebe valor removido)\n",
        "removeu = lista.pop()\n",
        "print(removeu)\n",
        "print(lista)\n",
        "\n",
        "\n",
        "# REMOVER INTERVALO OU ÍNDICE\n",
        "del lista[1:3]\n",
        "print(lista)\n",
        "\n",
        "\n",
        "# LIMPAR LISTA\n",
        "lista.clear()\n",
        "print(lista)"
      ],
      "metadata": {
        "id": "SpiTjOYWKg7d"
      },
      "execution_count": null,
      "outputs": []
    },
    {
      "cell_type": "code",
      "source": [
        "# LISTA DENTRO DE LISTA\n",
        "\n",
        "\n",
        "compras = [10.2, 3.35, 16.3, ['Tomate', 'Cebola', 'Pimentão']]\n",
        "print(compras)\n",
        "print(compras[3][1])"
      ],
      "metadata": {
        "colab": {
          "base_uri": "https://localhost:8080/"
        },
        "id": "ms1GgTibKjws",
        "outputId": "3c322f2d-cca1-4d16-fe5c-1a7ce6cb4a67"
      },
      "execution_count": 36,
      "outputs": [
        {
          "output_type": "stream",
          "name": "stdout",
          "text": [
            "[10.2, 3.35, 16.3, ['Tomate', 'Cebola', 'Pimentão']]\n",
            "Cebola\n"
          ]
        }
      ]
    },
    {
      "cell_type": "code",
      "source": [
        "# EXEMPLO\n",
        "\n",
        "\n",
        "compras = [10.2, 3.35, 16.3, ['Tomate', 'Cebola', 'Pimentão']]\n",
        "\n",
        "\n",
        "print(f\"O {compras[3][0]} custa R$ {compras[0]:.2f}\")\n",
        "print(f\"A {compras[3][1]} custa R$ {compras[1]:.2f}\")\n",
        "print(f\"O {compras[3][2]} custa R$ {compras[2]:.2f}\")\n",
        "\n",
        "\n",
        "print(f\"\\nTotal R$ {compras[0]+compras[1]+compras[2]:.2f}\")"
      ],
      "metadata": {
        "id": "ufKndbXIKl31"
      },
      "execution_count": null,
      "outputs": []
    },
    {
      "cell_type": "code",
      "source": [
        "# EXEMPLO COM FUNÇÃO sum\n",
        "\n",
        "\n",
        "print(f\"\\nTotal R$ {sum(compras[0:3]):.2f}\")"
      ],
      "metadata": {
        "colab": {
          "base_uri": "https://localhost:8080/",
          "height": 176
        },
        "id": "SuKeraIBKnql",
        "outputId": "f45dd015-f07d-4af6-bd80-d094bc138b57"
      },
      "execution_count": 26,
      "outputs": [
        {
          "output_type": "error",
          "ename": "NameError",
          "evalue": "name 'compras' is not defined",
          "traceback": [
            "\u001b[0;31m---------------------------------------------------------------------------\u001b[0m",
            "\u001b[0;31mNameError\u001b[0m                                 Traceback (most recent call last)",
            "\u001b[0;32m/tmp/ipython-input-26-3564594774.py\u001b[0m in \u001b[0;36m<cell line: 0>\u001b[0;34m()\u001b[0m\n\u001b[1;32m      2\u001b[0m \u001b[0;34m\u001b[0m\u001b[0m\n\u001b[1;32m      3\u001b[0m \u001b[0;34m\u001b[0m\u001b[0m\n\u001b[0;32m----> 4\u001b[0;31m \u001b[0mprint\u001b[0m\u001b[0;34m(\u001b[0m\u001b[0;34mf\"\\nTotal R$ {sum(compras[0:3]):.2f}\"\u001b[0m\u001b[0;34m)\u001b[0m\u001b[0;34m\u001b[0m\u001b[0;34m\u001b[0m\u001b[0m\n\u001b[0m",
            "\u001b[0;31mNameError\u001b[0m: name 'compras' is not defined"
          ]
        }
      ]
    },
    {
      "cell_type": "code",
      "source": [
        "# PERCORRER UMA LISTA\n",
        "\n",
        "\n",
        "roupas = ['Camiseta', 'Bermuda', 'Calça', 'Meia']\n",
        "for peca in roupas:\n",
        "    print(peca)"
      ],
      "metadata": {
        "id": "qHT15LnVKqll"
      },
      "execution_count": null,
      "outputs": []
    },
    {
      "cell_type": "code",
      "source": [
        "# PERCORRER UMA LISTA ATRAVÉS DO ÍNDICE\n",
        "\n",
        "\n",
        "roupas = ['Camiseta', 'Bermuda', 'Calça', 'Meia']\n",
        "for i in range(len(roupas)):\n",
        "    print(i+1, roupas[i])"
      ],
      "metadata": {
        "id": "i-k_jpdCKstm"
      },
      "execution_count": null,
      "outputs": []
    },
    {
      "cell_type": "code",
      "source": [
        "# PERCORRER UMA LISTA COM ÍNDICE E VALOR\n",
        "\n",
        "\n",
        "roupas = ['Camiseta', 'Bermuda', 'Calça', 'Meia']\n",
        "for i, peca in enumerate(roupas):\n",
        "    print(i+1, peca)"
      ],
      "metadata": {
        "colab": {
          "base_uri": "https://localhost:8080/"
        },
        "id": "l4d8YeNIKuO1",
        "outputId": "d29002dc-2f61-4669-fbc0-c6a6e9bc2e05"
      },
      "execution_count": 27,
      "outputs": [
        {
          "output_type": "stream",
          "name": "stdout",
          "text": [
            "1 Camiseta\n",
            "2 Bermuda\n",
            "3 Calça\n",
            "4 Meia\n"
          ]
        }
      ]
    },
    {
      "cell_type": "code",
      "source": [
        "# VERIFICAR SE UMA LISTA POSSUI ITENS\n",
        "\n",
        "\n",
        "letras = ['a', 'b', 'c', 'd', 'e', 'f']\n",
        "letra = input(\"Digite a letra: \").lower()\n",
        "\n",
        "\n",
        "if letra in letras:\n",
        "    print(\"\\033[32mEstá\")\n",
        "else:\n",
        "    print(\"\\033[31mNão está\")\n"
      ],
      "metadata": {
        "id": "HFSiA7KiK5It"
      },
      "execution_count": null,
      "outputs": []
    },
    {
      "cell_type": "code",
      "source": [
        "# VERIFICAR SE UMA LISTA NÃO POSSUI ITENS\n",
        "\n",
        "\n",
        "letras = ['a', 'b', 'c', 'd', 'e', 'f']\n",
        "letra = input(\"Digite a letra: \").lower()\n",
        "\n",
        "\n",
        "if letra not in letras:\n",
        "    print(\"\\033[31mNão está\")\n",
        "else:\n",
        "    print(\"\\033[32mEstá\")"
      ],
      "metadata": {
        "id": "r0-EOzywK7Ht"
      },
      "execution_count": null,
      "outputs": []
    },
    {
      "cell_type": "markdown",
      "source": [
        "# Desafios\n"
      ],
      "metadata": {
        "id": "fcpRj_p7K8XN"
      }
    },
    {
      "cell_type": "code",
      "source": [
        "# DESAFIO 01\n",
        "\"\"\"\n",
        "Faça um programa que leia 5 valores numéricos e\n",
        "guarde-os em uma lista. No final, mostre qual foi\n",
        "o maior e o menor valor digitado e as suas respectivas posições na lista.\n",
        "\"\"\"\n",
        "lista = []\n",
        "maior = float('-inf')\n",
        "menor = float('inf')\n",
        "\n",
        "for i in range(1,6):\n",
        "  valor = float(input(f\"Digite o {i}° valor: \"))\n",
        "  lista.append(valor)\n",
        "  if valor > maior:\n",
        "    maior = valor\n",
        "  if valor < menor:\n",
        "    menor = valor\n",
        "print(f\"\\nO maior valor é {maior} e o menor é {menor}\")\n",
        "print(f\"\\nLista com os números em suas respectivas posições {lista}\")"
      ],
      "metadata": {
        "colab": {
          "base_uri": "https://localhost:8080/"
        },
        "id": "NHBzUsVPK__t",
        "outputId": "244ebb13-d842-4c78-c78c-b4351af0ea04"
      },
      "execution_count": 12,
      "outputs": [
        {
          "output_type": "stream",
          "name": "stdout",
          "text": [
            "Digite o 1° valor: 5\n",
            "Digite o 2° valor: 98\n",
            "Digite o 3° valor: 41\n",
            "Digite o 4° valor: 5\n",
            "Digite o 5° valor: 3\n",
            "\n",
            "O maior valor é 98.0 e o menor é 3.0\n",
            "\n",
            "Lista com os números em suas respectivas posições [5.0, 98.0, 41.0, 5.0, 3.0]\n"
          ]
        }
      ]
    },
    {
      "cell_type": "code",
      "source": [
        "# DESAFIO 02\n",
        "\"\"\"\n",
        "Crie um programa onde o usuário possa digitar vários valores\n",
        "numéricos e cadastre-os em uma lista. Caso o número já exista\n",
        "lá dentro, ele não será adicionado. No final serão exibidos\n",
        "todos os valores únicos digitados, em ordem crescente.\n",
        "\"\"\"\n",
        "\n",
        "lista = []\n",
        "\n",
        "print(\"Digite 'sair' se quiser terminar a lista\")\n",
        "\n",
        "while True:\n",
        "  valor = input(\"Digite um valor: \")\n",
        "  if valor.lower() == \"sair\":\n",
        "    break\n",
        "  num = float(valor)\n",
        "  if num in lista:\n",
        "    continue\n",
        "  lista.append(num)\n",
        "  lista.sort()\n",
        "print(lista)"
      ],
      "metadata": {
        "colab": {
          "base_uri": "https://localhost:8080/",
          "height": 373
        },
        "id": "ZWUH-PTOPTrL",
        "outputId": "9fb08830-0307-4785-843f-439e2a1fd42e"
      },
      "execution_count": 25,
      "outputs": [
        {
          "output_type": "stream",
          "name": "stdout",
          "text": [
            "Digite 'sair' se quiser terminar a lista\n"
          ]
        },
        {
          "output_type": "error",
          "ename": "KeyboardInterrupt",
          "evalue": "Interrupted by user",
          "traceback": [
            "\u001b[0;31m---------------------------------------------------------------------------\u001b[0m",
            "\u001b[0;31mKeyboardInterrupt\u001b[0m                         Traceback (most recent call last)",
            "\u001b[0;32m/tmp/ipython-input-25-854378800.py\u001b[0m in \u001b[0;36m<cell line: 0>\u001b[0;34m()\u001b[0m\n\u001b[1;32m     12\u001b[0m \u001b[0;34m\u001b[0m\u001b[0m\n\u001b[1;32m     13\u001b[0m \u001b[0;32mwhile\u001b[0m \u001b[0;32mTrue\u001b[0m\u001b[0;34m:\u001b[0m\u001b[0;34m\u001b[0m\u001b[0;34m\u001b[0m\u001b[0m\n\u001b[0;32m---> 14\u001b[0;31m   \u001b[0mvalor\u001b[0m \u001b[0;34m=\u001b[0m \u001b[0minput\u001b[0m\u001b[0;34m(\u001b[0m\u001b[0;34m\"Digite um valor: \"\u001b[0m\u001b[0;34m)\u001b[0m\u001b[0;34m\u001b[0m\u001b[0;34m\u001b[0m\u001b[0m\n\u001b[0m\u001b[1;32m     15\u001b[0m   \u001b[0;32mif\u001b[0m \u001b[0mvalor\u001b[0m\u001b[0;34m.\u001b[0m\u001b[0mlower\u001b[0m\u001b[0;34m(\u001b[0m\u001b[0;34m)\u001b[0m \u001b[0;34m==\u001b[0m \u001b[0;34m\"sair\"\u001b[0m\u001b[0;34m:\u001b[0m\u001b[0;34m\u001b[0m\u001b[0;34m\u001b[0m\u001b[0m\n\u001b[1;32m     16\u001b[0m     \u001b[0;32mbreak\u001b[0m\u001b[0;34m\u001b[0m\u001b[0;34m\u001b[0m\u001b[0m\n",
            "\u001b[0;32m/usr/local/lib/python3.11/dist-packages/ipykernel/kernelbase.py\u001b[0m in \u001b[0;36mraw_input\u001b[0;34m(self, prompt)\u001b[0m\n\u001b[1;32m   1175\u001b[0m                 \u001b[0;34m\"raw_input was called, but this frontend does not support input requests.\"\u001b[0m\u001b[0;34m\u001b[0m\u001b[0;34m\u001b[0m\u001b[0m\n\u001b[1;32m   1176\u001b[0m             )\n\u001b[0;32m-> 1177\u001b[0;31m         return self._input_request(\n\u001b[0m\u001b[1;32m   1178\u001b[0m             \u001b[0mstr\u001b[0m\u001b[0;34m(\u001b[0m\u001b[0mprompt\u001b[0m\u001b[0;34m)\u001b[0m\u001b[0;34m,\u001b[0m\u001b[0;34m\u001b[0m\u001b[0;34m\u001b[0m\u001b[0m\n\u001b[1;32m   1179\u001b[0m             \u001b[0mself\u001b[0m\u001b[0;34m.\u001b[0m\u001b[0m_parent_ident\u001b[0m\u001b[0;34m[\u001b[0m\u001b[0;34m\"shell\"\u001b[0m\u001b[0;34m]\u001b[0m\u001b[0;34m,\u001b[0m\u001b[0;34m\u001b[0m\u001b[0;34m\u001b[0m\u001b[0m\n",
            "\u001b[0;32m/usr/local/lib/python3.11/dist-packages/ipykernel/kernelbase.py\u001b[0m in \u001b[0;36m_input_request\u001b[0;34m(self, prompt, ident, parent, password)\u001b[0m\n\u001b[1;32m   1217\u001b[0m             \u001b[0;32mexcept\u001b[0m \u001b[0mKeyboardInterrupt\u001b[0m\u001b[0;34m:\u001b[0m\u001b[0;34m\u001b[0m\u001b[0;34m\u001b[0m\u001b[0m\n\u001b[1;32m   1218\u001b[0m                 \u001b[0;31m# re-raise KeyboardInterrupt, to truncate traceback\u001b[0m\u001b[0;34m\u001b[0m\u001b[0;34m\u001b[0m\u001b[0m\n\u001b[0;32m-> 1219\u001b[0;31m                 \u001b[0;32mraise\u001b[0m \u001b[0mKeyboardInterrupt\u001b[0m\u001b[0;34m(\u001b[0m\u001b[0;34m\"Interrupted by user\"\u001b[0m\u001b[0;34m)\u001b[0m \u001b[0;32mfrom\u001b[0m \u001b[0;32mNone\u001b[0m\u001b[0;34m\u001b[0m\u001b[0;34m\u001b[0m\u001b[0m\n\u001b[0m\u001b[1;32m   1220\u001b[0m             \u001b[0;32mexcept\u001b[0m \u001b[0mException\u001b[0m\u001b[0;34m:\u001b[0m\u001b[0;34m\u001b[0m\u001b[0;34m\u001b[0m\u001b[0m\n\u001b[1;32m   1221\u001b[0m                 \u001b[0mself\u001b[0m\u001b[0;34m.\u001b[0m\u001b[0mlog\u001b[0m\u001b[0;34m.\u001b[0m\u001b[0mwarning\u001b[0m\u001b[0;34m(\u001b[0m\u001b[0;34m\"Invalid Message:\"\u001b[0m\u001b[0;34m,\u001b[0m \u001b[0mexc_info\u001b[0m\u001b[0;34m=\u001b[0m\u001b[0;32mTrue\u001b[0m\u001b[0;34m)\u001b[0m\u001b[0;34m\u001b[0m\u001b[0;34m\u001b[0m\u001b[0m\n",
            "\u001b[0;31mKeyboardInterrupt\u001b[0m: Interrupted by user"
          ]
        }
      ]
    },
    {
      "cell_type": "code",
      "source": [
        "# DESAFIO 03\n",
        "\"\"\"\n",
        "Crie um programa que vai ler vários números e colocar em uma lista.\n",
        "Depois disso, mostre:\n",
        "A) Quantos números foram digitados.\n",
        "B) A lista de valores, ordenada de forma decrescente.\n",
        "C) Se o valor 5 foi digitado e está ou não na lista.\n",
        "\"\"\"\n",
        "lista = []\n",
        "\n",
        "\n",
        "print(\"Digite 'sair' se quiser terminar a lista\")\n",
        "\n",
        "while True:\n",
        "  valor = input(\"Digite um valor: \")\n",
        "  if valor.lower() == \"sair\":\n",
        "    break\n",
        "  num = float(valor)\n",
        "  lista.append(num)\n",
        "  lista.sort(reverse=True)\n",
        "  numeros_digitados = len(lista)\n",
        "\n",
        "print(lista)\n",
        "\n",
        "if 5 in lista:\n",
        "    print(\"\\nO número 5 está na lista.\")\n",
        "else:\n",
        "    print(\"\\nO número 5 não está na lista.\")\n",
        "print(f\"A lista tem {numeros_digitados} números digitados\")"
      ],
      "metadata": {
        "colab": {
          "base_uri": "https://localhost:8080/"
        },
        "id": "sMDKYzyKTffx",
        "outputId": "c9ff1f8a-a240-4e51-ffd6-278e13495d8d"
      },
      "execution_count": 35,
      "outputs": [
        {
          "output_type": "stream",
          "name": "stdout",
          "text": [
            "Digite 'sair' se quiser terminar a lista\n",
            "Digite um valor: 8\n",
            "Digite um valor: 8\n",
            "Digite um valor: 5\n",
            "Digite um valor: 9\n",
            "Digite um valor: 418\n",
            "Digite um valor: 5\n",
            "Digite um valor: 733\n",
            "Digite um valor: 854\n",
            "Digite um valor: sair\n",
            "[854.0, 733.0, 418.0, 9.0, 8.0, 8.0, 5.0, 5.0]\n",
            "\n",
            "O número 5 está na lista.\n",
            "A lista tem 8 números digitados\n"
          ]
        }
      ]
    },
    {
      "cell_type": "code",
      "source": [
        "# DESAFIO 04\n",
        "\"\"\"\n",
        "Crie um programa que vai ler vários números e colocar em uma lista.\n",
        "Depois disso, crie duas listas extras que vão conter apenas os\n",
        "valores pares e os valores ímpares digitados, respectivamente.\n",
        "Ao final, mostre o conteúdo das três listas geradas.\n",
        "\"\"\"\n",
        "lista = []\n",
        "lista_impar = []\n",
        "lista_par = []\n",
        "\n",
        "print(\"Digite 'sair' se quiser terminar a lista\")\n",
        "\n",
        "while True:\n",
        "  valor = input(\"Digite um valor: \")\n",
        "  if valor.lower() == \"sair\":\n",
        "    break\n",
        "  num = float(valor)\n",
        "  lista.append(num)\n",
        "  if num % 2 == 0:\n",
        "    lista_par.append(num)\n",
        "  else:\n",
        "    lista_impar.append(num)\n",
        "\n",
        "print(f\"\\nLista geral: {lista}\")\n",
        "print(f\"\\nLista de números pares: {lista_par}\")\n",
        "print(f\"\\nLista de números impares: {lista_impar}\")\n",
        "\n",
        "\n"
      ],
      "metadata": {
        "colab": {
          "base_uri": "https://localhost:8080/"
        },
        "id": "w6c66uL5Tk3i",
        "outputId": "b2fc3dc7-c1b2-4ecd-ffa3-55d5139e9fd1"
      },
      "execution_count": 37,
      "outputs": [
        {
          "output_type": "stream",
          "name": "stdout",
          "text": [
            "Digite 'sair' se quiser terminar a lista\n",
            "Digite um valor: 8\n",
            "Digite um valor: 7\n",
            "Digite um valor: 5\n",
            "Digite um valor: 9\n",
            "Digite um valor: 8\n",
            "Digite um valor: 2\n",
            "Digite um valor: 36\n",
            "Digite um valor: 54\n",
            "Digite um valor: 88\n",
            "Digite um valor: 4\n",
            "Digite um valor: 6\n",
            "Digite um valor: 1\n",
            "Digite um valor: 8\n",
            "Digite um valor: 7\n",
            "Digite um valor: 6\n",
            "Digite um valor: sair\n",
            "Lista geral: [8.0, 7.0, 5.0, 9.0, 8.0, 2.0, 36.0, 54.0, 88.0, 4.0, 6.0, 1.0, 8.0, 7.0, 6.0]\n",
            "Lista de números pares: [8.0, 8.0, 2.0, 36.0, 54.0, 88.0, 4.0, 6.0, 8.0, 6.0]\n",
            "Lista de números impares: [7.0, 5.0, 9.0, 1.0, 7.0]\n"
          ]
        }
      ]
    },
    {
      "cell_type": "code",
      "source": [
        "# DESAFIO BÔNUS\n",
        "\"\"\"\n",
        "Dada a lista abaixo, contendo 3 vetores em cada um de seus elementos, iterar por todos os seus elementos,\n",
        "calculando a soma de todos os elementos presentes na lista.\n",
        "\n",
        "\n",
        "lista_matrizes = [\n",
        "    [[1, 2, 3], [4, 5, 6], [7, 8, 9]],\n",
        "    [[10, 11, 12], [13, 14, 15], [16, 17, 18]],\n",
        "    [[19, 20, 21], [22, 23, 24], [25, 26, 27]]\n",
        "]\n",
        "Resultado esperado: 378\n",
        "\"\"\"\n",
        "lista = [\n",
        "    [[1, 2, 3], [4, 5, 6], [7, 8, 9]],\n",
        "    [[10, 11, 12], [13, 14, 15], [16, 17, 18]],\n",
        "    [[19, 20, 21], [22, 23, 24], [25, 26, 27]]\n",
        "]\n",
        "\n",
        "soma = 0\n",
        "\n",
        "for matriz in lista:\n",
        "    for linha in matriz:\n",
        "        for numero in linha:\n",
        "            soma += numero\n",
        "\n",
        "print(soma)\n"
      ],
      "metadata": {
        "colab": {
          "base_uri": "https://localhost:8080/"
        },
        "id": "WyRVTbcJTpRJ",
        "outputId": "5ff600cb-6f85-4023-bce7-95f887c0b18f"
      },
      "execution_count": 49,
      "outputs": [
        {
          "output_type": "stream",
          "name": "stdout",
          "text": [
            "378\n"
          ]
        }
      ]
    }
  ]
}