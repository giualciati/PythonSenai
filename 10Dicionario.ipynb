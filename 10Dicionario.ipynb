{
  "nbformat": 4,
  "nbformat_minor": 0,
  "metadata": {
    "colab": {
      "provenance": [],
      "toc_visible": true,
      "authorship_tag": "ABX9TyOfXUhy43KTGCdLGn8OlA+m",
      "include_colab_link": true
    },
    "kernelspec": {
      "name": "python3",
      "display_name": "Python 3"
    },
    "language_info": {
      "name": "python"
    }
  },
  "cells": [
    {
      "cell_type": "markdown",
      "metadata": {
        "id": "view-in-github",
        "colab_type": "text"
      },
      "source": [
        "<a href=\"https://colab.research.google.com/github/giualciati/PythonSenai/blob/main/10Dicionario.ipynb\" target=\"_parent\"><img src=\"https://colab.research.google.com/assets/colab-badge.svg\" alt=\"Open In Colab\"/></a>"
      ]
    },
    {
      "cell_type": "markdown",
      "source": [
        "# Teoria"
      ],
      "metadata": {
        "id": "NnhL9_4Un1Ek"
      }
    },
    {
      "cell_type": "code",
      "source": [
        "almoco = {'comida': 'Lanche', 'bebida': 'Água', 'sobremesa': ['Pudim', 'Mousse', 'Brigadeiro']}\n",
        "print(almoco['sobremesa'][1])"
      ],
      "metadata": {
        "colab": {
          "base_uri": "https://localhost:8080/"
        },
        "id": "ZoEHMaJXiTpw",
        "outputId": "a81dbf91-5c36-4c5d-8a8c-e7abe46b36e9"
      },
      "execution_count": 11,
      "outputs": [
        {
          "output_type": "stream",
          "name": "stdout",
          "text": [
            "Mousse\n"
          ]
        }
      ]
    },
    {
      "cell_type": "code",
      "execution_count": 1,
      "metadata": {
        "colab": {
          "base_uri": "https://localhost:8080/"
        },
        "id": "RbyLE14keQ_u",
        "outputId": "5498e128-c8b0-4a81-e4bb-d888293ae00a"
      },
      "outputs": [
        {
          "output_type": "stream",
          "name": "stdout",
          "text": [
            "<class 'dict'>\n",
            "{'comida': 'Lanche', 'bebida': 'Água', 'sobremesa': 'Pudim'}\n",
            "Lanche\n"
          ]
        }
      ],
      "source": [
        "# EXEMPLO 01 (JSON)\n",
        "\n",
        "\n",
        "almoco = {'comida': 'Lanche', 'bebida': 'Água', 'sobremesa': 'Pudim'}\n",
        "print(type(almoco))\n",
        "print(almoco)\n",
        "print(almoco['comida'])"
      ]
    },
    {
      "cell_type": "code",
      "source": [
        "# EXEMPLO 02 ITENS (FORMATO JSON)\n",
        "\n",
        "\n",
        "almoco = {\n",
        "    'comida': 'Lanche',\n",
        "    'bebida': 'Água',\n",
        "    'sobremesa': 'Pudim'\n",
        "    }\n",
        "\n",
        "\n",
        "print(almoco.items())"
      ],
      "metadata": {
        "colab": {
          "base_uri": "https://localhost:8080/"
        },
        "id": "SpMbk9e-jgU2",
        "outputId": "23e5c5d9-5658-4e9e-80be-a3fd8902b1dd"
      },
      "execution_count": 21,
      "outputs": [
        {
          "output_type": "stream",
          "name": "stdout",
          "text": [
            "dict_items([('comida', 'Lanche'), ('bebida', 'Água'), ('sobremesa', 'Pudim')])\n"
          ]
        }
      ]
    },
    {
      "cell_type": "code",
      "source": [
        "# EXEMPLO 03 CHAVES\n",
        "\n",
        "\n",
        "print(almoco.keys())"
      ],
      "metadata": {
        "colab": {
          "base_uri": "https://localhost:8080/"
        },
        "id": "Xzao66rYjgNQ",
        "outputId": "0c1c3a1a-79d4-4a5d-aec1-cc3f9e268a51"
      },
      "execution_count": 19,
      "outputs": [
        {
          "output_type": "stream",
          "name": "stdout",
          "text": [
            "dict_keys(['comida', 'bebida', 'sobremesa'])\n"
          ]
        }
      ]
    },
    {
      "cell_type": "code",
      "source": [
        "# EXEMPLO 04 VALORES\n",
        "\n",
        "\n",
        "print(almoco.values())"
      ],
      "metadata": {
        "colab": {
          "base_uri": "https://localhost:8080/"
        },
        "id": "4_hzPIEzkftn",
        "outputId": "2c049ad5-dbd2-40e9-e7e2-86cf359f2711"
      },
      "execution_count": 20,
      "outputs": [
        {
          "output_type": "stream",
          "name": "stdout",
          "text": [
            "dict_values(['Lanche', 'Água', 'Pudim'])\n"
          ]
        }
      ]
    },
    {
      "cell_type": "code",
      "source": [
        "# EXEMPLO 05\n",
        "\n",
        "\n",
        "for chave, valor in almoco.items():\n",
        "    print(f\"{chave:12} | {valor:>12}\")"
      ],
      "metadata": {
        "colab": {
          "base_uri": "https://localhost:8080/"
        },
        "id": "snhuWTp2k33X",
        "outputId": "9dc1e6f2-0acf-4838-b5a9-962980fde79f"
      },
      "execution_count": 18,
      "outputs": [
        {
          "output_type": "stream",
          "name": "stdout",
          "text": [
            "comida       |       Lanche\n",
            "bebida       |         Água\n",
            "sobremesa    |        Pudim\n"
          ]
        }
      ]
    },
    {
      "cell_type": "code",
      "source": [
        "# EXEMPLO 06 (Alterar valores do dicionário)\n",
        "\n",
        "\n",
        "almoco['bebida'] = 'Suco de laranja'\n",
        "for chave, valor in almoco.items():\n",
        "    print(f\"{chave:12} | {valor:>15}\")"
      ],
      "metadata": {
        "id": "MaJI6xWjk4gX"
      },
      "execution_count": null,
      "outputs": []
    },
    {
      "cell_type": "code",
      "source": [
        "# EXEMPLO 07 (Remover valores do dicionário)\n",
        "\n",
        "\n",
        "del almoco['sobremesa']\n",
        "for chave, valor in almoco.items():\n",
        "    print(f\"{chave:12} | {valor:12}\")"
      ],
      "metadata": {
        "id": "BUBUhAdxlVjm"
      },
      "execution_count": null,
      "outputs": []
    },
    {
      "cell_type": "code",
      "source": [
        "# EXEMPLO 08 (Criar chave e valor para o dicionário)\n",
        "\n",
        "\n",
        "almoco['sorvete'] = 'Chocolate'\n",
        "for chave, valor in almoco.items():\n",
        "    print(f\"{chave:12} | {valor:12}\")"
      ],
      "metadata": {
        "colab": {
          "base_uri": "https://localhost:8080/"
        },
        "id": "KmaARN-6lobG",
        "outputId": "3c6bf596-f934-4656-f490-4827b4bf1c5f"
      },
      "execution_count": 22,
      "outputs": [
        {
          "output_type": "stream",
          "name": "stdout",
          "text": [
            "comida       | Lanche      \n",
            "bebida       | Água        \n",
            "sobremesa    | Pudim       \n",
            "sorvete      | Chocolate   \n"
          ]
        }
      ]
    },
    {
      "cell_type": "code",
      "source": [
        "# EXEMPLO 09\n",
        "\n",
        "\n",
        "estado = {}\n",
        "brasil = []\n",
        "\n",
        "\n",
        "for _ in range(2):\n",
        "    estado['uf']    = input(\"Digite a unidade federativa: \")\n",
        "    estado['sigla'] = input(\"Digite a sigla do estado: \")\n",
        "    brasil.append(estado.copy())\n",
        "\n",
        "\n",
        "print(brasil)\n",
        "print(brasil[0]['sigla'])"
      ],
      "metadata": {
        "id": "0WeNfs7b--OM"
      },
      "execution_count": null,
      "outputs": []
    },
    {
      "cell_type": "code",
      "source": [
        "# EXEMPLO 10\n",
        "\n",
        "\n",
        "for estado in brasil:\n",
        "    for valor in estado.values():\n",
        "        print(valor)"
      ],
      "metadata": {
        "id": "2LdcpX3inzek"
      },
      "execution_count": null,
      "outputs": []
    },
    {
      "cell_type": "markdown",
      "source": [
        "# Desafios"
      ],
      "metadata": {
        "id": "yfzSLQ3rn6w-"
      }
    },
    {
      "cell_type": "code",
      "source": [
        "# DESAFIO 01\n",
        "\"\"\"\n",
        "Dada a lista 'almoco', mostre a comida de Catarina.\n",
        "\"\"\"\n",
        "almoco = [\n",
        "    {\"nome\":\"Leandro\", \"comida\": \"Lanche\", \"bebida\": \"Suco de Laranja\"},\n",
        "    {\"nome\":\"Celia\", \"comida\": \"Lasanha\", \"bebida\": \"Suco de uva\"},\n",
        "    {\"nome\":\"Catarina\", \"comida\": \"Pizza\", \"bebida\": \"Coca-Cola\"}\n",
        "]\n",
        "\n",
        "print(almoco[2]['comida'])"
      ],
      "metadata": {
        "colab": {
          "base_uri": "https://localhost:8080/"
        },
        "id": "k-swl5WxokQk",
        "outputId": "aed9bf34-3ec0-4a8f-d495-78c1b8bbe87f"
      },
      "execution_count": 39,
      "outputs": [
        {
          "output_type": "stream",
          "name": "stdout",
          "text": [
            "Pizza\n"
          ]
        }
      ]
    },
    {
      "cell_type": "code",
      "source": [
        "# DESAFIO 02\n",
        "\"\"\"\n",
        "Com a lista do DESAFIO anterior, exiba uma lista com o nome da pessoa e o que ela come.\n",
        "\"\"\"\n",
        "almoco = [\n",
        "    {\"nome\":\"Leandro\", \"comida\": \"Lanche\", \"bebida\": \"Suco de Laranja\"},\n",
        "    {\"nome\":\"Celia\", \"comida\": \"Lasanha\", \"bebida\": \"Suco de uva\"},\n",
        "    {\"nome\":\"Catarina\", \"comida\": \"Pizza\", \"bebida\": \"Coca-Cola\"}\n",
        "]\n",
        "\n",
        "for pessoa in almoco:\n",
        "    print(f\"{pessoa['nome']} come {pessoa['comida']} e bebe {pessoa['bebida']}\")\n"
      ],
      "metadata": {
        "colab": {
          "base_uri": "https://localhost:8080/"
        },
        "id": "3ijQL08ypvbn",
        "outputId": "f4a3ffdf-a937-4911-8ae2-1722612ccc9e"
      },
      "execution_count": 74,
      "outputs": [
        {
          "output_type": "stream",
          "name": "stdout",
          "text": [
            "Leandro come Lanche e bebe Suco de Laranja\n",
            "Celia come Lasanha e bebe Suco de uva\n",
            "Catarina come Pizza e bebe Coca-Cola\n"
          ]
        }
      ]
    },
    {
      "cell_type": "code",
      "source": [
        "# DESAFIO 03\n",
        "\"\"\"\n",
        "Faça  um programa que leia o nome e média de um aluno, guardando também a\n",
        "situação em um dicionário.\n",
        "(Abaixo de 5: Reprovado | entre 5 e 6,9: Exame | 7: acima Aprovado)\n",
        "No final mostre o conteúdo da estrutura na tela.\n",
        "\"\"\"\n",
        "aluno = {}\n",
        "boletim = []\n",
        "\n",
        "\n",
        "\n",
        "for _ in range(2):\n",
        "    aluno['nome'] = input(\"Digite o nome do aluno: \")\n",
        "    aluno['media'] = float(input(\"Digite a média: \"))\n",
        "    aluno['situacao'] = 'Aprovado'\n",
        "    if aluno['media'] < 5:\n",
        "      aluno['situacao'] = '\\033[31mReprovado\\033[0m'\n",
        "    elif aluno['media'] >= 5 and aluno['media'] <= 6.9:\n",
        "      aluno['situacao'] = '\\033[33mEm recuperação\\033[0m'\n",
        "    else:\n",
        "      aluno['situacao'] = '\\033[32mAprovado\\033[0m'\n",
        "    boletim.append(aluno.copy())\n",
        "\n",
        "for alunos in boletim:\n",
        "  print(f\"Nome: {alunos['nome']} | Média: {alunos['media']} | Situação: {alunos['situacao']}\")"
      ],
      "metadata": {
        "id": "p2r3ZtenuUm7"
      },
      "execution_count": null,
      "outputs": []
    }
  ]
}